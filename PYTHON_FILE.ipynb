{
  "nbformat": 4,
  "nbformat_minor": 0,
  "metadata": {
    "colab": {
      "provenance": []
    },
    "kernelspec": {
      "name": "python3",
      "display_name": "Python 3"
    },
    "language_info": {
      "name": "python"
    }
  },
  "cells": [
    {
      "cell_type": "markdown",
      "source": [
        "🖨️ outputs: Hello, World!"
      ],
      "metadata": {
        "id": "uAUk_Woe1FDK"
      }
    },
    {
      "cell_type": "code",
      "execution_count": null,
      "metadata": {
        "colab": {
          "base_uri": "https://localhost:8080/"
        },
        "id": "_RRtWlDSFvKO",
        "outputId": "7f0c660f-002f-4511-956f-2a7e13529b95"
      },
      "outputs": [
        {
          "output_type": "stream",
          "name": "stdout",
          "text": [
            "Hello, World!\n"
          ]
        }
      ],
      "source": [
        "print(\"Hello, World!\")"
      ]
    },
    {
      "cell_type": "markdown",
      "source": [
        "🔌 Load system-specific parameters and functions\n",
        "🧠 Print current Python version info (major.minor.micro and build)    "
      ],
      "metadata": {
        "id": "xiYwsIcf1T4m"
      }
    },
    {
      "cell_type": "code",
      "source": [
        "import sys\n",
        "\n",
        "print(sys.version)"
      ],
      "metadata": {
        "colab": {
          "base_uri": "https://localhost:8080/"
        },
        "id": "dVdysB3uGFsv",
        "outputId": "0896f21c-0bfb-46bf-915d-f42c32a7748f"
      },
      "execution_count": null,
      "outputs": [
        {
          "output_type": "stream",
          "name": "stdout",
          "text": [
            "3.11.12 (main, Apr  9 2025, 08:55:54) [GCC 11.4.0]\n"
          ]
        }
      ]
    },
    {
      "cell_type": "markdown",
      "source": [
        " # 🤔 Is 5 bigger than 2?\n",
        " ✅ Yes! So print the message 📢"
      ],
      "metadata": {
        "id": "BlJzPnvu1kaE"
      }
    },
    {
      "cell_type": "code",
      "source": [
        "if 5 > 2:\n",
        "  print(\"Five is greater than two!\")"
      ],
      "metadata": {
        "colab": {
          "base_uri": "https://localhost:8080/"
        },
        "id": "7ZGYZMqVGM_2",
        "outputId": "26053f60-aafe-4b82-91b4-e3f0f84812c1"
      },
      "execution_count": null,
      "outputs": [
        {
          "output_type": "stream",
          "name": "stdout",
          "text": [
            "Five is greater than two!\n"
          ]
        }
      ]
    },
    {
      "cell_type": "markdown",
      "source": [
        "📝 This is a comment (ignored by Python)"
      ],
      "metadata": {
        "id": "gKSfCTfq15Zv"
      }
    },
    {
      "cell_type": "code",
      "source": [
        "#This is a comment\n",
        "print(\"Hello, World!\")"
      ],
      "metadata": {
        "colab": {
          "base_uri": "https://localhost:8080/"
        },
        "id": "SzIGly4fGSAe",
        "outputId": "2dc37673-e90a-4012-a705-c1ce7290bd04"
      },
      "execution_count": null,
      "outputs": [
        {
          "output_type": "stream",
          "name": "stdout",
          "text": [
            "Hello, World!\n"
          ]
        }
      ]
    },
    {
      "cell_type": "markdown",
      "source": [
        "🔢 The number 5 is assigned to a variable named x. This means x now stores the value 5.\n",
        "\n",
        "🧑 The word \"John\" is assigned to another variable named y. So y now holds the string \"John\".\n",
        "\n",
        "📤 When you use print(x), Python shows the value stored in x, which is 5.\n",
        "\n",
        "📤 Similarly, print(y) displays the value stored in y, which is \"John\".\n",
        "\n"
      ],
      "metadata": {
        "id": "K92tCLIc2rea"
      }
    },
    {
      "cell_type": "code",
      "source": [
        "x = 5\n",
        "y = \"John\"\n",
        "print(x)\n",
        "print(y)"
      ],
      "metadata": {
        "colab": {
          "base_uri": "https://localhost:8080/"
        },
        "id": "hqY2Q_U_GZD4",
        "outputId": "a4ee1489-7181-4740-9c3b-35e1d3a1d0b1"
      },
      "execution_count": null,
      "outputs": [
        {
          "output_type": "stream",
          "name": "stdout",
          "text": [
            "5\n",
            "John\n"
          ]
        }
      ]
    },
    {
      "cell_type": "markdown",
      "source": [
        "✅ myvar: A simple, lowercase variable name. Valid and commonly used in Python.\n",
        "\n",
        "✅ my_var: Uses an underscore to separate words (snake_case). This is the recommended style in Python.\n",
        "\n",
        "✅ _my_var: The leading underscore is a convention to show this is meant to be \"private\" or for internal use only.\n",
        "\n",
        "✅ myVar: Uses camelCase. While valid, it’s more common in languages like JavaScript — not Pythonic.\n",
        "\n",
        "✅ MYVAR: All uppercase. This is a convention used for constants — values that should not change.\n",
        "\n",
        "✅ myvar2: Variable names can include numbers, just not at the beginning. This is perfectly valid."
      ],
      "metadata": {
        "id": "_nZiPR6k3CBV"
      }
    },
    {
      "cell_type": "code",
      "source": [
        "myvar = \"John\"\n",
        "my_var = \"John\"\n",
        "_my_var = \"John\"\n",
        "myVar = \"John\"\n",
        "MYVAR = \"John\"\n",
        "myvar2 = \"John\""
      ],
      "metadata": {
        "id": "Uo3DND5GGi7M"
      },
      "execution_count": null,
      "outputs": []
    },
    {
      "cell_type": "markdown",
      "source": [
        "The first variable receives \"Orange\".\n",
        "\n",
        "The second variable gets \"Banana\".\n",
        "\n",
        "The third variable is assigned \"Cherry\"."
      ],
      "metadata": {
        "id": "wvzHoUvz3SeS"
      }
    },
    {
      "cell_type": "code",
      "source": [
        "x, y, z = \"Orange\", \"Banana\", \"Cherry\"\n",
        "print(x)\n",
        "print(y)\n",
        "print(z)"
      ],
      "metadata": {
        "colab": {
          "base_uri": "https://localhost:8080/"
        },
        "id": "0dJ7N0WHGpAW",
        "outputId": "d8cf8acf-ee4c-407e-8f07-7ad76e40bed5"
      },
      "execution_count": null,
      "outputs": [
        {
          "output_type": "stream",
          "name": "stdout",
          "text": [
            "Orange\n",
            "Banana\n",
            "Cherry\n"
          ]
        }
      ]
    },
    {
      "cell_type": "markdown",
      "source": [
        "x, y, and z hold the strings \"Python\", \"is\", and \"awesome\".\n",
        "\n",
        "print(x, y, z) prints all three variables in one shot, automatically separating them with spaces — making the output clean and easy to read:\n",
        "Python is awesome\n",
        "\n",
        "Why multiple arguments?\n",
        "Using print this way is more readable and less error-prone than manually concatenating strings with + and adding spaces yourself.\n",
        "\n",
        "Pro tip: You can customize the separator between items with the sep parameter. For example, print(x, y, z, sep=\"-\") prints:\n",
        "Python-is-awesome"
      ],
      "metadata": {
        "id": "FT25ww-j3oLE"
      }
    },
    {
      "cell_type": "code",
      "source": [
        "x = \"Python\"\n",
        "y = \"is\"\n",
        "z = \"awesome\"\n",
        "print(x, y, z)"
      ],
      "metadata": {
        "colab": {
          "base_uri": "https://localhost:8080/"
        },
        "id": "ny3Q2nj9GubJ",
        "outputId": "5149fcee-06e5-4a5c-cab3-d2289ee6cb23"
      },
      "execution_count": null,
      "outputs": [
        {
          "output_type": "stream",
          "name": "stdout",
          "text": [
            "Python is awesome\n"
          ]
        }
      ]
    },
    {
      "cell_type": "markdown",
      "source": [
        "You start with a global variable x set to \"awesome\".\n",
        "\n",
        "Inside the function myfunc(), a local variable x is defined as \"fantastic\".\n",
        "\n",
        "When you call myfunc(), it prints \"Python is fantastic\" because inside the function, x refers to the local \"fantastic\".\n",
        "\n",
        "After the function call, print(\"Python is \" + x) accesses the global x, so it prints \"Python is awesome\".\n",
        "\n"
      ],
      "metadata": {
        "id": "mDTkuzWe3yVt"
      }
    },
    {
      "cell_type": "code",
      "source": [
        "x = \"awesome\"\n",
        "\n",
        "def myfunc():\n",
        "  x = \"fantastic\"\n",
        "  print(\"Python is \" + x)\n",
        "\n",
        "myfunc()\n",
        "\n",
        "print(\"Python is \" + x)"
      ],
      "metadata": {
        "colab": {
          "base_uri": "https://localhost:8080/"
        },
        "id": "KZOarwubG1Yv",
        "outputId": "91ad2bfa-4490-4a69-ed78-e95e89fc3600"
      },
      "execution_count": null,
      "outputs": [
        {
          "output_type": "stream",
          "name": "stdout",
          "text": [
            "Python is fantastic\n",
            "Python is awesome\n"
          ]
        }
      ]
    },
    {
      "cell_type": "markdown",
      "source": [
        "x is assigned the value 5, which is an integer.\n",
        "\n",
        "type(x) asks Python, “What kind of thing is x?”\n",
        "\n",
        "print(type(x)) outputs <class 'int'>, confirming that x is of type integer (int)"
      ],
      "metadata": {
        "id": "2KuBuMNP38Ts"
      }
    },
    {
      "cell_type": "code",
      "source": [
        "x = 5\n",
        "print(type(x))"
      ],
      "metadata": {
        "colab": {
          "base_uri": "https://localhost:8080/"
        },
        "id": "jUDxAQMBG56t",
        "outputId": "823d5a91-9397-4d67-83a4-3562986724f3"
      },
      "execution_count": null,
      "outputs": [
        {
          "output_type": "stream",
          "name": "stdout",
          "text": [
            "<class 'int'>\n"
          ]
        }
      ]
    },
    {
      "cell_type": "markdown",
      "source": [
        "Variables x, y, and z hold decimal numbers — these are called floating-point numbers (float) in Python.\n",
        "\n",
        "Even if a number looks like 1.0 or -35.59, Python treats all of these as floats.\n",
        "\n",
        "Using type() on each variable confirms this by printing <class 'float'> for all three.\n",
        "\n"
      ],
      "metadata": {
        "id": "vaCZIrnm4P1H"
      }
    },
    {
      "cell_type": "code",
      "source": [
        "x = 1.10\n",
        "y = 1.0\n",
        "z = -35.59\n",
        "\n",
        "print(type(x))\n",
        "print(type(y))\n",
        "print(type(z))"
      ],
      "metadata": {
        "colab": {
          "base_uri": "https://localhost:8080/"
        },
        "id": "JPepvJRLHUG7",
        "outputId": "b114f76b-21bd-4751-bc87-400365522214"
      },
      "execution_count": null,
      "outputs": [
        {
          "output_type": "stream",
          "name": "stdout",
          "text": [
            "<class 'float'>\n",
            "<class 'float'>\n",
            "<class 'float'>\n"
          ]
        }
      ]
    },
    {
      "cell_type": "markdown",
      "source": [
        "🔄 Converting to Float in Python\n",
        "When you use float() with an integer, it converts it to a floating-point number (e.g., 1 becomes 1.0).\n",
        "\n",
        "If you apply float() to a float value, it remains unchanged.\n",
        "\n",
        "If you use float() with a numeric string like \"3\" or \"4.2\", it converts the string into a float (3.0 or 4.2).\n",
        "\n",
        "This is useful for standardizing number formats, especially when handling user input or data from files.\n",
        "\n",
        "✅ Just remember: the string must represent a valid number, or it will cause an error."
      ],
      "metadata": {
        "id": "d51oY7wqyJmj"
      }
    },
    {
      "cell_type": "code",
      "source": [
        "x = float(1)     # x will be 1.0\n",
        "y = float(2.8)   # y will be 2.8\n",
        "z = float(\"3\")   # z will be 3.0\n",
        "w = float(\"4.2\") # w will be 4.2"
      ],
      "metadata": {
        "id": "IhZN0UNKHZo_"
      },
      "execution_count": null,
      "outputs": []
    },
    {
      "cell_type": "markdown",
      "source": [
        "Line-by-Line Explanation:\n",
        "print(\"It's alright\")\n",
        "✅ The string uses double quotes, so the apostrophe in It's is safely enclosed.\n",
        "\n",
        "print(\"He is called 'Johnny'\")\n",
        "✅ Double quotes on the outside allow single quotes around 'Johnny' without issue.\n",
        "\n",
        "print('He is called \"Johnny\"')\n",
        "✅ Single quotes on the outside allow double quotes around \"Johnny\" safely.\n",
        "\n"
      ],
      "metadata": {
        "id": "lzUIH824yVnf"
      }
    },
    {
      "cell_type": "code",
      "source": [
        "print(\"It's alright\")\n",
        "print(\"He is called 'Johnny'\")\n",
        "print('He is called \"Johnny\"')"
      ],
      "metadata": {
        "colab": {
          "base_uri": "https://localhost:8080/"
        },
        "id": "YH1GYQvwHktV",
        "outputId": "848d69bb-9932-46c5-fecc-2608defebb7e"
      },
      "execution_count": null,
      "outputs": [
        {
          "output_type": "stream",
          "name": "stdout",
          "text": [
            "It's alright\n",
            "He is called 'Johnny'\n",
            "He is called \"Johnny\"\n"
          ]
        }
      ]
    },
    {
      "cell_type": "markdown",
      "source": [
        "🔍 String Slicing in Python\n",
        "This expression extracts a substring from the string.\n",
        "\n",
        "The notation [:5] means:\n",
        "\n",
        "Start from the beginning (index 0 by default),\n",
        "\n",
        "Go up to, but not including, index 5.\n",
        "\n"
      ],
      "metadata": {
        "id": "7x-7RCstyh5H"
      }
    },
    {
      "cell_type": "code",
      "source": [
        "b = \"Hello, World!\"\n",
        "print(b[:5])"
      ],
      "metadata": {
        "colab": {
          "base_uri": "https://localhost:8080/"
        },
        "id": "TSbPXnDOHqZE",
        "outputId": "ff4dacb5-0267-453c-ea0b-69c484bdf412"
      },
      "execution_count": null,
      "outputs": [
        {
          "output_type": "stream",
          "name": "stdout",
          "text": [
            "Hello\n"
          ]
        }
      ]
    },
    {
      "cell_type": "markdown",
      "source": [
        "🔠 Explanation:\n",
        "The code converts all the characters in the string to uppercase.\n",
        "\n",
        "a.upper() transforms the string \"Hello, World!\" into all capital letters.\n",
        "\n",
        "✅ Output:\n",
        "HELLO, WORLD!"
      ],
      "metadata": {
        "id": "MwLKKRYuyrNR"
      }
    },
    {
      "cell_type": "code",
      "source": [
        "a = \"Hello, World!\"\n",
        "print(a.upper())\n"
      ],
      "metadata": {
        "colab": {
          "base_uri": "https://localhost:8080/"
        },
        "id": "0Npq88nxHyzR",
        "outputId": "960431be-1821-410b-e0ee-e1f9cf94bb70"
      },
      "execution_count": null,
      "outputs": [
        {
          "output_type": "stream",
          "name": "stdout",
          "text": [
            "HELLO, WORLD!\n"
          ]
        }
      ]
    },
    {
      "cell_type": "markdown",
      "source": [
        "➕ Explanation: String Concatenation in Python\n",
        "You are joining two strings: \"Hello\" and \"World\" using the + operator.\n",
        "\n",
        "This process is called concatenation.\n",
        "\n",
        "🧾 What happens:\n",
        "a + b results in \"HelloWorld\" — the two words are joined without a space.\n",
        "\n",
        "✅ Output:\n",
        "nginx\n",
        "Copy\n",
        "Edit\n",
        "HelloWorld"
      ],
      "metadata": {
        "id": "V0uMqf0fzYAc"
      }
    },
    {
      "cell_type": "code",
      "source": [
        "a = \"Hello\"\n",
        "b = \"World\"\n",
        "c = a + b\n",
        "print(c)"
      ],
      "metadata": {
        "colab": {
          "base_uri": "https://localhost:8080/"
        },
        "id": "GpugOBBHH6F5",
        "outputId": "7163d9b2-1160-4ca9-f89f-f255c01ea1ef"
      },
      "execution_count": null,
      "outputs": [
        {
          "output_type": "stream",
          "name": "stdout",
          "text": [
            "HelloWorld\n"
          ]
        }
      ]
    },
    {
      "cell_type": "markdown",
      "source": [
        "You start by storing the number 36 in a variable called age 🎂. Since age is a number, but you want to join it with a sentence (which is text), you need to convert that number into a string using str(). This conversion is important because Python can’t just mix numbers and text directly when using the plus (+) operator — it wants both parts to be strings 🔄.\n",
        "\n",
        "Once converted, you concatenate (join) the sentence \"My name is John, I am \" with the string version of the age, creating one complete sentence 🧩. Finally, you print that full sentence so it shows up on the screen 🖥️.\n",
        "\n",
        "So basically, you’re mixing data types carefully by converting the number into text first, then combining everything smoothly before showing it off! 🐍✨"
      ],
      "metadata": {
        "id": "MxjK1FOxe7dW"
      }
    },
    {
      "cell_type": "code",
      "source": [
        "age = 36\n",
        "txt = \"My name is John, I am \" + str(age)\n",
        "print(txt)"
      ],
      "metadata": {
        "colab": {
          "base_uri": "https://localhost:8080/"
        },
        "id": "3wTSkPvVIAep",
        "outputId": "e7e4727c-36ee-4b0f-9222-3dcd728634e7"
      },
      "execution_count": null,
      "outputs": [
        {
          "output_type": "stream",
          "name": "stdout",
          "text": [
            "My name is John, I am 36\n"
          ]
        }
      ]
    },
    {
      "cell_type": "markdown",
      "source": [
        "You have a string assigned to txt that includes double quotes inside the text — around the word Vikings. But since the entire string itself is wrapped in double quotes \"...\", you can’t just put double quotes inside without a little help. 🤯\n",
        "\n",
        "To include double quotes inside a double-quoted string, you use the escape character \\ right before the double quotes you want to keep as part of the text. This tells Python: “Hey, these double quotes are not the end of the string, just part of the content!” 🛡️✨\n",
        "\n",
        "So \\\"Vikings\\\" means the quotes around Vikings will appear in the output exactly as double quotes, like:\n",
        "\n",
        "We are the so-called \"Vikings\" from the north. 🛶⚔️\n",
        "\n",
        "In short:\n",
        "The backslash \\ escapes the quotes so Python treats them as characters inside the string, not as string delimiters! 🐍💡\n",
        "\n",
        "\n",
        "\n",
        "\n",
        "\n",
        "\n",
        "\n"
      ],
      "metadata": {
        "id": "ZgZfksfUfT0l"
      }
    },
    {
      "cell_type": "code",
      "source": [
        "txt = \"We are the so-called \\\"Vikings\\\" from the north.\""
      ],
      "metadata": {
        "id": "Y8dipU5FI2I6"
      },
      "execution_count": null,
      "outputs": []
    },
    {
      "cell_type": "markdown",
      "source": [
        "print(\"It's alright\")\n",
        "You’re using double quotes \" to wrap the string, so you can safely include a single quote ' inside without any problem. Python treats the ' as a normal character here. Easy! 👍🦾\n",
        "\n",
        "print(\"He is called 'Johnny'\")\n",
        "Again, double quotes wrap the string, so single quotes inside ('Johnny') are part of the string itself. No need for escaping. This is super clean for including quotes inside strings. 🧩✨\n",
        "\n",
        "print('He is called \"Johnny\"')\n",
        "Here, the string is wrapped in single quotes '...', so you can safely include double quotes \" inside without escaping. Perfect for when you want double quotes inside your text. 🎯\n",
        "\n",
        "Summary:"
      ],
      "metadata": {
        "id": "RGnSR6kxfcJ1"
      }
    },
    {
      "cell_type": "code",
      "source": [
        "print(\"It's alright\")\n",
        "print(\"He is called 'Johnny'\")\n",
        "print('He is called \"Johnny\"')"
      ],
      "metadata": {
        "colab": {
          "base_uri": "https://localhost:8080/"
        },
        "id": "JJWmmA1jI3CF",
        "outputId": "31b414a3-da05-42ce-d7c4-3c1153a7da4c"
      },
      "execution_count": null,
      "outputs": [
        {
          "output_type": "stream",
          "name": "stdout",
          "text": [
            "It's alright\n",
            "He is called 'Johnny'\n",
            "He is called \"Johnny\"\n"
          ]
        }
      ]
    },
    {
      "cell_type": "markdown",
      "source": [
        "Negative indexes count from the end of the string, starting at -1 for the last character.\n",
        "\n",
        "So, b[-5] means the 5th character from the end, and b[-2] means the 2nd character from the end.\n",
        "\n",
        "The slice b[-5:-2] grabs characters starting at -5 (inclusive) up to -2 (exclusive) — Python slices always exclude the last index. 🚀\n",
        "\n",
        "In \"Hello, World!\", here’s the negative index mapping:\n",
        "\n",
        "Char\tIndex\tNegative Index\n",
        "H\t0\t-13\n",
        "e\t1\t-12\n",
        "l\t2\t-11\n",
        "l\t3\t-10\n",
        "o\t4\t-9\n",
        ",\t5\t-8\n",
        "6\t-7\n",
        "W\t7\t-6\n",
        "o\t8\t-5\n",
        "r\t9\t-4\n",
        "l\t10\t-3\n",
        "d\t11\t-2\n",
        "!\t12\t-1\n",
        "\n",
        "So b[-5:-2] extracts the characters \"orl\" 🧩.\n",
        "\n",
        "Summary:\n",
        "Negative slicing lets you count backward from the end of a string, and slicing goes up to but does not include the stop index. Here, you get characters from the 5th-last up to just before the 2nd-last character! 🐍✨"
      ],
      "metadata": {
        "id": "dQZJOxBXfmzh"
      }
    },
    {
      "cell_type": "code",
      "source": [
        "b = \"Hello, World!\"\n",
        "print(b[-5:-2])"
      ],
      "metadata": {
        "colab": {
          "base_uri": "https://localhost:8080/"
        },
        "id": "nj-xfPejJDCz",
        "outputId": "e129e757-9423-4bb3-eabe-17d313507bd3"
      },
      "execution_count": null,
      "outputs": [
        {
          "output_type": "stream",
          "name": "stdout",
          "text": [
            "orl\n"
          ]
        }
      ]
    },
    {
      "cell_type": "markdown",
      "source": [
        "You have the string a = \"Hello, World!\" 🌍, and you use the .upper() method to transform all the letters in the string into uppercase 🔠.\n",
        "\n",
        ".upper() is a string method that doesn’t change the original string but returns a new string where every lowercase letter is converted to uppercase.\n",
        "\n",
        "So \"Hello, World!\" becomes \"HELLO, WORLD!\" — all capital letters, while punctuation and spaces stay the same. ✨\n",
        "\n",
        "When you print(a.upper()), Python outputs the uppercase version:\n",
        "\n",
        "Copy\n",
        "Edit\n",
        "HELLO, WORLD!\n",
        "In short:\n",
        ".upper() is your quick tool to shout your strings in uppercase! 📢🐍"
      ],
      "metadata": {
        "id": "F3Wb11SrfxYo"
      }
    },
    {
      "cell_type": "code",
      "source": [
        "a = \"Hello, World!\"\n",
        "print(a.upper())"
      ],
      "metadata": {
        "colab": {
          "base_uri": "https://localhost:8080/"
        },
        "id": "0OSNLaDTJQ87",
        "outputId": "5dcdea70-2d22-4688-814e-23fcc956dae4"
      },
      "execution_count": null,
      "outputs": [
        {
          "output_type": "stream",
          "name": "stdout",
          "text": [
            "HELLO, WORLD!\n"
          ]
        }
      ]
    },
    {
      "cell_type": "markdown",
      "source": [
        "You have two strings, a = \"Hello\" and b = \"World\" 🌍.\n",
        "\n",
        "When you do c = a + \" \" + b, you’re concatenating (joining) these pieces together:\n",
        "\n",
        "a is \"Hello\"\n",
        "\n",
        "\" \" is a space character to separate the words 🛑\n",
        "\n",
        "b is \"World\"\n",
        "\n",
        "So the result stored in c is \"Hello World\" — the two words joined with a space in between 🧩.\n",
        "\n",
        "When you print(c), Python shows:\n",
        "\n",
        "nginx\n",
        "Copy\n",
        "Edit\n",
        "Hello World\n",
        "Summary:\n",
        "You combined two strings with a space between them using the + operator — simple and effective string joining! 🐍✨"
      ],
      "metadata": {
        "id": "BDSOXiXFf_E5"
      }
    },
    {
      "cell_type": "code",
      "source": [
        "a = \"Hello\"\n",
        "b = \"World\"\n",
        "c = a + \" \" + b\n",
        "print(c)"
      ],
      "metadata": {
        "colab": {
          "base_uri": "https://localhost:8080/"
        },
        "id": "dgmCIBC_JiU8",
        "outputId": "f27438cb-7d40-4ee0-d707-3e159e2f937b"
      },
      "execution_count": null,
      "outputs": [
        {
          "output_type": "stream",
          "name": "stdout",
          "text": [
            "Hello World\n"
          ]
        }
      ]
    },
    {
      "cell_type": "markdown",
      "source": [
        "You start with a number age = 36 🎂, but since you want to combine this number with text, you need to convert it to a string first using str(age) 🔄. This is because Python can’t add numbers and strings directly — they have to be the same type to join with +.\n",
        "\n",
        "So \"My name is John, I am \" (a string) plus str(age) (also a string) creates one full sentence:\n",
        "\n",
        "\"My name is John, I am 36\" 🧩\n",
        "\n",
        "Finally, print(txt) outputs this combined message to the screen 🖥️.\n",
        "\n",
        "In short:\n",
        "Convert numbers to strings when mixing with text, then join them smoothly! 🐍✨"
      ],
      "metadata": {
        "id": "l8s6hmPbgKYs"
      }
    },
    {
      "cell_type": "code",
      "source": [
        "age = 36\n",
        "txt = \"My name is John, I am \" + str(age) # Convert age to a string before concatenation\n",
        "print(txt)"
      ],
      "metadata": {
        "colab": {
          "base_uri": "https://localhost:8080/"
        },
        "id": "5czJVh1sJnpx",
        "outputId": "94e7ded9-5aab-4f06-a1c3-50f2b34ea0cb"
      },
      "execution_count": null,
      "outputs": [
        {
          "output_type": "stream",
          "name": "stdout",
          "text": [
            "My name is John, I am 36\n"
          ]
        }
      ]
    },
    {
      "cell_type": "code",
      "source": [
        "txt = \"We are the so-called \\\"Vikings\\\" from the north.\"\n"
      ],
      "metadata": {
        "id": "R9mMBhaxJuzb"
      },
      "execution_count": null,
      "outputs": []
    },
    {
      "cell_type": "markdown",
      "source": [
        "You have two variables, a = 200 and b = 33 🔢.\n",
        "\n",
        "The if statement checks a condition: Is b greater than a? (b > a) 🤔\n",
        "\n",
        "If this condition is True, Python runs the code inside the if block and prints:\n",
        "\"b is greater than a\" ✅\n",
        "\n",
        "If the condition is False (which it is here, because 33 is not greater than 200), Python runs the code inside the else block and prints:\n",
        "\"b is not greater than a\" ❌\n",
        "\n",
        "This is basic conditional logic — making decisions based on comparisons! 🧠✨"
      ],
      "metadata": {
        "id": "r-pXeahMg8gP"
      }
    },
    {
      "cell_type": "code",
      "source": [
        "a = 200\n",
        "b = 33\n",
        "\n",
        "if b > a:\n",
        "  print(\"b is greater than a\")\n",
        "else:\n",
        "  print(\"b is not greater than a\")"
      ],
      "metadata": {
        "colab": {
          "base_uri": "https://localhost:8080/"
        },
        "id": "cpd6ZNGGKCg7",
        "outputId": "5f5f9c63-4f66-4045-cd64-081dab939aa8"
      },
      "execution_count": null,
      "outputs": [
        {
          "output_type": "stream",
          "name": "stdout",
          "text": [
            "b is not greater than a\n"
          ]
        }
      ]
    },
    {
      "cell_type": "markdown",
      "source": [
        "You start with a number age = 36 🎂, but since you want to combine this number with text, you need to convert it to a string first using str(age) 🔄. This is because Python can’t add numbers and strings directly — they have to be the same type to join with +.\n",
        "\n",
        "So \"My name is John, I am \" (a string) plus str(age) (also a string) creates one full sentence:\n",
        "\n",
        "\"My name is John, I am 36\" 🧩\n",
        "\n",
        "Finally, print(txt) outputs this combined message to the screen 🖥️.\n",
        "\n",
        "In short:\n",
        "Convert numbers to strings when mixing with text, then join them smoothly! 🐍✨"
      ],
      "metadata": {
        "id": "pDza-WO7g0fd"
      }
    },
    {
      "cell_type": "code",
      "source": [
        "print(10 + 5)"
      ],
      "metadata": {
        "colab": {
          "base_uri": "https://localhost:8080/"
        },
        "id": "8Z0fPLPnKZ0c",
        "outputId": "8eae38f8-1c5a-4de4-dc11-58d2d43409cc"
      },
      "execution_count": null,
      "outputs": [
        {
          "output_type": "stream",
          "name": "stdout",
          "text": [
            "15\n"
          ]
        }
      ]
    },
    {
      "cell_type": "markdown",
      "source": [
        "You created a list called list1 📝. Lists in Python are like ordered collections — you can store multiple items inside one variable!\n",
        "\n",
        "What’s cool here is that your list holds different types of data together in one place:\n",
        "\n",
        "\"abc\" (a string) 🅰️\n",
        "\n",
        "34 (an integer) 🔢\n",
        "\n",
        "True (a boolean) ✅\n",
        "\n",
        "40 (another integer) 🔢\n",
        "\n",
        "\"male\" (another string) 👨"
      ],
      "metadata": {
        "id": "sKikMselhRyP"
      }
    },
    {
      "cell_type": "code",
      "source": [
        "list1 = [\"abc\", 34, True, 40, \"male\"]"
      ],
      "metadata": {
        "id": "HIorZFvVKwvE"
      },
      "execution_count": null,
      "outputs": []
    },
    {
      "cell_type": "markdown",
      "source": [
        "You have a list called thislist containing [\"apple\", \"banana\", \"cherry\"] 🍎🍌🍒.\n",
        "\n",
        "When you do print(thislist[1]), you’re accessing the element at index 1 in the list. Remember, Python uses zero-based indexing, so:\n",
        "\n",
        "Index 0 → \"apple\" 🍎\n",
        "\n",
        "Index 1 → \"banana\" 🍌\n",
        "\n",
        "Index 2 → \"cherry\" 🍒\n",
        "\n",
        "So, thislist[1] fetches \"banana\", and that’s what gets printed on the screen 🖥️.\n",
        "\n",
        "Summary:\n",
        "Lists start counting at zero, so thislist[1] picks the second item — \"banana\"! 🐍✨"
      ],
      "metadata": {
        "id": "ETEyFRothugw"
      }
    },
    {
      "cell_type": "code",
      "source": [
        "thislist = [\"apple\", \"banana\", \"cherry\"]\n",
        "print(thislist[1])"
      ],
      "metadata": {
        "colab": {
          "base_uri": "https://localhost:8080/"
        },
        "id": "_ytLF8eOK9vU",
        "outputId": "2695e40e-1735-4121-c198-4b928d15b083"
      },
      "execution_count": null,
      "outputs": [
        {
          "output_type": "stream",
          "name": "stdout",
          "text": [
            "banana\n"
          ]
        }
      ]
    },
    {
      "cell_type": "markdown",
      "source": [
        "You have a list called thislist 🍎🍌🍒 with three fruits.\n",
        "\n",
        "When you do thislist[1] = \"blackcurrant\", you’re changing the item at index 1 (which was \"banana\") to \"blackcurrant\" 🍇.\n",
        "\n",
        "Lists in Python are mutable, meaning you can change their elements after creation — super handy! 🔄\n",
        "\n",
        "So after this change, thislist becomes:\n",
        "\n",
        "css\n",
        "Copy\n",
        "[\"apple\", \"blackcurrant\", \"cherry\"]\n",
        "When you print(thislist), Python shows the updated list with the replaced item.\n",
        "\n",
        "Summary:\n",
        "Lists let you update specific elements by their index — here, you swapped \"banana\" for \"blackcurrant\"! 🐍✨"
      ],
      "metadata": {
        "id": "h3i_6NCJh13H"
      }
    },
    {
      "cell_type": "code",
      "source": [
        "thislist = [\"apple\", \"banana\", \"cherry\"]\n",
        "thislist[1] = \"blackcurrant\"\n",
        "print(thislist)"
      ],
      "metadata": {
        "colab": {
          "base_uri": "https://localhost:8080/"
        },
        "id": "HOO3u7H-LGYV",
        "outputId": "aa8289e9-ddd6-4cd2-8b3b-4950993e4dcd"
      },
      "execution_count": null,
      "outputs": [
        {
          "output_type": "stream",
          "name": "stdout",
          "text": [
            "['apple', 'blackcurrant', 'cherry']\n"
          ]
        }
      ]
    },
    {
      "cell_type": "markdown",
      "source": [
        "You have a list called thislist 🍎🍌🍒, and you use the .append() method to add a new item \"orange\" 🍊 to the end of the list.\n",
        "\n",
        ".append() is like putting another fruit into your basket without disturbing the others! 🧺\n",
        "\n",
        "After appending, thislist becomes:\n",
        "[\"apple\", \"banana\", \"cherry\", \"orange\"]\n",
        "\n",
        "When you print(thislist), Python shows the updated list with the new fruit added.\n",
        "\n",
        "Summary:\n",
        ".append() lets you grow your list by adding new items at the end — simple and powerful! 🐍✨"
      ],
      "metadata": {
        "id": "7UTr25EmiDgh"
      }
    },
    {
      "cell_type": "code",
      "source": [
        "thislist = [\"apple\", \"banana\", \"cherry\"]\n",
        "thislist.append(\"orange\")\n",
        "print(thislist)"
      ],
      "metadata": {
        "colab": {
          "base_uri": "https://localhost:8080/"
        },
        "id": "3SMoroyLLfU3",
        "outputId": "40a2fb30-637e-495d-85d9-a9b9b3786cb7"
      },
      "execution_count": null,
      "outputs": [
        {
          "output_type": "stream",
          "name": "stdout",
          "text": [
            "['apple', 'banana', 'cherry', 'orange']\n"
          ]
        }
      ]
    },
    {
      "cell_type": "markdown",
      "source": [
        "You have a list thislist with fruits, including two \"banana\" entries 🍎🍌🍒🍌🥝.\n",
        "\n",
        "When you call thislist.remove(\"banana\"), Python removes the first occurrence of \"banana\" it finds in the list — that means the first \"banana\" from the left gets deleted. 🧹\n",
        "\n",
        "So after removal, the list becomes:\n",
        "[\"apple\", \"cherry\", \"banana\", \"kiwi\"]\n",
        "\n",
        "The second \"banana\" stays because .remove() only deletes one match at a time.\n",
        "\n",
        "When you print(thislist), you see the updated list without the first \"banana\".\n",
        "\n",
        "Summary:\n",
        ".remove() deletes the first matching item from the list — handy for cleaning up! 🐍✨"
      ],
      "metadata": {
        "id": "R7t1fW80iSrB"
      }
    },
    {
      "cell_type": "code",
      "source": [
        "thislist = [\"apple\", \"banana\", \"cherry\", \"banana\", \"kiwi\"]\n",
        "thislist.remove(\"banana\")\n",
        "print(thislist)"
      ],
      "metadata": {
        "colab": {
          "base_uri": "https://localhost:8080/"
        },
        "id": "Wo67OWi7Llq0",
        "outputId": "9d91b6cd-976a-43bb-ebea-2ddc38455e14"
      },
      "execution_count": null,
      "outputs": [
        {
          "output_type": "stream",
          "name": "stdout",
          "text": [
            "['apple', 'cherry', 'banana', 'kiwi']\n"
          ]
        }
      ]
    },
    {
      "cell_type": "markdown",
      "source": [
        "You have a list called thislist 🍎🍌🍒 with three fruits.\n",
        "\n",
        "Using the for loop:\n",
        "\n",
        "python\n",
        "Copy\n",
        "for x in thislist:\n",
        "  print(x)\n",
        "means Python will go through each item in the list, one by one, and assign it to the variable x each time. Then it prints x.\n",
        "\n",
        "So the output will be:\n",
        "\n",
        "nginx\n",
        "Copy\n",
        "apple\n",
        "banana\n",
        "cherry\n",
        "This is how you iterate over a list — very Pythonic and clean! 🔄🐍\n",
        "\n",
        "Summary:\n",
        "The for loop walks through the list and prints each fruit individually — a simple way to handle lists element-by-element! ✨"
      ],
      "metadata": {
        "id": "sF1cPgB6iaDY"
      }
    },
    {
      "cell_type": "code",
      "source": [
        "thislist = [\"apple\", \"banana\", \"cherry\"]\n",
        "for x in thislist:\n",
        "  print(x)"
      ],
      "metadata": {
        "colab": {
          "base_uri": "https://localhost:8080/"
        },
        "id": "3QbSz_VKL1zy",
        "outputId": "0925894f-e256-4e64-b513-433e5b08b117"
      },
      "execution_count": null,
      "outputs": [
        {
          "output_type": "stream",
          "name": "stdout",
          "text": [
            "apple\n",
            "banana\n",
            "cherry\n"
          ]
        }
      ]
    },
    {
      "cell_type": "markdown",
      "source": [
        "You have a list called fruits 🍎🍌🍒🥝🥭 and an empty list newlist 📝 ready to collect some fruits.\n",
        "\n",
        "The for loop goes through each fruit in fruits, one by one. For every fruit x, it checks if the letter \"a\" is in the fruit’s name (if \"a\" in x:) 🔍.\n",
        "\n",
        "If the fruit’s name contains \"a\", it adds (append) that fruit to newlist 🍏🧩.\n",
        "\n",
        "So after the loop runs, newlist will contain all fruits from fruits that have the letter \"a\" in their names.\n",
        "\n",
        "In this case, newlist will be:\n",
        "\n",
        "python\n",
        "Copy\n",
        "[\"apple\", \"banana\", \"mango\"]\n",
        "because these fruits have \"a\" in their names.\n",
        "\n",
        "Summary:\n",
        "You’re filtering the original list to create a new list with fruits that include the letter \"a\" — a neat way to pick out items based on conditions! 🐍✨\n",
        "\n",
        "\n",
        "\n",
        "\n",
        "\n",
        "\n"
      ],
      "metadata": {
        "id": "JILMtd31iluL"
      }
    },
    {
      "cell_type": "code",
      "source": [
        "fruits = [\"apple\", \"banana\", \"cherry\", \"kiwi\", \"mango\"]\n",
        "newlist = []\n",
        "\n",
        "for x in fruits:\n",
        "  if \"a\" in x:\n",
        "    newlist.append(x)\n",
        "\n",
        "print(newlist)"
      ],
      "metadata": {
        "colab": {
          "base_uri": "https://localhost:8080/"
        },
        "id": "ZRH36fXSL--w",
        "outputId": "53d7dc90-d675-4b32-b800-534eb8f4c376"
      },
      "execution_count": null,
      "outputs": [
        {
          "output_type": "stream",
          "name": "stdout",
          "text": [
            "['apple', 'banana', 'mango']\n"
          ]
        }
      ]
    },
    {
      "cell_type": "markdown",
      "source": [
        "Here’s the Pythonist explanation with emojis:\n",
        "\n",
        "You have a list called thislist with numbers: [100, 50, 65, 82, 23] 🔢.\n",
        "\n",
        "When you use the .sort() method, Python rearranges the list in ascending order — from smallest to largest 🆙.\n",
        "\n",
        "So after sorting, thislist becomes:\n",
        "\n",
        "csharp\n",
        "Copy\n",
        "[23, 50, 65, 82, 100]\n",
        "When you print(thislist), you see the numbers nicely ordered.\n",
        "\n",
        "Summary:\n",
        ".sort() organizes your list’s elements in ascending order, making it easy to find the smallest or largest values! 🐍✨"
      ],
      "metadata": {
        "id": "Ppzhh8VeiycL"
      }
    },
    {
      "cell_type": "code",
      "source": [
        "thislist = [100, 50, 65, 82, 23]\n",
        "thislist.sort()\n",
        "print(thislist)"
      ],
      "metadata": {
        "colab": {
          "base_uri": "https://localhost:8080/"
        },
        "id": "RxM7Vp_yMKbs",
        "outputId": "0b98eb47-e633-48b0-ca02-652a672c06e9"
      },
      "execution_count": null,
      "outputs": [
        {
          "output_type": "stream",
          "name": "stdout",
          "text": [
            "[23, 50, 65, 82, 100]\n"
          ]
        }
      ]
    },
    {
      "cell_type": "markdown",
      "source": [
        "You start with a list called thislist 🍎🍌🍒.\n",
        "\n",
        "When you do mylist = list(thislist), you’re creating a new list called mylist that is a copy of thislist 📋✨.\n",
        "\n",
        "list() is a built-in Python function that takes any iterable (like a list) and makes a new list out of it.\n",
        "\n",
        "This way, mylist and thislist are two separate lists — changing one won’t affect the other 🔄.\n",
        "\n",
        "When you print(mylist), Python shows:\n",
        "\n",
        "css\n",
        "Copy\n",
        "['apple', 'banana', 'cherry']"
      ],
      "metadata": {
        "id": "43uq_eS-jZ32"
      }
    },
    {
      "cell_type": "code",
      "source": [
        "thislist = [\"apple\", \"banana\", \"cherry\"]\n",
        "mylist = list(thislist)\n",
        "print(mylist)"
      ],
      "metadata": {
        "colab": {
          "base_uri": "https://localhost:8080/"
        },
        "id": "PxGlxwj1MbAy",
        "outputId": "ff89fa2e-50f4-49dc-c9c5-ee156bc16251"
      },
      "execution_count": null,
      "outputs": [
        {
          "output_type": "stream",
          "name": "stdout",
          "text": [
            "['apple', 'banana', 'cherry']\n"
          ]
        }
      ]
    },
    {
      "cell_type": "markdown",
      "source": [
        "ou have two lists:\n",
        "\n",
        "list1 = [\"a\", \"b\", \"c\"] — strings 🅰️🅱️🅾️\n",
        "\n",
        "list2 = [1, 2, 3] — numbers 🔢\n",
        "\n",
        "When you do list3 = list1 + list2, Python concatenates (joins) these two lists into a new one!\n",
        "\n",
        "So, list3 becomes:\n",
        "\n",
        "python\n",
        "Copy\n",
        "[\"a\", \"b\", \"c\", 1, 2, 3]\n",
        "When you print(list3), you see both lists combined, keeping their order intact.\n",
        "\n",
        "Summary:\n",
        "Using + with lists merges them into one bigger list — easy and powerful! 🐍✨"
      ],
      "metadata": {
        "id": "ZfxPrhPGjhbu"
      }
    },
    {
      "cell_type": "code",
      "source": [
        "list1 = [\"a\", \"b\", \"c\"]\n",
        "list2 = [1, 2, 3]\n",
        "\n",
        "list3 = list1 + list2\n",
        "print(list3)"
      ],
      "metadata": {
        "colab": {
          "base_uri": "https://localhost:8080/"
        },
        "id": "YWCRSbhBMiL0",
        "outputId": "f24bf204-9605-43e5-9bc6-011229944660"
      },
      "execution_count": null,
      "outputs": [
        {
          "output_type": "stream",
          "name": "stdout",
          "text": [
            "['a', 'b', 'c', 1, 2, 3]\n"
          ]
        }
      ]
    },
    {
      "cell_type": "markdown",
      "source": [
        "You have a tuple called thistuple 🍎🍌🍒, which is like a list but immutable (can’t be changed after creation) 🔒.\n",
        "\n",
        "When you do print(thistuple[1]), you’re accessing the element at index 1 — remember, Python counts starting from zero!\n",
        "\n",
        "So:\n",
        "\n",
        "Index 0 → \"apple\" 🍎\n",
        "\n",
        "Index 1 → \"banana\" 🍌\n",
        "\n",
        "Index 2 → \"cherry\" 🍒\n",
        "\n",
        "The output will be \"banana\".\n",
        "\n",
        "Summary:"
      ],
      "metadata": {
        "id": "UJnxt6x6jtB9"
      }
    },
    {
      "cell_type": "code",
      "source": [
        "thistuple = (\"apple\", \"banana\", \"cherry\")\n",
        "print(thistuple[1])"
      ],
      "metadata": {
        "colab": {
          "base_uri": "https://localhost:8080/"
        },
        "id": "Otav95ZQMnaF",
        "outputId": "41aad57e-658b-4d10-e770-d2c8328a8595"
      },
      "execution_count": null,
      "outputs": [
        {
          "output_type": "stream",
          "name": "stdout",
          "text": [
            "banana\n"
          ]
        }
      ]
    },
    {
      "cell_type": "markdown",
      "source": [
        "You start with a tuple thistuple 🍎🍌🍒 and want to add another item \"orange\" 🍊 to it.\n",
        "\n",
        "Since tuples are immutable (can’t be changed), you can’t just append like lists.\n",
        "\n",
        "But you can concatenate tuples to make a new one!\n",
        "\n",
        "Here, y = (\"orange\",) is a tuple with one item (note the comma — it’s needed to make it a tuple!).\n",
        "\n",
        "When you do thistuple += y, Python creates a new tuple combining the old one and y, like this:\n",
        "\n",
        "arduino\n",
        "Copy\n",
        "(\"apple\", \"banana\", \"cherry\", \"orange\")\n",
        "When you print(thistuple), you see the updated tuple with the new fruit added at the end."
      ],
      "metadata": {
        "id": "MU4q-EAHkIr1"
      }
    },
    {
      "cell_type": "code",
      "source": [
        "thistuple = (\"apple\", \"banana\", \"cherry\")\n",
        "y = (\"orange\",)\n",
        "thistuple += y\n",
        "\n",
        "print(thistuple)"
      ],
      "metadata": {
        "colab": {
          "base_uri": "https://localhost:8080/"
        },
        "id": "Xw2KFA0qNLAO",
        "outputId": "67c8d6ae-223f-4813-e261-28464365fb2d"
      },
      "execution_count": null,
      "outputs": [
        {
          "output_type": "stream",
          "name": "stdout",
          "text": [
            "('apple', 'banana', 'cherry', 'orange')\n"
          ]
        }
      ]
    },
    {
      "cell_type": "markdown",
      "source": [
        "You have a tuple called fruits 🍎🍌🍒🍓🍇 with five fruits.\n",
        "\n",
        "In this line:\n",
        "\n",
        "python\n",
        "Copy\n",
        "(green, yellow, *red) = fruits\n",
        "You’re unpacking the tuple into variables.\n",
        "\n",
        "green gets the first item → \"apple\" 🍏\n",
        "\n",
        "yellow gets the second item → \"banana\" 🍌\n",
        "\n",
        "*red uses the star operator to collect all remaining items into a list → [\"cherry\", \"strawberry\", \"raspberry\"] 🍒🍓🍇\n",
        "\n",
        "So when you print:\n",
        "\n",
        "python\n",
        "Copy\n",
        "print(green)   # apple\n",
        "print(yellow)  # banana\n",
        "print(red)     # ['cherry', 'strawberry', 'raspberry']\n",
        "You get the first two fruits as separate variables and the rest as a list inside red.\n",
        "\n",
        "Summary:\n",
        "Using * during unpacking lets you grab multiple leftover items as a list — very handy for flexible assignments! 🐍✨\n",
        "\n",
        "\n",
        "\n",
        "\n",
        "\n",
        "\n"
      ],
      "metadata": {
        "id": "KOx5g7xykRG8"
      }
    },
    {
      "cell_type": "code",
      "source": [
        "fruits = (\"apple\", \"banana\", \"cherry\", \"strawberry\", \"raspberry\")\n",
        "\n",
        "(green, yellow, *red) = fruits\n",
        "\n",
        "print(green)\n",
        "print(yellow)\n",
        "print(red)\n"
      ],
      "metadata": {
        "colab": {
          "base_uri": "https://localhost:8080/"
        },
        "id": "SxfOaOv4NPq3",
        "outputId": "9dcda3ef-f22c-4d0d-8095-ca41465a8c5c"
      },
      "execution_count": null,
      "outputs": [
        {
          "output_type": "stream",
          "name": "stdout",
          "text": [
            "apple\n",
            "banana\n",
            "['cherry', 'strawberry', 'raspberry']\n"
          ]
        }
      ]
    },
    {
      "cell_type": "markdown",
      "source": [
        "You have a tuple called thistuple 🍎🍌🍒.\n",
        "\n",
        "Using a for loop:\n",
        "\n",
        "python\n",
        "Copy\n",
        "for x in thistuple:\n",
        "  print(x)\n",
        "Python goes through each item in the tuple one by one, assigning it to x each time, then prints it.\n",
        "\n",
        "So the output will be:\n",
        "\n",
        "nginx\n",
        "Copy\n",
        "apple\n",
        "banana\n",
        "cherry\n",
        "This is how you iterate over a tuple — just like a list — even though tuples are immutable 🔄.\n",
        "\n",
        "Summary:\n",
        "for loops work perfectly with tuples, letting you access and print each element in sequence! 🐍✨\n",
        "\n",
        "\n",
        "\n",
        "\n",
        "\n",
        "\n",
        "\n"
      ],
      "metadata": {
        "id": "zCw15VXYkcIg"
      }
    },
    {
      "cell_type": "code",
      "source": [
        "thistuple = (\"apple\", \"banana\", \"cherry\")\n",
        "for x in thistuple:\n",
        "  print(x)"
      ],
      "metadata": {
        "colab": {
          "base_uri": "https://localhost:8080/"
        },
        "id": "U21_nZg6NehB",
        "outputId": "221658a7-6ea0-412d-9553-98080ae6294d"
      },
      "execution_count": null,
      "outputs": [
        {
          "output_type": "stream",
          "name": "stdout",
          "text": [
            "apple\n",
            "banana\n",
            "cherry\n"
          ]
        }
      ]
    },
    {
      "cell_type": "markdown",
      "source": [
        "You have two tuples:\n",
        "\n",
        "tuple1 = (\"a\", \"b\", \"c\") — letters 🅰️🅱️🅲\n",
        "\n",
        "tuple2 = (1, 2, 3) — numbers 🔢\n",
        "\n",
        "When you do tuple3 = tuple1 + tuple2, Python concatenates (joins) the two tuples to make a new one!\n",
        "\n",
        "So, tuple3 becomes:\n",
        "\n",
        "python\n",
        "Copy\n",
        "(\"a\", \"b\", \"c\", 1, 2, 3)\n",
        "When you print(tuple3), you see both tuples combined in order.\n",
        "\n",
        "Summary:\n",
        "Using + with tuples merges them into one longer tuple — great for combining fixed collections! 🐍✨"
      ],
      "metadata": {
        "id": "ccQADXQElbqh"
      }
    },
    {
      "cell_type": "code",
      "source": [
        "tuple1 = (\"a\", \"b\" , \"c\")\n",
        "tuple2 = (1, 2, 3)\n",
        "\n",
        "tuple3 = tuple1 + tuple2\n",
        "print(tuple3)"
      ],
      "metadata": {
        "colab": {
          "base_uri": "https://localhost:8080/"
        },
        "id": "qLzIC_4TNmHo",
        "outputId": "861c83c5-7e93-4778-e350-05a9ef02c1bb"
      },
      "execution_count": null,
      "outputs": [
        {
          "output_type": "stream",
          "name": "stdout",
          "text": [
            "('a', 'b', 'c', 1, 2, 3)\n"
          ]
        }
      ]
    },
    {
      "cell_type": "markdown",
      "source": [
        "You created a tuple called mytuple 🍎🍌🍒 with three items — \"apple,\" \"banana,\" and \"cherry.\"\n",
        "\n",
        "Tuples are like lists but immutable, meaning once created, you can’t change their items 🔒.\n",
        "\n",
        "You use parentheses () to define a tuple.\n",
        "\n",
        "Tuples are great when you want a fixed collection of items that should not be modified accidentally.\n",
        "\n",
        "Summary:\n",
        "mytuple stores a fixed group of fruits — safe and efficient! 🐍✨"
      ],
      "metadata": {
        "id": "rVNQTEhFlsaq"
      }
    },
    {
      "cell_type": "code",
      "source": [
        "mytuple = (\"apple\", \"banana\", \"cherry\")"
      ],
      "metadata": {
        "id": "PqqsCjf0NqLT"
      },
      "execution_count": null,
      "outputs": []
    },
    {
      "cell_type": "markdown",
      "source": [
        "\n",
        "You have a tuple called thistuple 🍎🍌🍒.\n",
        "\n",
        "When you do print(thistuple[1]), you are accessing the item at index 1 (remember, Python counts from 0!).\n",
        "\n",
        "Index 0 → \"apple\"\n",
        "\n",
        "Index 1 → \"banana\"\n",
        "\n",
        "Index 2 → \"cherry\"\n",
        "\n",
        "So, the output will be:\n",
        "\n",
        "nginx\n",
        "Copy\n",
        "banana\n",
        "Summary:\n",
        "You can access tuple elements by their position using square brackets, just like lists! 🐍✨\n",
        "\n",
        "\n",
        "\n",
        "\n",
        "\n",
        "\n"
      ],
      "metadata": {
        "id": "m66ZCYXLl1FO"
      }
    },
    {
      "cell_type": "code",
      "source": [
        "thistuple = (\"apple\", \"banana\", \"cherry\")\n",
        "print(thistuple[1])"
      ],
      "metadata": {
        "colab": {
          "base_uri": "https://localhost:8080/"
        },
        "id": "aoS9npvmOVzf",
        "outputId": "d366c893-b2d4-4c91-bc48-8fd8f02e1957"
      },
      "execution_count": null,
      "outputs": [
        {
          "output_type": "stream",
          "name": "stdout",
          "text": [
            "banana\n"
          ]
        }
      ]
    },
    {
      "cell_type": "markdown",
      "source": [
        "Here’s the Pythonist explanation with emojis:\n",
        "\n",
        "You start with a tuple x = (\"apple\", \"banana\", \"cherry\") 🍎🍌🍒 — remember, tuples are immutable, so you can’t change items directly 🔒.\n",
        "\n",
        "To modify it:\n",
        "\n",
        "Convert the tuple x into a list y using list(x) — lists are mutable, so you can change elements 📝.\n",
        "\n",
        "Change the second item (y[1]) from \"banana\" to \"kiwi\" 🥝.\n",
        "\n",
        "Convert the list y back into a tuple with tuple(y), assigning it to x again 🔄.\n",
        "\n",
        "When you print x, you get:\n",
        "\n",
        "bash\n",
        "Copy\n",
        "('apple', 'kiwi', 'cherry')\n",
        "Summary:\n",
        "To change tuple contents, convert to a list, modify, then convert back — a neat Python trick! 🐍✨"
      ],
      "metadata": {
        "id": "-9HSrDewmqkr"
      }
    },
    {
      "cell_type": "code",
      "source": [
        "x = (\"apple\", \"banana\", \"cherry\")\n",
        "y = list(x)\n",
        "y[1] = \"kiwi\"\n",
        "x = tuple(y)\n",
        "\n",
        "print(x)"
      ],
      "metadata": {
        "colab": {
          "base_uri": "https://localhost:8080/"
        },
        "id": "1fEXk-XsOeX0",
        "outputId": "46b63826-1629-4834-b0d1-7b4e8cbf1bd4"
      },
      "execution_count": null,
      "outputs": [
        {
          "output_type": "stream",
          "name": "stdout",
          "text": [
            "('apple', 'kiwi', 'cherry')\n"
          ]
        }
      ]
    },
    {
      "cell_type": "markdown",
      "source": [
        "ou created a tuple named fruits 🍎🍌🍒 containing three items: \"apple\", \"banana\", and \"cherry\".\n",
        "\n",
        "Tuples are like lists but immutable, meaning you cannot change, add, or remove items once defined 🔒.\n",
        "\n",
        "They are defined with parentheses () instead of square brackets [].\n",
        "\n",
        "Use tuples when you want to store a fixed collection of items that should stay constant."
      ],
      "metadata": {
        "id": "x8TgH_O3nMJ_"
      }
    },
    {
      "cell_type": "code",
      "source": [
        "fruits = (\"apple\", \"banana\", \"cherry\")\n",
        "\n",
        "(green, yellow, red) = fruits\n",
        "\n",
        "print(green)\n",
        "print(yellow)\n",
        "print(red)"
      ],
      "metadata": {
        "colab": {
          "base_uri": "https://localhost:8080/"
        },
        "id": "_29Q8kPOOt4i",
        "outputId": "5b1ece00-0db9-413f-ea8b-b6cb88ed7126"
      },
      "execution_count": null,
      "outputs": [
        {
          "output_type": "stream",
          "name": "stdout",
          "text": [
            "apple\n",
            "banana\n",
            "cherry\n"
          ]
        }
      ]
    },
    {
      "cell_type": "markdown",
      "source": [
        "The for loop goes through each item in the tuple one by one:\n",
        "\n",
        "Each fruit is assigned to the variable x.\n",
        "\n",
        "Then print(x) outputs that fruit.\n",
        "\n",
        "So, the output will be:\n",
        "\n",
        "nginx\n",
        "Copy\n",
        "apple\n",
        "banana\n",
        "cherry\n",
        "Summary:\n",
        "You can loop through a tuple just like a list to access each element sequentially! 🐍✨\n",
        "\n",
        "\n",
        "\n",
        "\n",
        "\n",
        "\n"
      ],
      "metadata": {
        "id": "BBc5df6YnZIo"
      }
    },
    {
      "cell_type": "code",
      "source": [
        "thistuple = (\"apple\", \"banana\", \"cherry\")\n",
        "for x in thistuple:\n",
        "  print(x)"
      ],
      "metadata": {
        "colab": {
          "base_uri": "https://localhost:8080/"
        },
        "id": "8CxRrKRYO7yL",
        "outputId": "174325fa-64c1-4837-9bb4-76027632ad47"
      },
      "execution_count": null,
      "outputs": [
        {
          "output_type": "stream",
          "name": "stdout",
          "text": [
            "apple\n",
            "banana\n",
            "cherry\n"
          ]
        }
      ]
    },
    {
      "cell_type": "markdown",
      "source": [
        "ChatGPT said:\n",
        "You created two tuples:\n",
        "\n",
        "tuple1 = (\"a\", \"b\", \"c\") 🅰️🅱️🅲\n",
        "\n",
        "tuple2 = (1, 2, 3) 🔢\n",
        "\n",
        "Then you used + to concatenate them:\n",
        "\n",
        "python\n",
        "Copy\n",
        "tuple3 = tuple1 + tuple2\n",
        "This merges both tuples into a new one:\n",
        "\n",
        "arduino\n",
        "Copy\n",
        "('a', 'b', 'c', 1, 2, 3)\n",
        "Summary:\n",
        "The + operator joins two tuples into one, creating a combined, immutable sequence! 🐍➕✨\n",
        "\n",
        "\n",
        "\n",
        "\n",
        "\n"
      ],
      "metadata": {
        "id": "zElGAIXCn-82"
      }
    },
    {
      "cell_type": "code",
      "source": [
        "tuple1 = (\"a\", \"b\" , \"c\")\n",
        "tuple2 = (1, 2, 3)\n",
        "\n",
        "tuple3 = tuple1 + tuple2\n",
        "print(tuple3)"
      ],
      "metadata": {
        "colab": {
          "base_uri": "https://localhost:8080/"
        },
        "id": "pBxn9nj5PAiB",
        "outputId": "fba6ebfc-42ef-463b-fcd8-35086e0b9b9d"
      },
      "execution_count": null,
      "outputs": [
        {
          "output_type": "stream",
          "name": "stdout",
          "text": [
            "('a', 'b', 'c', 1, 2, 3)\n"
          ]
        }
      ]
    },
    {
      "cell_type": "markdown",
      "source": [
        "You created a set called thisset with some fruits 🍎🍌🍒 — but notice something important:\n",
        "\n",
        "python\n",
        "Copy\n",
        "thisset = {\"apple\", \"banana\", \"cherry\", \"apple\"}\n",
        "🧠 Sets do not allow duplicates!\n",
        "Even though \"apple\" is listed twice, the set automatically removes the duplicate.\n",
        "\n",
        "So the output will be:\n",
        "\n",
        "bash\n",
        "Copy\n",
        "{'banana', 'cherry', 'apple'}\n",
        "(Note: the order may vary because sets are unordered 🔀)\n",
        "\n",
        "Summary:\n",
        "Sets in Python store unique items and do not preserve order — perfect for when you need only distinct elements! 🐍✨\n",
        "\n",
        "\n",
        "\n",
        "\n",
        "\n",
        "\n"
      ],
      "metadata": {
        "id": "30yi6oCtoHGu"
      }
    },
    {
      "cell_type": "code",
      "source": [
        "thisset = {\"apple\", \"banana\", \"cherry\", \"apple\"}\n",
        "\n",
        "print(thisset)"
      ],
      "metadata": {
        "colab": {
          "base_uri": "https://localhost:8080/"
        },
        "id": "SoxdCgmnPI7X",
        "outputId": "0e7d5ddc-6771-4eeb-b26d-feb464eef147"
      },
      "execution_count": null,
      "outputs": [
        {
          "output_type": "stream",
          "name": "stdout",
          "text": [
            "{'cherry', 'apple', 'banana'}\n"
          ]
        }
      ]
    },
    {
      "cell_type": "markdown",
      "source": [
        "Here’s your Pythonist explanation with emojis 🐍🍌:\n",
        "\n",
        "You created a set:\n",
        "\n",
        "python\n",
        "Copy\n",
        "thisset = {\"apple\", \"banana\", \"cherry\"}\n",
        "Then you check:\n",
        "\n",
        "python\n",
        "Copy\n",
        "\"banana\" not in thisset\n",
        "🔍 This checks whether \"banana\" is NOT in the set.\n",
        "\n",
        "But \"banana\" is in the set, so:\n",
        "\n",
        "✅ The condition is False, and the output will be:\n",
        "\n",
        "graphql\n",
        "Copy\n",
        "False\n",
        "Summary:\n",
        "The not in operator checks for absence. Since \"banana\" is present, the result is False. Logical and efficient! ⚡🍎"
      ],
      "metadata": {
        "id": "TG-2FwxYoo3f"
      }
    },
    {
      "cell_type": "code",
      "source": [
        "thisset = {\"apple\", \"banana\", \"cherry\"}\n",
        "\n",
        "print(\"banana\" not in thisset)\n"
      ],
      "metadata": {
        "colab": {
          "base_uri": "https://localhost:8080/"
        },
        "id": "HGwSRIdsPXIf",
        "outputId": "636839b2-85cf-428f-c7d0-0413dad5f54a"
      },
      "execution_count": null,
      "outputs": [
        {
          "output_type": "stream",
          "name": "stdout",
          "text": [
            "False\n"
          ]
        }
      ]
    },
    {
      "cell_type": "markdown",
      "source": [
        "Step-by-step:\n",
        "thisset = {\"apple\", \"banana\", \"cherry\"} 🍎🍌🍒\n",
        "\n",
        "tropical = {\"pineapple\", \"mango\", \"papaya\"} 🍍🥭🍈\n",
        "\n",
        "thisset.update(tropical) adds all elements from tropical into thisset.\n",
        "\n",
        "✅ No duplicates allowed\n",
        "✅ Unordered collection\n",
        "\n",
        "Final result:\n",
        "The output will be a set containing all unique elements from both sets:\n",
        "\n",
        "bash\n",
        "Copy\n",
        "{'apple', 'banana', 'cherry', 'pineapple', 'papaya', 'mango'}\n",
        "(Note: the order may vary because sets are unordered 🔀)\n",
        "\n",
        "Summary:\n",
        "The update() method merges two sets by adding all elements from one into the other — great for combining data fast! 🐍💥\n",
        "\n",
        "\n",
        "\n",
        "\n",
        "\n",
        "\n"
      ],
      "metadata": {
        "id": "bEYhDOH4o37q"
      }
    },
    {
      "cell_type": "code",
      "source": [
        "thisset = {\"apple\", \"banana\", \"cherry\"}\n",
        "tropical = {\"pineapple\", \"mango\", \"papaya\"}\n",
        "\n",
        "thisset.update(tropical)\n",
        "\n",
        "print(thisset)\n"
      ],
      "metadata": {
        "colab": {
          "base_uri": "https://localhost:8080/"
        },
        "id": "0zn4qLFlPj1E",
        "outputId": "da624a0d-279c-4f5c-8e23-9475c50234f4"
      },
      "execution_count": null,
      "outputs": [
        {
          "output_type": "stream",
          "name": "stdout",
          "text": [
            "{'mango', 'papaya', 'pineapple', 'banana', 'cherry', 'apple'}\n"
          ]
        }
      ]
    },
    {
      "cell_type": "markdown",
      "source": [
        "🚀 Typical Next Step\n",
        "After import matplotlib, most Pythonistas go for:\n",
        "\n",
        "python\n",
        "Copy\n",
        "Edit\n",
        "import matplotlib.pyplot as plt\n",
        "This gives access to the plotting functions, like plt.plot(), plt.show(), etc."
      ],
      "metadata": {
        "id": "qY1dMXev3ED2"
      }
    },
    {
      "cell_type": "code",
      "source": [
        "thisset = {\"apple\", \"banana\", \"cherry\"}\n",
        "\n",
        "x = thisset.pop()\n",
        "\n",
        "print(x)\n",
        "\n",
        "print(thisset)"
      ],
      "metadata": {
        "colab": {
          "base_uri": "https://localhost:8080/"
        },
        "id": "FXefAUOqP5Ys",
        "outputId": "7eb9ebcf-c3a6-4b36-a12c-b2b95ffc0070"
      },
      "execution_count": null,
      "outputs": [
        {
          "output_type": "stream",
          "name": "stdout",
          "text": [
            "cherry\n",
            "{'apple', 'banana'}\n"
          ]
        }
      ]
    },
    {
      "cell_type": "markdown",
      "source": [
        "\n",
        "🔁 What’s the for loop doing?\n",
        "You're using a for loop to go through each item in the set:\n",
        "\n",
        "🔍 It visits one element at a time...\n",
        "\n",
        "🎤 ...and prints it out\n",
        "\n",
        "Important Note:\n",
        "Since sets are unordered, the items may not appear in the same order you added them. That’s totally normal for sets! 🌀\n",
        "\n",
        "🔚 What Will Happen?\n",
        "Each fruit name — 🍎 apple, 🍌 banana, 🍒 cherry — will be printed, one per line, but in random order like:\n",
        "\n",
        "nginx\n",
        "Copy\n",
        "Edit\n",
        "banana  \n",
        "cherry  \n",
        "apple\n",
        "(Or any other order — Python decides 💼)\n",
        "\n",
        "Want to know how to add or remove items from a set? Or how it's different from lists or tuples? Just say the word! 💬✨\n",
        "\n",
        "\n",
        "\n",
        "\n",
        "\n",
        "\n",
        "\n",
        "\n"
      ],
      "metadata": {
        "id": "VDmSClud3UFO"
      }
    },
    {
      "cell_type": "code",
      "source": [
        "thisset = {\"apple\", \"banana\", \"cherry\"}\n",
        "\n",
        "for x in thisset:\n",
        "  print(x)"
      ],
      "metadata": {
        "colab": {
          "base_uri": "https://localhost:8080/"
        },
        "id": "AP8l_GA6QhIW",
        "outputId": "b18eabc8-00a1-4842-b45a-0b0d8834a4c7"
      },
      "execution_count": null,
      "outputs": [
        {
          "output_type": "stream",
          "name": "stdout",
          "text": [
            "cherry\n",
            "apple\n",
            "banana\n"
          ]
        }
      ]
    },
    {
      "cell_type": "markdown",
      "source": [
        "📦 What is thisdict?\n",
        "thisdict is a Python dictionary — a powerful data structure that stores key-value pairs.\n",
        "Think of it as a mini database 📋.\n",
        "\n",
        "python\n",
        "Copy\n",
        "Edit\n",
        "{\n",
        "  \"brand\": \"Ford\",        # 🔑 \"brand\" ➡️ 🏷️ \"Ford\"\n",
        "  \"model\": \"Mustang\",     # 🔑 \"model\" ➡️ 🚗 \"Mustang\"\n",
        "  \"year\": 1964            # 🔑 \"year\" ➡️ 📆 1964\n",
        "}\n",
        "🧠 How It Works\n",
        "Keys: These are the labels (\"brand\", \"model\", \"year\")\n",
        "\n",
        "Values: These are the actual data (\"Ford\", \"Mustang\", 1964)\n",
        "\n",
        "You can retrieve a value using its key — super fast! ⚡\n",
        "\n",
        "✅ Why Use a Dictionary?\n",
        "🔍 Easy to access data by name (not index)\n",
        "\n",
        "💼 Perfect for structured data (like JSON, APIs, etc.)\n",
        "\n",
        "🔄 You can add, update, or remove key-value pairs\n",
        "\n",
        "🧪 Example Usage:\n",
        "You can do things like:\n",
        "\n",
        "thisdict[\"brand\"] ➡️ \"Ford\"\n",
        "\n",
        "thisdict[\"year\"] = 2025 ➡️ Update value\n",
        "\n",
        "thisdict[\"color\"] = \"red\" ➡️ Add new entry"
      ],
      "metadata": {
        "id": "qP4arUSV3XJR"
      }
    },
    {
      "cell_type": "code",
      "source": [
        "thisdict = {\n",
        "  \"brand\": \"Ford\",\n",
        "  \"model\": \"Mustang\",\n",
        "  \"year\": 1964\n",
        "}"
      ],
      "metadata": {
        "id": "Mv5lp7EvQ0SL"
      },
      "execution_count": null,
      "outputs": []
    },
    {
      "cell_type": "markdown",
      "source": [
        "🧠 Pythonista Explanation with Emojis! 🐍\n",
        "\n",
        "You're using a Python dictionary — a data structure made up of key-value pairs 🔑➡️📦.\n",
        "\n",
        "🧱 Dictionary Structure\n",
        "python\n",
        "Copy\n",
        "Edit\n",
        "thisdict = {\n",
        "  \"brand\": \"Ford\",        # 🔑 \"brand\" ➡️ 📦 \"Ford\"\n",
        "  \"model\": \"Mustang\",     # 🔑 \"model\" ➡️ 📦 \"Mustang\"\n",
        "  \"year\": 1964            # 🔑 \"year\" ➡️ 📦 1964\n",
        "}\n",
        "This is like a mini database or a JSON object — perfect for storing structured information 💾.\n",
        "\n",
        "🔍 Accessing a Value\n",
        "python\n",
        "Copy\n",
        "Edit\n",
        "x = thisdict[\"model\"]\n",
        "Here’s what’s happening:\n",
        "\n",
        "You're asking: “📣 Hey thisdict, what’s the value of 'model'?”\n",
        "\n",
        "Python checks the key \"model\" and finds the value \"Mustang\" 🐎.\n",
        "\n",
        "It stores \"Mustang\" in the variable x 🪣.\n",
        "\n",
        "So now:\n",
        "\n",
        "python\n",
        "Copy\n",
        "Edit\n",
        "x = \"Mustang\"\n",
        "✅ Summary\n",
        "You're retrieving a specific piece of information from a dictionary using a key:\n",
        "\n",
        "dict[key] → gives you the value 💡\n",
        "\n"
      ],
      "metadata": {
        "id": "1ltOsNnm4dJ6"
      }
    },
    {
      "cell_type": "code",
      "source": [
        "thisdict = {\n",
        "  \"brand\": \"Ford\",\n",
        "  \"model\": \"Mustang\",\n",
        "  \"year\": 1964\n",
        "}\n",
        "x = thisdict[\"model\"]"
      ],
      "metadata": {
        "id": "a6ya6hYZRP-n"
      },
      "execution_count": null,
      "outputs": []
    },
    {
      "cell_type": "code",
      "source": [
        "thisdict = {\n",
        "  \"brand\": \"Ford\",\n",
        "  \"model\": \"Mustang\",\n",
        "  \"year\": 1964\n",
        "}\n",
        "thisdict[\"year\"] = 2018"
      ],
      "metadata": {
        "id": "TY8OW6T5RXQ3"
      },
      "execution_count": null,
      "outputs": []
    },
    {
      "cell_type": "markdown",
      "source": [
        "🔧 What Happened?\n",
        "python\n",
        "Copy\n",
        "Edit\n",
        "thisdict[\"color\"] = \"red\"\n",
        "This line adds a new key-value pair to the dictionary. Let's break it down:\n",
        "\n",
        "\"color\" is a new key 🆕\n",
        "\n",
        "\"red\" is the value you're assigning it 🎨\n",
        "\n",
        "If the key already existed, this line would have updated its value instead 🔄.\n",
        "\n",
        "📦 Final Dictionary\n",
        "After the addition, your dictionary looks like this:\n",
        "\n",
        "python\n",
        "Copy\n",
        "Edit\n",
        "{\n",
        "  \"brand\": \"Ford\",        # 🚗\n",
        "  \"model\": \"Mustang\",     # 🐎\n",
        "  \"year\": 1964,           # 🗓️\n",
        "  \"color\": \"red\"          # 🔴\n",
        "}\n",
        "✅ Summary\n",
        "You're using this syntax:\n",
        "\n",
        "python\n",
        "Copy\n",
        "Edit\n",
        "dictionary[\"new_key\"] = new_value\n",
        "To add or update entries in a dictionary on the fly 💨\n",
        "\n",
        "Let me know if you'd like to explore how to delete, update, or loop through dictionary items! 🔁📖\n",
        "\n",
        "\n",
        "\n",
        "\n",
        "\n",
        "\n",
        "\n"
      ],
      "metadata": {
        "id": "nYOWkEf94w1T"
      }
    },
    {
      "cell_type": "code",
      "source": [
        "thisdict = {\n",
        "  \"brand\": \"Ford\",\n",
        "  \"model\": \"Mustang\",\n",
        "  \"year\": 1964\n",
        "}\n",
        "thisdict[\"color\"] = \"red\"\n",
        "print(thisdict)"
      ],
      "metadata": {
        "colab": {
          "base_uri": "https://localhost:8080/"
        },
        "id": "lF_DhC6JRsmN",
        "outputId": "447e07e9-b4d1-4dcc-9fc9-bd15c325049b"
      },
      "execution_count": null,
      "outputs": [
        {
          "output_type": "stream",
          "name": "stdout",
          "text": [
            "{'brand': 'Ford', 'model': 'Mustang', 'year': 1964, 'color': 'red'}\n"
          ]
        }
      ]
    },
    {
      "cell_type": "code",
      "source": [
        "thisdict = {\n",
        "  \"brand\": \"Ford\",\n",
        "  \"model\": \"Mustang\",\n",
        "  \"year\": 1964\n",
        "}\n",
        "thisdict.pop(\"model\")\n",
        "print(thisdict)"
      ],
      "metadata": {
        "colab": {
          "base_uri": "https://localhost:8080/"
        },
        "id": "rj5fjn1tR8sP",
        "outputId": "bf5210bc-39d4-40c2-f73b-835df731ff9f"
      },
      "execution_count": null,
      "outputs": [
        {
          "output_type": "stream",
          "name": "stdout",
          "text": [
            "{'brand': 'Ford', 'year': 1964}\n"
          ]
        }
      ]
    },
    {
      "cell_type": "markdown",
      "source": [
        "🐍 What’s Going On Here?\n",
        "You have this dictionary:\n",
        "\n",
        "python\n",
        "Copy\n",
        "Edit\n",
        "thisdict = {\n",
        "  \"brand\": \"Ford\",\n",
        "  \"model\": \"Mustang\",\n",
        "  \"year\": 1964,\n",
        "  \"color\": \"red\"\n",
        "}\n",
        "Now, this code:\n",
        "\n",
        "python\n",
        "Copy\n",
        "Edit\n",
        "for x in thisdict.values():\n",
        "  print(x)\n",
        "🔍 Step-by-Step Breakdown\n",
        ".values() method extracts all the values from the dictionary, ignoring keys.\n",
        "\n",
        "for x in thisdict.values(): loops through each of these values one by one.\n",
        "\n",
        "print(x) outputs each value on a new line.\n",
        "\n",
        "💡 What You’ll See Printed:\n",
        "yaml\n",
        "Copy\n",
        "Edit\n",
        "Ford\n",
        "Mustang\n",
        "1964\n",
        "red\n",
        "✅ Summary\n",
        ".values() → grabs all dictionary values.\n",
        "\n",
        "for loop → walks through each value.\n",
        "\n",
        "print() → shows each value.\n",
        "\n"
      ],
      "metadata": {
        "id": "aMGXFStU5EQC"
      }
    },
    {
      "cell_type": "code",
      "source": [
        "for x in thisdict.values():\n",
        "  print(x)"
      ],
      "metadata": {
        "colab": {
          "base_uri": "https://localhost:8080/"
        },
        "id": "9mtJ9f8QStlf",
        "outputId": "1b4cf9f2-aad2-4491-beb9-35af2071347e"
      },
      "execution_count": null,
      "outputs": [
        {
          "output_type": "stream",
          "name": "stdout",
          "text": [
            "Ford\n",
            "1964\n"
          ]
        }
      ]
    },
    {
      "cell_type": "markdown",
      "source": [
        "✅ Strengths:\n",
        "Clear Step-by-Step Breakdown – Each line of code was explained in simple language.\n",
        "\n",
        "Use of Emojis & Headings – Helps make the explanation more visual and engaging.\n",
        "\n",
        "Output Provided – Shows exactly what the program prints.\n",
        "\n",
        "Analogy Used – The box-and-labels metaphor helps beginners understand copying.\n",
        "\n",
        "🔧 What Could Improve It to a 10/10?\n",
        "Deeper Dive into dict() Function – Briefly explaining that dict() can also be used to create dictionaries from other data types (like lists of tuples) would show its flexibility.\n",
        "\n",
        "Mutable vs Immutable Clarification – A short note that both thisdict and mydict are mutable objects, but they're now separate, could be useful for intermediate learners.\n",
        "\n"
      ],
      "metadata": {
        "id": "xb4h-f1ntZjE"
      }
    },
    {
      "cell_type": "code",
      "source": [
        "thisdict = {\n",
        "  \"brand\": \"Ford\",\n",
        "  \"model\": \"Mustang\",\n",
        "  \"year\": 1964\n",
        "}\n",
        "mydict = dict(thisdict)\n",
        "print(mydict)"
      ],
      "metadata": {
        "colab": {
          "base_uri": "https://localhost:8080/"
        },
        "id": "rG3hY7OiTAfX",
        "outputId": "1fc304e4-b8a2-4851-dcb4-34f3b42bf597"
      },
      "execution_count": null,
      "outputs": [
        {
          "output_type": "stream",
          "name": "stdout",
          "text": [
            "{'brand': 'Ford', 'model': 'Mustang', 'year': 1964}\n"
          ]
        }
      ]
    },
    {
      "cell_type": "markdown",
      "source": [
        "🔷 Explanation:\n",
        "✅ Step 1: Creating a Dictionary of Dictionaries\n",
        "myfamily is a dictionary.\n",
        "\n",
        "Each key in myfamily (\"child1\", \"child2\", \"child3\") maps to another dictionary.\n",
        "\n",
        "This is called a nested dictionary — a dictionary inside a dictionary.\n",
        "\n",
        "✅ Step 2: Understanding the Structure\n",
        "Let’s look at it visually:\n",
        "\n",
        "text\n",
        "Copy\n",
        "Edit\n",
        "myfamily\n",
        "│\n",
        "├── \"child1\" → { \"name\": \"Emil\",   \"year\": 2004 }\n",
        "├── \"child2\" → { \"name\": \"Tobias\", \"year\": 2007 }\n",
        "└── \"child3\" → { \"name\": \"Linus\",  \"year\": 2011 }\n",
        "Each child has two details: name and year (probably year of birth).\n",
        "\n",
        "You can think of myfamily as a database of children with their respective information.\n",
        "\n",
        "🔷 Accessing Values\n",
        "You can access individual values like this:\n",
        "\n",
        "python\n",
        "Copy\n",
        "Edit\n",
        "print(myfamily[\"child1\"][\"name\"])   # Output: Emil\n",
        "print(myfamily[\"child2\"][\"year\"])   # Output: 2007\n",
        "🔷 Use Cases\n",
        "This structure is very useful for:\n",
        "\n",
        "Representing structured data (like JSON).\n",
        "\n",
        "Organizing multiple records in a clean, hierarchical way.\n",
        "\n",
        "Building family trees, student records, etc.\n",
        "\n",
        "✅ Summary:\n",
        "myfamily is a nested dictionary.\n",
        "\n",
        "It contains 3 keys (child1, child2, child3), each mapping to another dictionary with a name and year.\n",
        "\n",
        "You can access values by chaining keys like myfamily[\"child1\"][\"name\"].\n",
        "\n",
        "Would you like a diagram or visual representation for this?"
      ],
      "metadata": {
        "id": "k7zQEQ8Etrrj"
      }
    },
    {
      "cell_type": "code",
      "source": [
        "myfamily = {\n",
        "  \"child1\" : {\n",
        "    \"name\" : \"Emil\",\n",
        "    \"year\" : 2004\n",
        "  },\n",
        "  \"child2\" : {\n",
        "    \"name\" : \"Tobias\",\n",
        "    \"year\" : 2007\n",
        "  },\n",
        "  \"child3\" : {\n",
        "    \"name\" : \"Linus\",\n",
        "    \"year\" : 2011\n",
        "  }\n",
        "}"
      ],
      "metadata": {
        "id": "QR__1ZuTTGvj"
      },
      "execution_count": null,
      "outputs": []
    },
    {
      "cell_type": "markdown",
      "source": [
        "ChatGPT said:\n",
        "Let's explain this Python code step by step:\n",
        "\n",
        "🔷 Code:\n",
        "python\n",
        "Copy\n",
        "Edit\n",
        "a = 200\n",
        "b = 33\n",
        "if b > a:\n",
        "  print(\"b is greater than a\")\n",
        "elif a == b:\n",
        "  print(\"a and b are equal\")\n",
        "else:\n",
        "  print(\"a is greater than b\")\n",
        "🔷 Explanation:\n",
        "✅ Step 1: Variable Assignment\n",
        "python\n",
        "Copy\n",
        "Edit\n",
        "a = 200\n",
        "b = 33\n",
        "a is assigned the value 200\n",
        "\n",
        "b is assigned the value 33\n",
        "\n",
        "✅ Step 2: if Statement\n",
        "python\n",
        "Copy\n",
        "Edit\n",
        "if b > a:\n",
        "This checks if b is greater than a.\n",
        "\n",
        "In this case: 33 > 200 is False → so this block is skipped.\n",
        "\n",
        "✅ Step 3: elif Statement\n",
        "python\n",
        "Copy\n",
        "Edit\n",
        "elif a == b:\n",
        "This checks if a is equal to b.\n",
        "\n",
        "200 == 33 is False → this block is also skipped.\n",
        "\n",
        "✅ Step 4: else Statement\n",
        "python\n",
        "Copy\n",
        "Edit\n",
        "else:\n",
        "  print(\"a is greater than b\")\n",
        "Since both previous conditions were False, this else block is executed.\n",
        "\n",
        "Output:\n",
        "\n",
        "css\n",
        "Copy\n",
        "Edit\n",
        "a is greater than b\n",
        "🔷 Final Output:\n",
        "css\n",
        "Copy\n",
        "Edit\n",
        "a is greater than b\n",
        "🔷 Summary:\n",
        "Python checks conditions in order using if, elif, and else.\n",
        "\n",
        "Only one block will run — the first condition that is True.\n",
        "\n",
        "Since a is 200 and b is 33, the last else block runs."
      ],
      "metadata": {
        "id": "PTgvtpQht6Pr"
      }
    },
    {
      "cell_type": "code",
      "source": [
        "a = 200\n",
        "b = 33\n",
        "if b > a:\n",
        "  print(\"b is greater than a\")\n",
        "elif a == b:\n",
        "  print(\"a and b are equal\")\n",
        "else:\n",
        "  print(\"a is greater than b\")"
      ],
      "metadata": {
        "colab": {
          "base_uri": "https://localhost:8080/"
        },
        "id": "g7RWs8WoTjd-",
        "outputId": "193edd99-b1aa-4308-c684-4d5d840b5b79"
      },
      "execution_count": null,
      "outputs": [
        {
          "output_type": "stream",
          "name": "stdout",
          "text": [
            "a is greater than b\n"
          ]
        }
      ]
    },
    {
      "cell_type": "markdown",
      "source": [
        "🔷 Explanation:\n",
        "✅ Step 1: Assigning a Value\n",
        "python\n",
        "Copy\n",
        "Edit\n",
        "day = 4\n",
        "The variable day is assigned the value 4.\n",
        "\n",
        "✅ Step 2: match-case Statement\n",
        "python\n",
        "Copy\n",
        "Edit\n",
        "match day:\n",
        "This is similar to a switch-case statement in other programming languages.\n",
        "\n",
        "Python checks the value of day and matches it to one of the case blocks.\n",
        "\n",
        "✅ Step 3: Matching Cases\n",
        "Python looks for the case that matches day == 4.\n",
        "\n",
        "It finds:\n",
        "\n",
        "python\n",
        "Copy\n",
        "Edit\n",
        "  case 4:\n",
        "    print(\"Thursday\")\n",
        "So it executes:\n",
        "\n",
        "mathematica\n",
        "Copy\n",
        "Edit\n",
        "Thursday\n",
        "🔷 Output:\n",
        "mathematica\n",
        "Copy\n",
        "Edit\n",
        "Thursday\n",
        "🔷 Important Notes:\n",
        "The match-case statement was introduced in Python 3.10.\n",
        "\n",
        "It is cleaner and more readable than writing multiple if-elif-else statements when checking many specific values.\n",
        "\n",
        "✅ Summary:\n",
        "The code uses Python’s match-case to print the day name based on the number.\n",
        "\n",
        "Since day = 4, it matches case 4 and prints \"Thursday\".\n",
        "\n"
      ],
      "metadata": {
        "id": "kre0dFD4uHqY"
      }
    },
    {
      "cell_type": "code",
      "source": [
        "day = 4\n",
        "match day:\n",
        "  case 1:\n",
        "    print(\"Monday\")\n",
        "  case 2:\n",
        "    print(\"Tuesday\")\n",
        "  case 3:\n",
        "    print(\"Wednesday\")\n",
        "  case 4:\n",
        "    print(\"Thursday\")\n",
        "  case 5:\n",
        "    print(\"Friday\")\n",
        "  case 6:\n",
        "    print(\"Saturday\")\n",
        "  case 7:\n",
        "    print(\"Sunday\")"
      ],
      "metadata": {
        "colab": {
          "base_uri": "https://localhost:8080/"
        },
        "id": "hB4zcQ7pT6Lb",
        "outputId": "9e314cb1-2081-4a91-9250-c548a59c7ab6"
      },
      "execution_count": null,
      "outputs": [
        {
          "output_type": "stream",
          "name": "stdout",
          "text": [
            "Thursday\n"
          ]
        }
      ]
    },
    {
      "cell_type": "markdown",
      "source": [
        "Let’s break down and explain this Python while loop step-by-step:\n",
        "\n",
        "🔷 Code:\n",
        "python\n",
        "Copy\n",
        "Edit\n",
        "i = 1\n",
        "while i < 6:\n",
        "  print(i)\n",
        "  if i == 3:\n",
        "    break\n",
        "  i += 1\n",
        "🔷 Explanation:\n",
        "✅ Step 1: Initialization\n",
        "python\n",
        "Copy\n",
        "Edit\n",
        "i = 1\n",
        "The variable i is set to 1.\n",
        "\n",
        "✅ Step 2: while Loop\n",
        "python\n",
        "Copy\n",
        "Edit\n",
        "while i < 6:\n",
        "This means: as long as i is less than 6, repeat the loop.\n",
        "\n",
        "✅ Step 3: Inside the Loop\n",
        "Each iteration:\n",
        "\n",
        "Print the value of i\n",
        "\n",
        "Check if i == 3\n",
        "\n",
        "If yes, use break to exit the loop immediately.\n",
        "\n",
        "Increment i by 1\n",
        "\n",
        "🔷 Loop Execution:\n",
        "Iteration\ti Value\tOutput\tBreak?\tNext i\n",
        "1\t1\t1\tNo\t2\n",
        "2\t2\t2\tNo\t3\n",
        "3\t3\t3\tYes ✅\tLoop ends\n",
        "\n",
        "After printing 3, the condition if i == 3 becomes True, so the loop breaks.\n",
        "\n",
        "🔷 Output:\n",
        "Copy\n",
        "Edit\n",
        "1\n",
        "2\n",
        "3\n",
        "✅ Summary:\n",
        "A while loop runs as long as the condition i < 6 is true.\n",
        "\n",
        "It prints values from 1 to 3, but stops early due to the break when i == 3."
      ],
      "metadata": {
        "id": "lcqUZ6tduQr9"
      }
    },
    {
      "cell_type": "code",
      "source": [
        "i = 1\n",
        "while i < 6:\n",
        "  print(i)\n",
        "  if i == 3:\n",
        "    break\n",
        "  i += 1"
      ],
      "metadata": {
        "colab": {
          "base_uri": "https://localhost:8080/"
        },
        "id": "oxsbFAuiT-7E",
        "outputId": "1748dc52-6346-49ef-b02c-2f58618f9437"
      },
      "execution_count": null,
      "outputs": [
        {
          "output_type": "stream",
          "name": "stdout",
          "text": [
            "1\n",
            "2\n",
            "3\n"
          ]
        }
      ]
    },
    {
      "cell_type": "markdown",
      "source": [
        "🔷 Code:\n",
        "python\n",
        "Copy\n",
        "Edit\n",
        "fruits = [\"apple\", \"banana\", \"cherry\"]\n",
        "for x in fruits:\n",
        "  if x == \"banana\":\n",
        "    break\n",
        "  print(x)\n",
        "🔷 Explanation:\n",
        "✅ Step 1: List Initialization\n",
        "python\n",
        "Copy\n",
        "Edit\n",
        "fruits = [\"apple\", \"banana\", \"cherry\"]\n",
        "A list named fruits is created with three items:\n",
        "[\"apple\", \"banana\", \"cherry\"]\n",
        "\n",
        "✅ Step 2: For Loop\n",
        "python\n",
        "Copy\n",
        "Edit\n",
        "for x in fruits:\n",
        "This means: Loop through each item in the fruits list one by one.\n",
        "\n",
        "In each loop cycle, the variable x holds the current fruit.\n",
        "\n",
        "✅ Step 3: Conditional Check\n",
        "python\n",
        "Copy\n",
        "Edit\n",
        "if x == \"banana\":\n",
        "  break\n",
        "When the loop reaches \"banana\", it matches the condition and breaks the loop — i.e., it stops the loop immediately and does not continue to \"cherry\".\n",
        "\n",
        "✅ Step 4: Printing\n",
        "python\n",
        "Copy\n",
        "Edit\n",
        "print(x)\n",
        "This line prints the value of x only if the loop hasn't been broken.\n",
        "\n",
        "🔷 Loop Execution:\n",
        "Iteration\tx value\tx == \"banana\"\tAction\tOutput\n",
        "1\t\"apple\"\t❌ False\tPrints \"apple\"\tapple\n",
        "2\t\"banana\"\t✅ True\tBreaks loop\t—\n",
        "\n",
        "\"cherry\" is never reached because the loop stops at \"banana\".\n",
        "\n",
        "🔷 Final Output:\n",
        "nginx\n",
        "Copy\n",
        "Edit\n",
        "apple\n",
        "✅ Summary:\n",
        "The loop goes through a list of fruits.\n",
        "\n",
        "It prints each fruit until it encounters \"banana\", at which point it stops the loop with break."
      ],
      "metadata": {
        "id": "vx8819bJudo3"
      }
    },
    {
      "cell_type": "code",
      "source": [
        "fruits = [\"apple\", \"banana\", \"cherry\"]\n",
        "for x in fruits:\n",
        "  if x == \"banana\":\n",
        "    break\n",
        "  print(x)\n",
        "\n"
      ],
      "metadata": {
        "colab": {
          "base_uri": "https://localhost:8080/"
        },
        "id": "f0vRtm4TUaCH",
        "outputId": "d5d8f1a6-96e8-474b-edff-06148642dd2c"
      },
      "execution_count": null,
      "outputs": [
        {
          "output_type": "stream",
          "name": "stdout",
          "text": [
            "apple\n"
          ]
        }
      ]
    },
    {
      "cell_type": "markdown",
      "source": [
        "🔷 Explanation:\n",
        "✅ Step 1: Defining a Class\n",
        "python\n",
        "Copy\n",
        "Edit\n",
        "class Person:\n",
        "This defines a class named Person.\n",
        "\n",
        "A class is like a blueprint for creating objects.\n",
        "\n",
        "✅ Step 2: The Constructor Method\n",
        "python\n",
        "Copy\n",
        "Edit\n",
        "def __init__(self, fname, lname):\n",
        "    self.firstname = fname\n",
        "    self.lastname = lname\n",
        "__init__ is a special method called a constructor.\n",
        "\n",
        "It is automatically called when you create an object of the class.\n",
        "\n",
        "fname and lname are parameters for first and last names.\n",
        "\n",
        "self.firstname and self.lastname store these values inside the object.\n",
        "\n",
        "✅ Step 3: Defining a Method\n",
        "python\n",
        "Copy\n",
        "Edit\n",
        "def printname(self):\n",
        "    print(self.firstname, self.lastname)\n",
        "This method prints the first and last name of the person.\n",
        "\n",
        "self refers to the current instance of the class.\n",
        "\n",
        "✅ Step 4: Creating an Object\n",
        "python\n",
        "Copy\n",
        "Edit\n",
        "x = Person(\"John\", \"Doe\")\n",
        "Here, x is an object (an instance) of the Person class.\n",
        "\n",
        "The constructor __init__ is called with \"John\" and \"Doe\" as arguments.\n",
        "\n",
        "✅ Step 5: Calling the Method\n",
        "python\n",
        "Copy\n",
        "Edit\n",
        "x.printname()\n",
        "This calls the printname method on the object x.\n",
        "\n",
        "Output:\n",
        "\n",
        "nginx\n",
        "Copy\n",
        "Edit\n",
        "John Doe\n",
        "✅ Summary:\n",
        "You created a Person class with first and last name.\n",
        "\n",
        "You instantiated an object x with \"John\" and \"Doe\".\n",
        "\n",
        "You printed the full name by calling x.printname().\n",
        "\n",
        "If you want, I can help you extend this example with more features like adding age or other methods!\n",
        "\n",
        "\n",
        "\n",
        "\n",
        "\n",
        "\n",
        "\n"
      ],
      "metadata": {
        "id": "pmmA4FppvO_Y"
      }
    },
    {
      "cell_type": "code",
      "source": [
        "class Person:\n",
        "  def __init__(self, fname, lname):\n",
        "    self.firstname = fname\n",
        "    self.lastname = lname\n",
        "\n",
        "  def printname(self):\n",
        "    print(self.firstname, self.lastname)\n",
        "\n",
        "#Use the Person class to create an object, and then execute the printname method:\n",
        "\n",
        "x = Person(\"John\", \"Doe\")\n",
        "x.printname()"
      ],
      "metadata": {
        "colab": {
          "base_uri": "https://localhost:8080/"
        },
        "id": "HPpDiZmgUmt1",
        "outputId": "f4460c02-8b7e-49a3-94ef-df731b9bd094"
      },
      "execution_count": null,
      "outputs": [
        {
          "output_type": "stream",
          "name": "stdout",
          "text": [
            "John Doe\n"
          ]
        }
      ]
    },
    {
      "cell_type": "code",
      "source": [
        "mystr = \"banana\"\n",
        "myit = iter(mystr)\n",
        "\n",
        "print(next(myit))\n",
        "print(next(myit))\n",
        "print(next(myit))\n",
        "print(next(myit))\n",
        "print(next(myit))\n",
        "print(next(myit))"
      ],
      "metadata": {
        "colab": {
          "base_uri": "https://localhost:8080/"
        },
        "id": "B6pdEdTacDDX",
        "outputId": "bf6a8ad0-ec7f-4aab-dcd8-38b6aaea606c"
      },
      "execution_count": null,
      "outputs": [
        {
          "output_type": "stream",
          "name": "stdout",
          "text": [
            "b\n",
            "a\n",
            "n\n",
            "a\n",
            "n\n",
            "a\n"
          ]
        }
      ]
    },
    {
      "cell_type": "markdown",
      "source": [
        "🔷 Explanation:\n",
        "mytuple is a tuple containing three items: \"apple\", \"banana\", and \"cherry\".\n",
        "\n",
        "Tuples are ordered and immutable collections in Python.\n",
        "\n",
        "len(mytuple) returns the number of items in the tuple.\n",
        "\n",
        "print() outputs that number to the console.\n",
        "\n",
        "🔷 Output:\n",
        "Copy\n",
        "Edit\n",
        "3\n",
        "✅ Summary:\n",
        "The code counts and prints how many elements are inside the tuple mytuple.\n",
        "\n",
        "Since there are 3 fruits, the output is 3.\n",
        "\n"
      ],
      "metadata": {
        "id": "4azvU5Ipvd30"
      }
    },
    {
      "cell_type": "code",
      "source": [
        "mytuple = (\"apple\", \"banana\", \"cherry\")\n",
        "\n",
        "print(len(mytuple))"
      ],
      "metadata": {
        "colab": {
          "base_uri": "https://localhost:8080/"
        },
        "id": "-y2wGt4OcKWS",
        "outputId": "456b90e0-f65e-41f4-8e94-2a7683a477d5"
      },
      "execution_count": null,
      "outputs": [
        {
          "output_type": "stream",
          "name": "stdout",
          "text": [
            "3\n"
          ]
        }
      ]
    },
    {
      "cell_type": "code",
      "source": [
        "def myfunc():\n",
        "  x = 300\n",
        "  def myinnerfunc():\n",
        "    print(x)\n",
        "  myinnerfunc()\n",
        "\n",
        "myfunc()"
      ],
      "metadata": {
        "colab": {
          "base_uri": "https://localhost:8080/"
        },
        "id": "X_TFD39AcP8O",
        "outputId": "c3d31ef6-2415-4cb0-a70d-95c98b91a67a"
      },
      "execution_count": null,
      "outputs": [
        {
          "output_type": "stream",
          "name": "stdout",
          "text": [
            "300\n"
          ]
        }
      ]
    },
    {
      "cell_type": "markdown",
      "source": [
        " Explanation:\n",
        "✅ Step 1: Outer function myfunc\n",
        "myfunc is defined with a local variable x assigned the value 300.\n",
        "\n",
        "✅ Step 2: Inner function myinnerfunc\n",
        "Inside myfunc, another function myinnerfunc is defined.\n",
        "\n",
        "myinnerfunc prints the value of x.\n",
        "\n",
        "Note: x is not defined inside myinnerfunc but in the enclosing function myfunc.\n",
        "\n",
        "This is an example of a closure or nested function accessing variables from the outer function’s scope.\n",
        "\n",
        "✅ Step 3: Calling the inner function\n",
        "Still inside myfunc, the inner function myinnerfunc() is called, so it runs and prints x.\n",
        "\n",
        "✅ Step 4: Calling the outer function\n",
        "myfunc() is called, which triggers all the above steps, leading to the printing of 300.\n",
        "\n",
        "🔷 Output:\n",
        "Copy\n",
        "Edit\n",
        "300\n",
        "✅ Summary:\n",
        "A function inside a function can access variables from the outer function.\n",
        "\n",
        "Here, myinnerfunc accesses and prints x defined in myfunc.\n",
        "\n",
        "Calling myfunc() runs the inner function and prints the value."
      ],
      "metadata": {
        "id": "8ByIfaULvrKe"
      }
    },
    {
      "cell_type": "code",
      "source": [
        "person1 = {\n",
        "  \"name\": \"John\",\n",
        "  \"age\": 36,\n",
        "  \"country\": \"Norway\"\n",
        "}"
      ],
      "metadata": {
        "id": "qq8Sshiqckmx"
      },
      "execution_count": null,
      "outputs": []
    },
    {
      "cell_type": "markdown",
      "source": [
        " Explanation:\n",
        "✅ Step 1: Outer function myfunc\n",
        "myfunc is defined with a local variable x assigned the value 300.\n",
        "\n",
        "✅ Step 2: Inner function myinnerfunc\n",
        "Inside myfunc, another function myinnerfunc is defined.\n",
        "\n",
        "myinnerfunc prints the value of x.\n",
        "\n",
        "Note: x is not defined inside myinnerfunc but in the enclosing function myfunc.\n",
        "\n",
        "This is an example of a closure or nested function accessing variables from the outer function’s scope.\n",
        "\n",
        "✅ Step 3: Calling the inner function\n",
        "Still inside myfunc, the inner function myinnerfunc() is called, so it runs and prints x.\n",
        "\n",
        "✅ Step 4: Calling the outer function\n",
        "myfunc() is called, which triggers all the above steps, leading to the printing of 300.\n",
        "\n",
        "🔷 Output:\n",
        "Copy\n",
        "Edit\n",
        "300\n",
        "✅ Summary:\n",
        "A function inside a function can access variables from the outer function.\n",
        "\n",
        "Here, myinnerfunc accesses and prints x defined in myfunc.\n",
        "\n",
        "Calling myfunc() runs the inner function and prints the value."
      ],
      "metadata": {
        "id": "U9uRl0OQv1ZK"
      }
    },
    {
      "cell_type": "code",
      "source": [
        "import datetime\n",
        "\n",
        "x = datetime.datetime.now()\n",
        "\n",
        "print(x.year)\n",
        "print(x.strftime(\"%A\"))"
      ],
      "metadata": {
        "colab": {
          "base_uri": "https://localhost:8080/"
        },
        "id": "JRT9oU8icrA-",
        "outputId": "819953e1-aa70-4f95-f7c8-6505890d678a"
      },
      "execution_count": null,
      "outputs": [
        {
          "output_type": "stream",
          "name": "stdout",
          "text": [
            "2025\n",
            "Wednesday\n"
          ]
        }
      ]
    },
    {
      "cell_type": "markdown",
      "source": [
        " Explanation:\n",
        "min(5, 10, 25) returns the smallest value among the numbers 5, 10, and 25. So, x becomes 5.\n",
        "\n",
        "max(5, 10, 25) returns the largest value among the numbers 5, 10, and 25. So, y becomes 25.\n",
        "\n",
        "print(x) prints the value of x.\n",
        "\n",
        "print(y) prints the value of y.\n",
        "\n",
        "🔷 Output:\n",
        "Copy\n",
        "Edit\n",
        "5\n",
        "25\n",
        "✅ Summary:\n",
        "The min() function finds the smallest value from the inputs.\n",
        "\n",
        "The max() function finds the largest value from the inputs.\n",
        "\n",
        "Your code prints 5 and 25 accordingly.\n",
        "\n"
      ],
      "metadata": {
        "id": "yqV7HPDTv7Vo"
      }
    },
    {
      "cell_type": "code",
      "source": [
        "x = min(5, 10, 25)\n",
        "y = max(5, 10, 25)\n",
        "\n",
        "print(x)\n",
        "print(y)"
      ],
      "metadata": {
        "colab": {
          "base_uri": "https://localhost:8080/"
        },
        "id": "RWVXxxMzc6Hk",
        "outputId": "8c5779a1-8547-4ec9-84fa-daf35beff892"
      },
      "execution_count": null,
      "outputs": [
        {
          "output_type": "stream",
          "name": "stdout",
          "text": [
            "5\n",
            "25\n"
          ]
        }
      ]
    },
    {
      "cell_type": "markdown",
      "source": [
        "🔷 Explanation:\n",
        "import json: Imports Python’s built-in JSON library for handling JSON data.\n",
        "\n",
        "x = '{ \"name\":\"John\", \"age\":30, \"city\":\"New York\"}': x is a string containing JSON data.\n",
        "\n",
        "y = json.loads(x): Converts the JSON string x into a Python dictionary (y).\n",
        "\n",
        "print(y[\"age\"]): Prints the value associated with the key \"age\" from the dictionary y.\n",
        "\n",
        "🔷 Output:\n",
        "Copy\n",
        "Edit\n",
        "30\n",
        "✅ Summary:\n",
        "You converted a JSON string into a Python dictionary using json.loads().\n",
        "\n",
        "Then you accessed and printed the value of the \"age\" key, which is 30.\n",
        "\n"
      ],
      "metadata": {
        "id": "0whXh0f0xIpL"
      }
    },
    {
      "cell_type": "code",
      "source": [
        "import json\n",
        "\n",
        "# some JSON:\n",
        "x =  '{ \"name\":\"John\", \"age\":30, \"city\":\"New York\"}'\n",
        "\n",
        "# parse x:\n",
        "y = json.loads(x)\n",
        "\n",
        "# the result is a Python dictionary:\n",
        "print(y[\"age\"])\n"
      ],
      "metadata": {
        "colab": {
          "base_uri": "https://localhost:8080/"
        },
        "id": "9HD_sR7zdOcI",
        "outputId": "5076b825-94d8-4ffa-d446-45dedba88848"
      },
      "execution_count": null,
      "outputs": [
        {
          "output_type": "stream",
          "name": "stdout",
          "text": [
            "30\n"
          ]
        }
      ]
    },
    {
      "cell_type": "markdown",
      "source": [
        "🔷 Explanation:\n",
        "import re: Imports Python's regular expression (regex) module.\n",
        "\n",
        "txt = \"The rain in Spain\": Defines a string txt.\n",
        "\n",
        "x = re.search(\"^The.*Spain$\", txt):\n",
        "\n",
        "Searches the string txt for a pattern.\n",
        "\n",
        "^The: The string must start with \"The\".\n",
        "\n",
        ".*: Matches any characters (zero or more) between \"The\" and \"Spain\".\n",
        "\n",
        "Spain$: The string must end with \"Spain\".\n",
        "\n",
        "If the pattern matches the entire string, re.search returns a match object; otherwise, it returns None.\n",
        "\n",
        "✅ What happens here?\n",
        "The string \"The rain in Spain\" starts with \"The\" and ends with \"Spain\".\n",
        "\n",
        "So, the regex matches successfully, and x will hold a match object.\n",
        "\n",
        "✅ Example usage:\n",
        "python\n",
        "Copy\n",
        "Edit\n",
        "if x:\n",
        "  print(\"Match found!\")\n",
        "else:\n",
        "  print(\"No match!\")\n",
        "This would print:\n",
        "\n",
        "sql\n",
        "Copy\n",
        "Edit\n",
        "Match found!\n"
      ],
      "metadata": {
        "id": "EagWVoAFxm2S"
      }
    },
    {
      "cell_type": "code",
      "source": [
        "import re\n",
        "\n",
        "txt = \"The rain in Spain\"\n",
        "x = re.search(\"^The.*Spain$\", txt)\n"
      ],
      "metadata": {
        "id": "XVZsrv7FdTce"
      },
      "execution_count": null,
      "outputs": []
    },
    {
      "cell_type": "code",
      "source": [
        "!pip install camelcase\n",
        "import camelcase\n",
        "\n",
        "c = camelcase.CamelCase()\n",
        "\n",
        "!pip install camelcase\n",
        "import camelcase\n",
        "\n",
        "c = camelcase.CamelCase()\n",
        "\n",
        "txt = \"hello world\"\n",
        "\n",
        "print(c.hump(txt))"
      ],
      "metadata": {
        "colab": {
          "base_uri": "https://localhost:8080/"
        },
        "id": "euoT7m-ddef1",
        "outputId": "a19b1569-1623-49c4-f8e6-ca1145b55640"
      },
      "execution_count": null,
      "outputs": [
        {
          "output_type": "stream",
          "name": "stdout",
          "text": [
            "Collecting camelcase\n",
            "  Downloading camelcase-0.2.tar.gz (1.3 kB)\n",
            "  Preparing metadata (setup.py) ... \u001b[?25l\u001b[?25hdone\n",
            "Building wheels for collected packages: camelcase\n",
            "  Building wheel for camelcase (setup.py) ... \u001b[?25l\u001b[?25hdone\n",
            "  Created wheel for camelcase: filename=camelcase-0.2-py3-none-any.whl size=1773 sha256=32169501ce7d0f36c33e855f8bc28814d6021247c1763186a7d42be1bf1360a3\n",
            "  Stored in directory: /root/.cache/pip/wheels/9b/03/38/e96c3419390e51c6f282e9793e392eb2996b4059eb6739165b\n",
            "Successfully built camelcase\n",
            "Installing collected packages: camelcase\n",
            "Successfully installed camelcase-0.2\n",
            "Requirement already satisfied: camelcase in /usr/local/lib/python3.11/dist-packages (0.2)\n",
            "Hello World\n"
          ]
        }
      ]
    },
    {
      "cell_type": "code",
      "source": [
        "txt = f\"The price is 49 dollars\"\n",
        "print(txt)\n"
      ],
      "metadata": {
        "colab": {
          "base_uri": "https://localhost:8080/"
        },
        "id": "Wa7LDyFFeUlZ",
        "outputId": "bd23424e-a374-496d-dbff-226e78a243ef"
      },
      "execution_count": null,
      "outputs": [
        {
          "output_type": "stream",
          "name": "stdout",
          "text": [
            "The price is 49 dollars\n"
          ]
        }
      ]
    },
    {
      "cell_type": "markdown",
      "source": [
        "🔷 Explanation:\n",
        "print(\"Enter your name:\"): Displays the message Enter your name: on the screen.\n",
        "\n",
        "name = input(): Waits for the user to type their name and press Enter. The entered text is saved in the variable name.\n",
        "\n",
        "print(f\"Hello {name}\"): Prints a greeting message using f-string formatting to insert the user’s input.\n",
        "\n",
        "🔷 Example:\n",
        "If the user types Alice, the output will be:\n",
        "\n",
        "yaml\n",
        "Copy\n",
        "Edit\n",
        "Enter your name:\n",
        "Alice\n",
        "Hello Alice\n",
        "✅ Summary:\n",
        "This code takes input from the user and then greets them by name.\n",
        "\n",
        "It uses Python's input() function to read user input.\n",
        "\n",
        "The f-string allows easy and readable string formatting.\n",
        "\n",
        "Want help making it more interactive or handling errors?\n",
        "\n",
        "\n",
        "\n",
        "\n",
        "\n",
        "\n",
        "\n"
      ],
      "metadata": {
        "id": "6e40YjpGzoFK"
      }
    },
    {
      "cell_type": "code",
      "source": [
        "print(\"Enter your name:\")\n",
        "name = input()\n",
        "print(f\"Hello {name}\")\n"
      ],
      "metadata": {
        "colab": {
          "base_uri": "https://localhost:8080/"
        },
        "id": "QCaNeZ4negBB",
        "outputId": "9d29e019-f788-427e-ba9f-b2e8d94ffe8d"
      },
      "execution_count": null,
      "outputs": [
        {
          "output_type": "stream",
          "name": "stdout",
          "text": [
            "Enter your name:\n",
            "8\n",
            "Hello 8\n"
          ]
        }
      ]
    },
    {
      "cell_type": "code",
      "source": [
        "import numpy as np\n",
        "\n",
        "arr = np.array([1, 2, 3, 4, 5])\n",
        "\n",
        "print(arr)\n",
        "\n",
        "print(type(arr))"
      ],
      "metadata": {
        "colab": {
          "base_uri": "https://localhost:8080/"
        },
        "id": "M8SWHfccelUl",
        "outputId": "7c7bd3b3-86db-4099-d1d3-404135b271b2"
      },
      "execution_count": null,
      "outputs": [
        {
          "output_type": "stream",
          "name": "stdout",
          "text": [
            "[1 2 3 4 5]\n",
            "<class 'numpy.ndarray'>\n"
          ]
        }
      ]
    },
    {
      "cell_type": "code",
      "source": [
        "import numpy\n",
        "\n",
        "arr = numpy.array([1, 2, 3, 4, 5])\n",
        "\n",
        "print(arr)"
      ],
      "metadata": {
        "colab": {
          "base_uri": "https://localhost:8080/"
        },
        "id": "ud-fIMiKnnYH",
        "outputId": "bff42a2a-2e08-41e9-b551-cde70f80ea32"
      },
      "execution_count": null,
      "outputs": [
        {
          "output_type": "stream",
          "name": "stdout",
          "text": [
            "[1 2 3 4 5]\n"
          ]
        }
      ]
    },
    {
      "cell_type": "code",
      "source": [
        "import numpy as np\n",
        "\n",
        "arr = np.array([1, 2, 3, 4, 5])\n",
        "\n",
        "print(arr)\n",
        "\n",
        "print(type(arr))"
      ],
      "metadata": {
        "colab": {
          "base_uri": "https://localhost:8080/"
        },
        "id": "xkX8e6KwppIp",
        "outputId": "b409f3b3-db71-4d4a-ea33-1a3bbabe1c1c"
      },
      "execution_count": null,
      "outputs": [
        {
          "output_type": "stream",
          "name": "stdout",
          "text": [
            "[1 2 3 4 5]\n",
            "<class 'numpy.ndarray'>\n"
          ]
        }
      ]
    },
    {
      "cell_type": "code",
      "source": [
        "import numpy as np\n",
        "\n",
        "arr = np.array([1, 2, 3, 4])\n",
        "\n",
        "print(arr[2] + arr[3])\n"
      ],
      "metadata": {
        "colab": {
          "base_uri": "https://localhost:8080/"
        },
        "id": "O1xO-tJxpyIj",
        "outputId": "84ae4b76-6428-4b42-bdc3-e332360ba736"
      },
      "execution_count": null,
      "outputs": [
        {
          "output_type": "stream",
          "name": "stdout",
          "text": [
            "7\n"
          ]
        }
      ]
    },
    {
      "cell_type": "code",
      "source": [
        "import numpy as np\n",
        "\n",
        "arr = np.array([1, 2, 3, 4, 5, 6, 7])\n",
        "\n",
        "print(arr[:4])"
      ],
      "metadata": {
        "colab": {
          "base_uri": "https://localhost:8080/"
        },
        "id": "jxEkrfZsp-kn",
        "outputId": "42aa3dd6-b465-4f9c-8ea5-7eb15304082a"
      },
      "execution_count": null,
      "outputs": [
        {
          "output_type": "stream",
          "name": "stdout",
          "text": [
            "[1 2 3 4]\n"
          ]
        }
      ]
    },
    {
      "cell_type": "markdown",
      "source": [
        "🔷 Explanation:\n",
        "arr = np.array(['apple', 'banana', 'cherry']): Creates a NumPy array containing three string elements.\n",
        "\n",
        "arr.dtype: Returns the data type of the elements stored in the array.\n",
        "\n",
        "print(arr.dtype): Prints the data type of the array elements.\n",
        "\n",
        "🔷 Output:\n",
        "Copy\n",
        "Edit\n",
        "<U6\n",
        "✅ What does <U6 mean?\n",
        "<: Little-endian byte order (standard on most machines).\n",
        "\n",
        "U: Unicode string type.\n",
        "\n",
        "6: Maximum length of the strings (in characters) in the array is 6.\n",
        "\n",
        "So, the array elements are Unicode strings with up to 6 characters.\n",
        "\n",
        "✅ Summary:\n",
        "NumPy arrays have a specific data type (dtype).\n",
        "\n",
        "Your array contains strings, so the dtype shows Unicode strings (<U6).\n",
        "\n"
      ],
      "metadata": {
        "id": "J1vEkoa5w01q"
      }
    },
    {
      "cell_type": "code",
      "source": [
        "import numpy as np\n",
        "\n",
        "arr = np.array(['apple', 'banana', 'cherry'])\n",
        "\n",
        "print(arr.dtype)"
      ],
      "metadata": {
        "colab": {
          "base_uri": "https://localhost:8080/"
        },
        "id": "xHa2D6cDqdwi",
        "outputId": "de04f5dc-802c-4f65-a3d1-133215d04586"
      },
      "execution_count": null,
      "outputs": [
        {
          "output_type": "stream",
          "name": "stdout",
          "text": [
            "<U6\n"
          ]
        }
      ]
    },
    {
      "cell_type": "markdown",
      "source": [
        "🔷 Explanation:\n",
        "arr = np.array([1, 2, 3, 4, 5]): Creates a NumPy array arr with elements [1, 2, 3, 4, 5].\n",
        "\n",
        "x = arr.copy(): Creates a copy of the array arr and stores it in x.\n",
        "\n",
        "This means x is a completely separate array with its own data.\n",
        "\n",
        "arr[0] = 42: Changes the first element of arr to 42.\n",
        "\n",
        "print(arr): Prints the modified array arr.\n",
        "\n",
        "print(x): Prints the copied array x, which remains unchanged.\n",
        "\n",
        "🔷 Output:\n",
        "csharp\n",
        "Copy\n",
        "Edit\n",
        "[42  2  3  4  5]\n",
        "[1  2  3  4  5]\n",
        "✅ Summary:\n",
        "Using .copy() creates a new independent array.\n",
        "\n",
        "Changes to the original array arr do not affect the copied array x.\n",
        "\n",
        "Here, only arr reflects the change, while x keeps the original values.\n",
        "\n"
      ],
      "metadata": {
        "id": "ldwJqUavwrUw"
      }
    },
    {
      "cell_type": "code",
      "source": [
        "import numpy as np\n",
        "\n",
        "arr = np.array([1, 2, 3, 4, 5])\n",
        "x = arr.copy()\n",
        "arr[0] = 42\n",
        "\n",
        "print(arr)\n",
        "print(x)"
      ],
      "metadata": {
        "colab": {
          "base_uri": "https://localhost:8080/"
        },
        "id": "92CmaISCqixu",
        "outputId": "fda9a2bb-c8cd-4d48-ea37-5e52ee994c86"
      },
      "execution_count": null,
      "outputs": [
        {
          "output_type": "stream",
          "name": "stdout",
          "text": [
            "[42  2  3  4  5]\n",
            "[1 2 3 4 5]\n"
          ]
        }
      ]
    },
    {
      "cell_type": "code",
      "source": [
        "import numpy as np\n",
        "\n",
        "arr = np.array([[1, 2, 3, 4], [5, 6, 7, 8]])\n",
        "\n",
        "print(arr.shape)"
      ],
      "metadata": {
        "id": "0bwL98cDqpE-"
      },
      "execution_count": null,
      "outputs": []
    },
    {
      "cell_type": "code",
      "source": [
        "import numpy as np\n",
        "\n",
        "arr = np.array([1, 2, 3, 4, 5, 6, 7, 8, 9, 10, 11, 12])\n",
        "\n",
        "newarr = arr.reshape(4, 3)\n",
        "\n",
        "print(newarr)"
      ],
      "metadata": {
        "id": "GSpp8u-Pq0ce"
      },
      "execution_count": null,
      "outputs": []
    },
    {
      "cell_type": "markdown",
      "source": [
        " Explanation:\n",
        "import numpy as np: Imports the NumPy library and gives it the alias np.\n",
        "\n",
        "arr = np.array([1, 2, 3]): Creates a NumPy array named arr containing the elements 1, 2, and 3.\n",
        "\n",
        "for x in arr:: Loops through each element x in the array arr.\n",
        "\n",
        "print(x): Prints each element during the loop.\n",
        "\n",
        "🔷 Output:\n",
        "Copy\n",
        "Edit\n",
        "1\n",
        "2\n",
        "3\n",
        "✅ Summary:\n",
        "You created a NumPy array with elements [1, 2, 3].\n",
        "\n",
        "You looped through each element and printed it one by one.\n",
        "\n",
        "If you want, I can show you how to perform operations on NumPy arrays or iterate through multi-dimensional arrays!\n",
        "\n",
        "\n",
        "\n",
        "\n",
        "\n",
        "\n",
        "\n",
        "\n"
      ],
      "metadata": {
        "id": "vz4h0WDpwILd"
      }
    },
    {
      "cell_type": "code",
      "source": [
        "import numpy as np\n",
        "\n",
        "arr = np.array([1, 2, 3])\n",
        "\n",
        "for x in arr:\n",
        "  print(x)"
      ],
      "metadata": {
        "colab": {
          "base_uri": "https://localhost:8080/"
        },
        "id": "skSCJAZJq6mO",
        "outputId": "1fe191ab-c036-4c9b-b599-a373125fdeb2"
      },
      "execution_count": null,
      "outputs": [
        {
          "output_type": "stream",
          "name": "stdout",
          "text": [
            "1\n",
            "2\n",
            "3\n"
          ]
        }
      ]
    },
    {
      "cell_type": "markdown",
      "source": [
        "🔷 Explanation:\n",
        "import numpy as np: Imports the NumPy library and assigns it the alias np.\n",
        "\n",
        "arr1 = np.array([1, 2, 3]): Creates a NumPy array arr1 with elements [1, 2, 3].\n",
        "\n",
        "arr2 = np.array([4, 5, 6]): Creates another NumPy array arr2 with elements [4, 5, 6].\n",
        "\n",
        "arr = np.concatenate((arr1, arr2)): Joins the two arrays arr1 and arr2 end-to-end into a single array arr.\n",
        "\n",
        "print(arr): Prints the concatenated array.\n",
        "\n",
        "🔷 Output:\n",
        "csharp\n",
        "Copy\n",
        "Edit\n",
        "[1 2 3 4 5 6]\n",
        "✅ Summary:\n",
        "You combined two NumPy arrays into one longer array using np.concatenate.\n",
        "\n",
        "The result is a single array containing all elements from arr1 followed by all elements from arr2."
      ],
      "metadata": {
        "id": "L4u4OhhvwedC"
      }
    },
    {
      "cell_type": "code",
      "source": [
        "import numpy as np\n",
        "\n",
        "arr1 = np.array([1, 2, 3])\n",
        "\n",
        "arr2 = np.array([4, 5, 6])\n",
        "\n",
        "arr = np.concatenate((arr1, arr2))\n",
        "\n",
        "print(arr)\n",
        "\n"
      ],
      "metadata": {
        "colab": {
          "base_uri": "https://localhost:8080/"
        },
        "id": "27D4Hk01rmp-",
        "outputId": "21935df0-14c3-4498-831e-7d64ff69b284"
      },
      "execution_count": null,
      "outputs": [
        {
          "output_type": "stream",
          "name": "stdout",
          "text": [
            "[1 2 3 4 5 6]\n"
          ]
        }
      ]
    },
    {
      "cell_type": "markdown",
      "source": [
        "🧠 What’s Happening in Simple Words:\n",
        "You have a NumPy array (a list of numbers) and you want to filter it — only keep some values, and ignore others.\n",
        "To do that, you use a Boolean mask — a list of True and False values (✅❌).\n",
        "\n",
        "🔍 Step-by-Step Breakdown:\n",
        "NumPy Array Created\n",
        "Imagine you have this array of numbers:\n",
        "\n",
        "csharp\n",
        "Copy\n",
        "Edit\n",
        "[41, 42, 43, 44]\n",
        " ↑   ↑   ↑   ↑\n",
        " 0   1   2   3   ← Index positions\n",
        "Boolean Mask\n",
        "You then create a filter like:\n",
        "\n",
        "graphql\n",
        "Copy\n",
        "Edit\n",
        "[True, False, True, False]\n",
        " ✅     ❌      ✅     ❌\n",
        "True means \"keep this item\"\n",
        "\n",
        "False means \"ignore this one\"\n",
        "\n",
        "Filtering Happens\n",
        "NumPy checks your mask and keeps only the elements where the mask is True:\n",
        "\n",
        "41 is kept (True ✅)\n",
        "\n",
        "42 is skipped (False ❌)\n",
        "\n",
        "43 is kept (True ✅)\n",
        "\n",
        "44 is skipped (False ❌)\n",
        "\n",
        "Result\n",
        "The new list now contains only the values you kept:\n",
        "\n",
        "csharp\n",
        "Copy\n",
        "Edit\n",
        "[41, 43]\n"
      ],
      "metadata": {
        "id": "FlH4CJew2J9m"
      }
    },
    {
      "cell_type": "code",
      "source": [
        "import numpy as np\n",
        "\n",
        "arr = np.array([1, 2, 3, 4, 5, 4, 4])\n",
        "\n",
        "x = np.where(arr == 4)\n",
        "\n",
        "print(x)\n"
      ],
      "metadata": {
        "colab": {
          "base_uri": "https://localhost:8080/"
        },
        "id": "E8Ep0RYmrxGT",
        "outputId": "7c669923-4eb3-4523-843c-558424a2007c"
      },
      "execution_count": null,
      "outputs": [
        {
          "output_type": "stream",
          "name": "stdout",
          "text": [
            "(array([3, 5, 6]),)\n"
          ]
        }
      ]
    },
    {
      "cell_type": "markdown",
      "source": [
        "🧠 What’s Happening Here?\n",
        "You're working with a NumPy array and using the sort() function to organize the numbers in ascending order. 🔢⬆️\n",
        "\n",
        "🔍 Step-by-Step Breakdown:\n",
        "You start with this array:\n",
        "\n",
        "csharp\n",
        "Copy\n",
        "Edit\n",
        "[3, 2, 0, 1]\n",
        " ↑   ↑   ↑   ↑\n",
        "Unsorted numbers\n",
        "Using np.sort():\n",
        "\n",
        "This function creates a new array with the elements sorted.\n",
        "\n",
        "It doesn’t change the original array — it just returns a sorted copy.\n",
        "\n",
        "What happens inside:\n",
        "\n",
        "NumPy checks each number and rearranges them from smallest to largest:\n",
        "\n",
        "css\n",
        "Copy\n",
        "Edit\n",
        "[0, 1, 2, 3]\n",
        " ↑  ↑  ↑  ↑\n",
        "Sorted order ✅\n",
        "✅ Why It's Useful\n",
        "Sorting is a basic but powerful tool in:\n",
        "\n",
        "📊 Data analysis (e.g., sorting test scores)\n",
        "\n",
        "🧠 Machine learning (e.g., ranking predictions)\n",
        "\n",
        "💻 Algorithms (e.g., search optimizations)\n",
        "\n",
        "Want to go deeper into multi-dimensional sorting or descending order? Just ask! 💬\n",
        "\n",
        "\n",
        "\n",
        "\n",
        "\n",
        "\n",
        "\n"
      ],
      "metadata": {
        "id": "qG95-_is2uRD"
      }
    },
    {
      "cell_type": "code",
      "source": [
        "import numpy as np\n",
        "\n",
        "arr = np.array([3, 2, 0, 1])\n",
        "\n",
        "print(np.sort(arr))"
      ],
      "metadata": {
        "colab": {
          "base_uri": "https://localhost:8080/"
        },
        "id": "FGccG1HisJnQ",
        "outputId": "0bba793c-b35a-4be7-a2a9-78827ab559c9"
      },
      "execution_count": null,
      "outputs": [
        {
          "output_type": "stream",
          "name": "stdout",
          "text": [
            "[0 1 2 3]\n"
          ]
        }
      ]
    },
    {
      "cell_type": "code",
      "source": [
        "import numpy as np\n",
        "\n",
        "arr = np.array([41, 42, 43, 44])\n",
        "\n",
        "x = [True, False, True, False]\n",
        "\n",
        "newarr = arr[x]\n",
        "\n",
        "print(newarr)"
      ],
      "metadata": {
        "colab": {
          "base_uri": "https://localhost:8080/"
        },
        "id": "iuCZwSkNsNYD",
        "outputId": "e70eabbd-dd68-4c3a-ef29-7c394cf8df6b"
      },
      "execution_count": null,
      "outputs": [
        {
          "output_type": "stream",
          "name": "stdout",
          "text": [
            "[41 43]\n"
          ]
        }
      ]
    },
    {
      "cell_type": "code",
      "source": [
        "import matplotlib"
      ],
      "metadata": {
        "id": "wiO2nn1WsRd-"
      },
      "execution_count": null,
      "outputs": []
    },
    {
      "cell_type": "markdown",
      "source": [
        "🛠️ Check Matplotlib Version\n",
        "import matplotlib — Imports the Matplotlib library.\n",
        "\n",
        "print(matplotlib.__version__) — Prints the version number of Matplotlib installed on your system.\n",
        "\n",
        "Why is this useful?\n",
        "Knowing the version helps you ensure compatibility with your code or troubleshoot issues. For example, some features may only be available in newer versions. 🆕🛠️"
      ],
      "metadata": {
        "id": "y8IYv7MV8w7N"
      }
    },
    {
      "cell_type": "code",
      "source": [
        "import matplotlib\n",
        "\n",
        "print(matplotlib.__version__)\n"
      ],
      "metadata": {
        "colab": {
          "base_uri": "https://localhost:8080/"
        },
        "id": "k_d_GeKSsn2f",
        "outputId": "f35a80cb-fdba-440c-e832-6ef794b947c1"
      },
      "execution_count": null,
      "outputs": [
        {
          "output_type": "stream",
          "name": "stdout",
          "text": [
            "3.10.0\n"
          ]
        }
      ]
    },
    {
      "cell_type": "code",
      "source": [
        "import matplotlib.pyplot as plt"
      ],
      "metadata": {
        "id": "v_XTD0UxssMr"
      },
      "execution_count": null,
      "outputs": []
    },
    {
      "cell_type": "markdown",
      "source": [
        "📈 Plotting a Line Between Two Points\n",
        "1. 📦 Import Libraries\n",
        "matplotlib.pyplot as plt for plotting.\n",
        "\n",
        "numpy as np for array handling.\n",
        "\n",
        "2. 📍 Define Points\n",
        "xpoints = np.array([0, 6]) — x-coordinates of two points.\n",
        "\n",
        "ypoints = np.array([0, 250]) — y-coordinates of two points.\n",
        "\n",
        "3. 🔗 Plot Line\n",
        "plt.plot(xpoints, ypoints) draws a line connecting (0,0) to (6,250).\n",
        "\n",
        "4. 👀 Show Plot\n",
        "plt.show() displays the graph.\n",
        "\n",
        "Summary:\n",
        "Step\tDescription\n",
        "np.array\tCreates arrays for x and y points\n",
        "plt.plot(xpoints, ypoints)\tPlots a line connecting the points\n",
        "plt.show()\tDisplays the plot window\n",
        "\n"
      ],
      "metadata": {
        "id": "x48Uyg3l8hsZ"
      }
    },
    {
      "cell_type": "code",
      "source": [
        "import matplotlib.pyplot as plt\n",
        "import numpy as np\n",
        "\n",
        "xpoints = np.array([0, 6])\n",
        "ypoints = np.array([0, 250])\n",
        "\n",
        "plt.plot(xpoints, ypoints)\n",
        "plt.show()"
      ],
      "metadata": {
        "colab": {
          "base_uri": "https://localhost:8080/",
          "height": 430
        },
        "id": "9qMQP_KLs2j6",
        "outputId": "42a5b208-a766-4709-cdff-a6654a0286ed"
      },
      "execution_count": null,
      "outputs": [
        {
          "output_type": "display_data",
          "data": {
            "text/plain": [
              "<Figure size 640x480 with 1 Axes>"
            ],
            "image/png": "[encoded data removed]"
          },
          "metadata": {}
        }
      ]
    },
    {
      "cell_type": "markdown",
      "source": [
        "📈 Simple Line Plot with Matplotlib\n",
        "1. 📦 Import Libraries\n",
        "matplotlib.pyplot as plt — for plotting.\n",
        "\n",
        "numpy as np — for working with arrays.\n",
        "\n",
        "2. 🧮 Data Points\n",
        "xpoints = np.array([1, 8]) — x-coordinates of points.\n",
        "\n",
        "ypoints = np.array([3, 10]) — y-coordinates of points.\n",
        "\n",
        "3. 🔗 Plot the Line\n",
        "python\n",
        "Copy\n",
        "Edit\n",
        "plt.plot(xpoints, ypoints)\n",
        "Draws a line connecting points (1, 3) and (8, 10).\n",
        "\n",
        "4. 👀 Show the Plot\n",
        "python\n",
        "Copy\n",
        "Edit\n",
        "plt.show()\n",
        "Displays the plot window.\n",
        "\n",
        "Summary Table\n",
        "Step\tExplanation\n",
        "np.array\tCreate x and y coordinate arrays\n",
        "plt.plot(xpoints, ypoints)\tPlot a line connecting points\n",
        "plt.show()\tDisplay the graph"
      ],
      "metadata": {
        "id": "bPlkIBt88BdT"
      }
    },
    {
      "cell_type": "code",
      "source": [
        "import matplotlib.pyplot as plt\n",
        "import numpy as np\n",
        "\n",
        "xpoints = np.array([1, 8])\n",
        "ypoints = np.array([3, 10])\n",
        "\n",
        "plt.plot(xpoints, ypoints)\n",
        "plt.show()"
      ],
      "metadata": {
        "colab": {
          "base_uri": "https://localhost:8080/",
          "height": 430
        },
        "id": "mjU6cOrqs5sN",
        "outputId": "eb012db0-23c4-4d31-e045-dd9d3c5df054"
      },
      "execution_count": null,
      "outputs": [
        {
          "output_type": "display_data",
          "data": {
            "text/plain": [
              "<Figure size 640x480 with 1 Axes>"
            ],
            "image/png": "[encoded data removed]"
          },
          "metadata": {}
        }
      ]
    },
    {
      "cell_type": "markdown",
      "source": [
        "📉 Plotting Points with Markers Using Matplotlib\n",
        "1. 📦 Import Libraries\n",
        "matplotlib.pyplot as plt — for plotting.\n",
        "\n",
        "numpy as np — for working with arrays.\n",
        "\n",
        "2. 📊 Data\n",
        "ypoints = np.array([3, 8, 1, 10]) — y-values for the plot.\n",
        "\n",
        "x-values default to indices [0, 1, 2, 3].\n",
        "\n",
        "3. 🔹 Plot with Markers\n",
        "python\n",
        "Copy\n",
        "Edit\n",
        "plt.plot(ypoints, marker='o')\n",
        "Plots the data points connected by a line.\n",
        "\n",
        "Each data point is marked with a circle (o) marker.\n",
        "\n",
        "This helps highlight the exact points on the plot.\n",
        "\n",
        "4. 👀 Show Plot\n",
        "python\n",
        "Copy\n",
        "Edit\n",
        "plt.show()\n",
        "Displays the plot window.\n",
        "\n",
        "Summary:\n",
        "Step\tDescription\n",
        "np.array\tCreates an array of y-values\n",
        "plt.plot(..., marker='o')\tPlots points with circle markers\n",
        "plt.show()\tShows the plot"
      ],
      "metadata": {
        "id": "EnP_Zqo27ys-"
      }
    },
    {
      "cell_type": "code",
      "source": [
        "import matplotlib.pyplot as plt\n",
        "import numpy as np\n",
        "\n",
        "ypoints = np.array([3, 8, 1, 10])\n",
        "\n",
        "plt.plot(ypoints, marker = 'o')\n",
        "plt.show()\n"
      ],
      "metadata": {
        "colab": {
          "base_uri": "https://localhost:8080/",
          "height": 430
        },
        "id": "cPEbUb2gtWuv",
        "outputId": "bab93623-7814-44a0-d5e4-6ae95f8858f8"
      },
      "execution_count": null,
      "outputs": [
        {
          "output_type": "display_data",
          "data": {
            "text/plain": [
              "<Figure size 640x480 with 1 Axes>"
            ],
            "image/png": "[encoded data removed]"
          },
          "metadata": {}
        }
      ]
    },
    {
      "cell_type": "markdown",
      "source": [
        "📉 Plotting a Dotted Line with Matplotlib\n",
        "1. 📦 Importing Libraries\n",
        "matplotlib.pyplot as plt — for plotting.\n",
        "\n",
        "numpy as np — for handling arrays.\n",
        "\n",
        "2. 📊 Data\n",
        "ypoints = np.array([3, 8, 1, 10]) — y-values to plot.\n",
        "\n",
        "The x-values are automatically set to [0, 1, 2, 3] (indices of ypoints).\n",
        "\n",
        "3. 🔸 Plotting\n",
        "python\n",
        "Copy\n",
        "Edit\n",
        "plt.plot(ypoints, linestyle='dotted')\n",
        "Plots the points with a dotted line connecting them.\n",
        "\n",
        "linestyle='dotted' makes the line appear as dots instead of a solid line.\n",
        "\n",
        "4. 👀 Show Plot\n",
        "python\n",
        "Copy\n",
        "Edit\n",
        "plt.show()\n",
        "Displays the plot window.\n",
        "\n",
        "Summary:\n",
        "Step\tExplanation\n",
        "np.array\tCreate y-points array\n",
        "plt.plot(..., linestyle='dotted')\tPlot points with dotted line style\n",
        "plt.show()\tDisplay the graph\n",
        "\n"
      ],
      "metadata": {
        "id": "JOmFcCRQ7i1z"
      }
    },
    {
      "cell_type": "code",
      "source": [
        "import matplotlib.pyplot as plt\n",
        "import numpy as np\n",
        "\n",
        "ypoints = np.array([3, 8, 1, 10])\n",
        "\n",
        "plt.plot(ypoints, linestyle = 'dotted')\n",
        "plt.show()\n"
      ],
      "metadata": {
        "colab": {
          "base_uri": "https://localhost:8080/",
          "height": 430
        },
        "id": "c-U_CSc1tdIO",
        "outputId": "c0e0f118-8fc0-433b-a587-d07b1b35ad59"
      },
      "execution_count": null,
      "outputs": [
        {
          "output_type": "display_data",
          "data": {
            "text/plain": [
              "<Figure size 640x480 with 1 Axes>"
            ],
            "image/png": "[encoded data removed]"
          },
          "metadata": {}
        }
      ]
    },
    {
      "cell_type": "markdown",
      "source": [
        "📈 Line Plot of Sports Data — Explained\n",
        "1. 📦 Importing Modules\n",
        "numpy (np) for handling arrays.\n",
        "\n",
        "matplotlib.pyplot (plt) for plotting.\n",
        "\n",
        "2. 🧮 Data Arrays\n",
        "x: Average Pulse rates (heartbeats per minute).\n",
        "\n",
        "y: Corresponding Calories Burned.\n",
        "\n",
        "3. 📊 Plotting the Data\n",
        "plt.plot(x, y) creates a line graph connecting the points (x[i], y[i]).\n",
        "\n",
        "4. 📝 Labeling the Axes\n",
        "plt.xlabel(\"Average Pulse\") labels the x-axis.\n",
        "\n",
        "plt.ylabel(\"Calorie Burnage\") labels the y-axis.\n",
        "(Small note: “Calorie Burnage” can be changed to “Calorie Burn” for clarity.)\n",
        "\n",
        "5. 👀 Display the Plot\n",
        "plt.show() renders the plot on the screen.\n",
        "\n",
        "Summary Table\n",
        "Step\tDescription\n",
        "x, y\tData points for pulse and calories\n",
        "plt.plot()\tDraws the line graph\n",
        "plt.xlabel()\tLabels x-axis\n",
        "plt.ylabel()\tLabels y-axis\n",
        "plt.show()\tDisplays the plot"
      ],
      "metadata": {
        "id": "Xj5CdLuN7RlH"
      }
    },
    {
      "cell_type": "code",
      "source": [
        "import numpy as np\n",
        "import matplotlib.pyplot as plt\n",
        "\n",
        "x = np.array([80, 85, 90, 95, 100, 105, 110, 115, 120, 125])\n",
        "y = np.array([240, 250, 260, 270, 280, 290, 300, 310, 320, 330])\n",
        "\n",
        "plt.plot(x, y)\n",
        "\n",
        "plt.xlabel(\"Average Pulse\")\n",
        "plt.ylabel(\"Calorie Burnage\")\n",
        "\n",
        "plt.show()"
      ],
      "metadata": {
        "colab": {
          "base_uri": "https://localhost:8080/",
          "height": 449
        },
        "id": "R9GNqTh0tjEh",
        "outputId": "9afa22f0-bc2e-4927-fbf3-1d40c9b41b90"
      },
      "execution_count": null,
      "outputs": [
        {
          "output_type": "display_data",
          "data": {
            "text/plain": [
              "<Figure size 640x480 with 1 Axes>"
            ],
            "image/png": "[encoded data removed]"
          },
          "metadata": {}
        }
      ]
    },
    {
      "cell_type": "markdown",
      "source": [
        "🏃‍♂️ Sports Watch Data Plot Explained Step-by-Step\n",
        "1. 📦 Import Libraries\n",
        "numpy as np — for handling numerical data arrays.\n",
        "\n",
        "matplotlib.pyplot as plt — for plotting graphs.\n",
        "\n",
        "2. 📊 Data Preparation\n",
        "x stores Average Pulse rates (heartbeats per minute).\n",
        "\n",
        "y stores corresponding Calories Burned during sports activity.\n",
        "\n",
        "Example pairs:\n",
        "\n",
        "Pulse 80 → Burned 240 calories\n",
        "\n",
        "Pulse 125 → Burned 330 calories\n",
        "\n",
        "3. 📝 Adding Titles and Labels\n",
        "python\n",
        "Copy\n",
        "Edit\n",
        "plt.title(\"Sports Watch Data\")\n",
        "plt.xlabel(\"Average Pulse\")\n",
        "plt.ylabel(\"Calorie Burnage\")\n",
        "plt.title() adds a title to the graph.\n",
        "\n",
        "plt.xlabel() labels the x-axis.\n",
        "\n",
        "plt.ylabel() labels the y-axis.\n",
        "\n",
        "Note: \"Calorie Burnage\" should be \"Calorie Burn\" for better clarity.\n",
        "\n",
        "4. 📈 Plotting the Line Graph\n",
        "python\n",
        "Copy\n",
        "Edit\n",
        "plt.plot(x, y)\n",
        "Draws a line graph connecting the (x, y) points.\n",
        "\n",
        "5. ➕ Adding a Grid\n",
        "python\n",
        "Copy\n",
        "Edit\n",
        "plt.grid()\n",
        "Adds a grid to the background, making the graph easier to read.\n",
        "\n",
        "6. 👀 Display the Graph\n",
        "python\n",
        "Copy\n",
        "Edit\n",
        "plt.show()\n",
        "Shows the final plot.\n",
        "\n",
        "🧠 Summary Table\n",
        "Part\tExplanation\n",
        "x, y\tData arrays for pulse and calories\n",
        "plt.title()\tGraph title\n",
        "plt.xlabel()\tLabel for x-axis\n",
        "plt.ylabel()\tLabel for y-axis\n",
        "plt.plot()\tDraw line graph\n",
        "plt.grid()\tAdd grid lines\n",
        "plt.show()\tDisplay the plot\n",
        "\n",
        "💡 Suggestion\n",
        "Change \"Calorie Burnage\" to \"Calorie Burn\" for a clearer label:\n",
        "\n",
        "python\n",
        "Copy\n",
        "Edit\n",
        "plt.ylabel(\"Calorie Burn\")\n",
        "If you want to:\n",
        "\n",
        "Customize line color or style 🎨\n",
        "\n",
        "Add markers on points 🔵\n",
        "\n",
        "Save the plot as an image 💾"
      ],
      "metadata": {
        "id": "gUie8_SX7EuV"
      }
    },
    {
      "cell_type": "code",
      "source": [
        "import numpy as np\n",
        "import matplotlib.pyplot as plt\n",
        "\n",
        "x = np.array([80, 85, 90, 95, 100, 105, 110, 115, 120, 125])\n",
        "y = np.array([240, 250, 260, 270, 280, 290, 300, 310, 320, 330])\n",
        "\n",
        "plt.title(\"Sports Watch Data\")\n",
        "plt.xlabel(\"Average Pulse\")\n",
        "plt.ylabel(\"Calorie Burnage\")\n",
        "\n",
        "plt.plot(x, y)\n",
        "\n",
        "plt.grid()\n",
        "\n",
        "plt.show()\n"
      ],
      "metadata": {
        "colab": {
          "base_uri": "https://localhost:8080/",
          "height": 472
        },
        "id": "TUFWWfe5tvA8",
        "outputId": "86e830cf-03c1-44bd-b60c-0e35a9d41d87"
      },
      "execution_count": null,
      "outputs": [
        {
          "output_type": "display_data",
          "data": {
            "text/plain": [
              "<Figure size 640x480 with 1 Axes>"
            ],
            "image/png": "[encoded data removed]"
          },
          "metadata": {}
        }
      ]
    },
    {
      "cell_type": "markdown",
      "source": [
        " Creating Multiple Plots with plt.subplot() — Step-by-Step\n",
        "1. 📦 Importing Libraries\n",
        "import matplotlib.pyplot as plt — for plotting graphs\n",
        "\n",
        "import numpy as np — for handling arrays\n",
        "\n",
        "2. 🖼️ What is plt.subplot()?\n",
        "It lets you create multiple plots in one figure.\n",
        "\n",
        "The syntax plt.subplot(rows, columns, plot_number) splits the plotting area into a grid of subplots.\n",
        "\n",
        "You can then plot in each section individually.\n",
        "\n",
        "3. 📊 Plot 1:\n",
        "python\n",
        "Copy\n",
        "Edit\n",
        "x = np.array([0, 1, 2, 3])\n",
        "y = np.array([3, 8, 1, 10])\n",
        "\n",
        "plt.subplot(1, 2, 1)  # 1 row, 2 columns, 1st plot\n",
        "plt.plot(x, y)        # line plot for first set of data\n",
        "Creates the first plot on the left side.\n",
        "\n",
        "Plots points (0,3), (1,8), (2,1), (3,10) as a line.\n",
        "\n",
        "4. 📈 Plot 2:\n",
        "python\n",
        "Copy\n",
        "Edit\n",
        "x = np.array([0, 1, 2, 3])\n",
        "y = np.array([10, 20, 30, 40])\n",
        "\n",
        "plt.subplot(1, 2, 2)  # 1 row, 2 columns, 2nd plot\n",
        "plt.plot(x, y)        # line plot for second set of data\n",
        "Creates the second plot on the right side.\n",
        "\n",
        "Plots points (0,10), (1,20), (2,30), (3,40) as a line.\n",
        "\n",
        "5. 👀 Show Both Plots\n",
        "python\n",
        "Copy\n",
        "Edit\n",
        "plt.show()\n",
        "Displays both line plots side-by-side in one figure window.\n",
        "\n",
        "🔍 Summary Table\n",
        "Step\tExplanation\n",
        "plt.subplot(1, 2, 1)\tDivide figure into 1 row & 2 cols, plot #1\n",
        "plt.plot(x,y)\tPlot first line graph\n",
        "plt.subplot(1, 2, 2)\tMove to second plot area\n",
        "plt.plot(x,y)\tPlot second line graph\n",
        "plt.show()\tShow the combined figure\n",
        "\n",
        "🎯 What You Get:\n",
        "Two line graphs side-by-side for easy comparison!\n",
        "\n",
        "If you want, I can help you add:\n",
        "\n",
        "Titles and axis labels 🏷️\n",
        "\n",
        "Different colors or styles for each plot 🎨\n",
        "\n",
        "More rows and columns for complex layouts ➕\n",
        "\n",
        "Just ask!\n",
        "\n",
        "\n",
        "\n",
        "\n",
        "\n",
        "\n",
        "\n"
      ],
      "metadata": {
        "id": "n1fHZ5rl6qTo"
      }
    },
    {
      "cell_type": "code",
      "source": [
        "import matplotlib.pyplot as plt\n",
        "import numpy as np\n",
        "\n",
        "#plot 1:\n",
        "x = np.array([0, 1, 2, 3])\n",
        "y = np.array([3, 8, 1, 10])\n",
        "\n",
        "plt.subplot(1, 2, 1)\n",
        "plt.plot(x,y)\n",
        "\n",
        "#plot 2:\n",
        "x = np.array([0, 1, 2, 3])\n",
        "y = np.array([10, 20, 30, 40])\n",
        "\n",
        "plt.subplot(1, 2, 2)\n",
        "plt.plot(x,y)\n",
        "\n",
        "plt.show()"
      ],
      "metadata": {
        "colab": {
          "base_uri": "https://localhost:8080/",
          "height": 430
        },
        "id": "SiYOYXxIuEdH",
        "outputId": "4f190c7f-f108-4098-bb2c-a9ed728d7137"
      },
      "execution_count": null,
      "outputs": [
        {
          "output_type": "display_data",
          "data": {
            "text/plain": [
              "<Figure size 640x480 with 2 Axes>"
            ],
            "image/png": "[encoded data removed]"
          },
          "metadata": {}
        }
      ]
    },
    {
      "cell_type": "markdown",
      "source": [
        "🎯 Scatter Plot Code Explained (Step-by-Step)\n",
        "1. 📦 Importing Libraries\n",
        "python\n",
        "Copy\n",
        "Edit\n",
        "import matplotlib.pyplot as plt\n",
        "import numpy as np\n",
        "✅ matplotlib.pyplot is imported as plt for plotting.\n",
        "\n",
        "✅ numpy is imported as np for working with arrays.\n",
        "\n",
        "2. 🧮 Creating the Data\n",
        "python\n",
        "Copy\n",
        "Edit\n",
        "x = np.array([5,7,8,7,2,17,2,9,4,11,12,9,6])\n",
        "y = np.array([99,86,87,88,111,86,103,87,94,78,77,85,86])\n",
        "x and y are paired values — each x[i] has a corresponding y[i].\n",
        "\n",
        "Think of each (x[i], y[i]) as a dot on a graph.\n",
        "\n",
        "Example:\n",
        "\n",
        "(5, 99)\n",
        "\n",
        "(7, 86)\n",
        "\n",
        "(8, 87)\n",
        "\n",
        "… and so on.\n",
        "\n",
        "3. 📍 Plotting the Scatter Plot\n",
        "python\n",
        "Copy\n",
        "Edit\n",
        "plt.scatter(x, y)\n",
        "This draws a scatter plot, placing one dot for each (x, y) pair.\n",
        "\n",
        "Used to show relationships or patterns between two variables.\n",
        "\n",
        "4. 👀 Displaying the Chart\n",
        "python\n",
        "Copy\n",
        "Edit\n",
        "plt.show()\n",
        "This renders the scatter plot in a new window or inline (in notebooks).\n",
        "\n",
        "🔍 What It Shows\n",
        "A plot of dots, each representing a data point:\n",
        "\n",
        "📌 X-axis: custom numerical values\n",
        "\n",
        "📌 Y-axis: values that vary with x\n",
        "\n",
        "It’s great for spotting trends, clusters, or outliers in data.\n",
        "\n",
        "🧠 Summary Table\n",
        "🧩 Component\t🔍 Purpose\n",
        "x, y\tInput arrays for x & y coordinates\n",
        "plt.scatter()\tDraws the scatter plot\n",
        "plt.show()\tDisplays the plot\n",
        "\n",
        "🌟 Want to Customize?\n",
        "Let me know if you want to:\n",
        "\n",
        "Add color or size to the dots 🎨\n",
        "\n",
        "Include titles or axis labels 🏷️\n",
        "\n",
        "Highlight specific points 🔎"
      ],
      "metadata": {
        "id": "vLPotP2k6b8c"
      }
    },
    {
      "cell_type": "code",
      "source": [
        "import matplotlib.pyplot as plt\n",
        "import numpy as np\n",
        "\n",
        "x = np.array([5,7,8,7,2,17,2,9,4,11,12,9,6])\n",
        "y = np.array([99,86,87,88,111,86,103,87,94,78,77,85,86])\n",
        "\n",
        "plt.scatter(x, y)\n",
        "plt.show()"
      ],
      "metadata": {
        "colab": {
          "base_uri": "https://localhost:8080/",
          "height": 430
        },
        "id": "YNdFh0t9uFHp",
        "outputId": "8bb5e152-1701-485a-cef9-8e837b5dedad"
      },
      "execution_count": null,
      "outputs": [
        {
          "output_type": "display_data",
          "data": {
            "text/plain": [
              "<Figure size 640x480 with 1 Axes>"
            ],
            "image/png": "[encoded data removed]"
          },
          "metadata": {}
        }
      ]
    },
    {
      "cell_type": "markdown",
      "source": [
        "📊 Bar Chart Code Explained (Step-by-Step)\n",
        "1. 📦 Importing Libraries\n",
        "python\n",
        "Copy\n",
        "Edit\n",
        "import matplotlib.pyplot as plt\n",
        "import numpy as np\n",
        "✅ matplotlib.pyplot is imported as plt for plotting graphs.\n",
        "\n",
        "✅ numpy is imported as np for creating arrays (though not strictly required here, it's used for consistency and clarity).\n",
        "\n",
        "2. 🧮 Creating Data\n",
        "python\n",
        "Copy\n",
        "Edit\n",
        "x = np.array([\"A\", \"B\", \"C\", \"D\"])\n",
        "y = np.array([3, 8, 1, 10])\n",
        "x contains categories or labels (like names or groups).\n",
        "\n",
        "y contains numeric values corresponding to each category.\n",
        "\n",
        "So:\n",
        "\n",
        "A → 3\n",
        "\n",
        "B → 8\n",
        "\n",
        "C → 1\n",
        "\n",
        "D → 10\n",
        "\n",
        "3. 📊 Plotting the Bar Chart\n",
        "python\n",
        "Copy\n",
        "Edit\n",
        "plt.bar(x, y)\n",
        "This plots a vertical bar chart.\n",
        "\n",
        "Each bar’s height corresponds to the value in y, and its label comes from x.\n",
        "\n",
        "4. 👀 Displaying the Chart\n",
        "python\n",
        "Copy\n",
        "Edit\n",
        "plt.show()\n",
        "This renders and displays the chart.\n",
        "\n",
        "🧠 Summary Table\n",
        "🧩 Component\t🔍 Description\n",
        "x\tCategories/labels for the bars\n",
        "y\tHeights/values for each category\n",
        "plt.bar()\tDraws the vertical bars\n",
        "plt.show()\tDisplays the graph on screen\n",
        "\n",
        "✅ What You’ll See\n",
        "A bar chart with 4 bars:\n",
        "\n",
        "📦 \"A\" at height 3\n",
        "\n",
        "📦 \"B\" at height 8\n",
        "\n",
        "📦 \"C\" at height 1\n",
        "\n",
        "📦 \"D\" at height 10\n",
        "\n",
        "Let me know if you'd like to:\n",
        "\n",
        "Add colors 🎨\n",
        "\n",
        "Add titles and labels 🏷️\n",
        "\n",
        "Plot horizontal bars instead 📉\n",
        "I'm happy to help!"
      ],
      "metadata": {
        "id": "gzrKf5Cs6HyU"
      }
    },
    {
      "cell_type": "code",
      "source": [
        "import matplotlib.pyplot as plt\n",
        "import numpy as np\n",
        "\n",
        "x = np.array([\"A\", \"B\", \"C\", \"D\"])\n",
        "y = np.array([3, 8, 1, 10])\n",
        "\n",
        "plt.bar(x,y)\n",
        "plt.show()"
      ],
      "metadata": {
        "colab": {
          "base_uri": "https://localhost:8080/",
          "height": 430
        },
        "id": "h3Yv5R4JuKhm",
        "outputId": "7d09f0fd-cb0e-4644-c0ee-eebf1e138d8d"
      },
      "execution_count": null,
      "outputs": [
        {
          "output_type": "display_data",
          "data": {
            "text/plain": [
              "<Figure size 640x480 with 1 Axes>"
            ],
            "image/png": "[encoded data removed]"
          },
          "metadata": {}
        }
      ]
    },
    {
      "cell_type": "markdown",
      "source": [
        " Importing NumPy\n",
        "import numpy as np\n",
        "➤ You import the NumPy library as np, which is the standard alias used in Python.\n",
        "\n",
        "2. 🧮 Generating Random Data\n",
        "x = np.random.normal(170, 10, 250)\n",
        "➤ This generates 250 random numbers from a normal (Gaussian) distribution.\n",
        "\n",
        "Here’s what each parameter means:\n",
        "\n",
        "Parameter\tMeaning\n",
        "170\t🧭 Mean (center) of the distribution\n",
        "10\t🎯 Standard deviation (spread)\n",
        "250\t🔢 Number of values to generate\n",
        "\n",
        "So, the values in x are randomly distributed around 170, with most values falling within 10 units above or below.\n",
        "\n",
        "3. 🖨️ Printing the Data\n",
        "print(x)\n",
        "➤ This will print all 250 randomly generated values.\n",
        "➤ You’ll see floating-point numbers, centered around 170, e.g.:\n",
        "\n",
        "python\n",
        "Copy\n",
        "Edit\n",
        "[168.2 173.1 159.8 ... 181.4]\n",
        "Each time you run the code, you'll get different values (unless you set a seed using np.random.seed()).\n",
        "\n",
        "📊 Why Use This?\n",
        "You might use this to:\n",
        "\n",
        "Simulate height data, test scores, etc.\n",
        "\n",
        "Perform statistical analysis\n",
        "\n",
        "Create synthetic datasets for machine learning\n",
        "\n"
      ],
      "metadata": {
        "id": "pVxR5Dcq57xR"
      }
    },
    {
      "cell_type": "code",
      "source": [
        "import numpy as np\n",
        "\n",
        "x = np.random.normal(170, 10, 250)\n",
        "\n",
        "print(x)"
      ],
      "metadata": {
        "colab": {
          "base_uri": "https://localhost:8080/"
        },
        "id": "-DrdpVHauYtm",
        "outputId": "13d2e7be-228f-4df5-b7a4-9c0071ea6f88"
      },
      "execution_count": null,
      "outputs": [
        {
          "output_type": "stream",
          "name": "stdout",
          "text": [
            "[146.60147797 176.23931223 169.67162261 170.24566853 174.99019498\n",
            " 168.73801613 162.89417265 173.89628979 170.53333537 170.28444759\n",
            " 155.95572414 168.75297126 158.29053988 159.09687711 162.01272606\n",
            " 163.86175571 183.37170383 156.62142977 185.68175435 164.59023965\n",
            " 160.61098695 161.58588316 174.47833088 158.96267878 164.3697464\n",
            " 143.85627107 170.5279653  167.14699682 169.87466758 169.68938076\n",
            " 152.43900322 171.67165022 168.40434439 152.77799793 168.3281284\n",
            " 173.70706925 172.84460049 165.24345669 167.1372277  187.05913398\n",
            " 166.29005419 175.65619037 147.43794047 177.07160305 180.40660212\n",
            " 164.05782883 176.20782594 168.80539376 177.0140097  167.56608497\n",
            " 171.26433854 169.60701925 168.56994864 164.83618172 170.49142721\n",
            " 173.46479023 173.67873487 185.56671596 167.95040672 168.05214403\n",
            " 162.37164412 188.18006285 162.72688856 187.77238656 176.40220545\n",
            " 175.35984654 170.99678429 165.0373469  181.93869596 168.88000497\n",
            " 178.44822698 174.85696659 174.23603937 173.98728436 178.08852164\n",
            " 180.65517433 168.98731386 173.07019384 182.98022021 187.74682399\n",
            " 170.32634957 157.99407703 149.7628156  171.44631554 143.94846717\n",
            " 177.44112288 170.24535579 182.68680171 160.80748667 181.65581598\n",
            " 172.06230702 176.87642376 162.74012472 165.82183823 168.38535139\n",
            " 169.4522742  178.86439637 188.19852496 175.27148193 173.57999976\n",
            " 181.25740093 181.84477812 170.70143227 180.7006967  174.20412762\n",
            " 156.64773498 148.3697366  177.53548678 164.3142232  167.2077967\n",
            " 172.38583645 174.38073935 162.49093432 168.15322269 176.14847316\n",
            " 170.64382506 176.5265137  173.59950604 164.5287834  159.03067416\n",
            " 165.94596376 173.22694403 163.46135405 168.94832925 155.31936498\n",
            " 172.19154146 170.7877662  150.92216841 163.62103805 169.22742576\n",
            " 172.84993459 154.79744681 178.49102594 165.84816798 170.47498006\n",
            " 159.9706334  174.25135648 164.1036592  161.29796168 173.11074186\n",
            " 169.36495326 175.81070476 172.95691595 174.11247967 169.28409379\n",
            " 172.91954293 176.73401221 170.04688069 158.26456479 170.65123593\n",
            " 155.40539388 161.33745078 168.42196484 169.03094848 160.39064121\n",
            " 178.34606096 172.58275998 161.07078315 164.9881535  157.54045796\n",
            " 158.22439408 160.36406735 171.98792501 184.88879843 169.17058597\n",
            " 186.87741764 163.7333284  170.88982247 186.03340182 167.67655354\n",
            " 180.0194474  166.66287845 163.3115798  189.9185893  160.49017517\n",
            " 159.5438087  158.3727559  166.48359294 185.97608043 164.29871852\n",
            " 175.66187775 161.06641901 183.47639996 163.48241988 172.6456337\n",
            " 157.89066522 177.36829953 156.0250288  167.22183935 157.813736\n",
            " 170.60875586 176.14510899 159.76608041 188.48422462 136.70536095\n",
            " 179.59239267 156.76104936 161.84907528 193.97002589 184.98334263\n",
            " 163.56808748 152.7639089  185.53804341 179.11847239 171.67851057\n",
            " 139.42613516 173.78470261 169.32133537 167.84143893 160.01493883\n",
            " 175.9420272  171.41198104 180.06871672 158.8105384  160.78702653\n",
            " 149.24329521 159.91807726 183.77881534 164.21028254 165.17785621\n",
            " 175.57345918 163.99287473 164.26130334 156.80891307 177.5138874\n",
            " 167.24167147 174.17630479 162.27916897 180.11943376 182.76466251\n",
            " 166.06723167 183.51347445 180.87136131 159.8309586  168.41473302\n",
            " 166.58378743 181.88704862 162.03590271 167.49801481 178.24950203\n",
            " 188.13534452 188.91511406 162.64685478 169.42664348 165.68762564\n",
            " 171.97518662 162.41648382 185.2773434  171.94517671 184.03534854]\n"
          ]
        }
      ]
    },
    {
      "cell_type": "markdown",
      "source": [
        "📊 Pie Chart Code Explained (Step-by-Step)\n",
        "1. 📦 Importing Required Libraries\n",
        "import matplotlib.pyplot as plt\n",
        "➤ This imports the Matplotlib plotting module, giving it the alias plt — standard practice in Python for plotting visuals.\n",
        "\n",
        "import numpy as np\n",
        "➤ Imports NumPy, a library used for working with arrays and numerical operations.\n",
        "\n",
        "2. 🧮 Creating the Data\n",
        "y = np.array([35, 25, 25, 15])\n",
        "➤ This creates a NumPy array y that represents values for the pie chart.\n",
        "➤ Each number corresponds to a slice of the pie, and their proportion determines the slice size.\n",
        "\n",
        "3. 🥧 Plotting the Pie Chart\n",
        "plt.pie(y)\n",
        "➤ This tells Matplotlib to draw a pie chart using the values in y.\n",
        "➤ It automatically calculates angles and sizes for each slice.\n",
        "\n",
        "4. 👀 Displaying the Chart\n",
        "plt.show()\n",
        "➤ This displays the pie chart in a separate window or inline (in notebooks).\n",
        "➤ Until plt.show() is called, the chart won’t be visible.\n",
        "\n",
        "✅ What You See:\n",
        "A circular pie chart with 4 slices:\n",
        "\n",
        "🟢 35% of the pie\n",
        "\n",
        "🔵 25% of the pie\n",
        "\n",
        "🟠 25% of the pie\n",
        "\n",
        "🔴 15% of the pie\n",
        "\n",
        "(Note: The actual colors are auto-assigned unless specified.)\n",
        "\n",
        "🎯 Summary Table\n",
        "🔧 Step\t💬 What It Does\n",
        "Import\tBrings in Matplotlib & NumPy\n",
        "Data Creation\tSets values for the pie slices\n",
        "plt.pie()\tDraws the pie chart\n",
        "plt.show()\tRenders and displays the visual\n",
        "\n"
      ],
      "metadata": {
        "id": "xPxGnaYA5tLb"
      }
    },
    {
      "cell_type": "code",
      "source": [
        "import matplotlib.pyplot as plt\n",
        "import numpy as np\n",
        "\n",
        "y = np.array([35, 25, 25, 15])\n",
        "\n",
        "plt.pie(y)\n",
        "plt.show()"
      ],
      "metadata": {
        "colab": {
          "base_uri": "https://localhost:8080/",
          "height": 406
        },
        "id": "xVcqVpeIudhS",
        "outputId": "feae089f-b7f7-4316-df0c-ab67f80e51f5"
      },
      "execution_count": null,
      "outputs": [
        {
          "output_type": "display_data",
          "data": {
            "text/plain": [
              "<Figure size 640x480 with 1 Axes>"
            ],
            "image/png": "[encoded data removed]"
          },
          "metadata": {}
        }
      ]
    },
    {
      "cell_type": "markdown",
      "source": [
        "Pandas DataFrame Example Explained\n",
        "1. 📦 Importing Pandas\n",
        "import pandas\n",
        "You’re bringing in the Pandas library, which is used for data analysis and manipulation.\n",
        "\n",
        "✅ Tip: The convention is to write import pandas as pd for brevity.\n",
        "\n",
        "2. 🧮 Creating a Dataset\n",
        "mydataset is a dictionary with:\n",
        "\n",
        "'cars': A list of car brand names.\n",
        "\n",
        "'passings': A list of integers representing some metric (like how many times each car passed a checkpoint).\n",
        "\n",
        "3. 🗂️ Creating a DataFrame\n",
        "pandas.DataFrame(mydataset) turns your dictionary into a DataFrame — a 2D table-like structure.\n",
        "\n",
        "This is like a mini spreadsheet in Python.\n",
        "\n",
        "4. 🖨️ Displaying the Data\n",
        "print(myvar) prints the resulting table:\n",
        "\n",
        "markdown\n",
        "Copy\n",
        "Edit\n",
        "    cars  passings\n",
        "0    BMW         3\n",
        "1  Volvo         7\n",
        "2   Ford         2\n",
        "🔍 Key Components\n",
        "🧩 Part\t💡 Description\n",
        "Columns\t'cars', 'passings' — labels for each column\n",
        "Rows\tIndexed automatically as 0, 1, 2 (default index)\n",
        "Values\tEach cell contains a value (like \"BMW\" or 3)\n",
        "\n",
        "📈 Why Use a DataFrame?\n",
        "It’s perfect for:\n",
        "\n",
        "Analyzing structured data\n",
        "\n",
        "Performing calculations or aggregations\n",
        "\n",
        "Importing/exporting data (CSV, Excel, etc.)\n",
        "\n",
        "Filtering and sorting information\n",
        "\n"
      ],
      "metadata": {
        "id": "4ljJpxZL5ffR"
      }
    },
    {
      "cell_type": "code",
      "source": [
        "import pandas\n",
        "\n",
        "mydataset = {\n",
        "  'cars': [\"BMW\", \"Volvo\", \"Ford\"],\n",
        "  'passings': [3, 7, 2]\n",
        "}\n",
        "\n",
        "myvar = pandas.DataFrame(mydataset)\n",
        "\n",
        "print(myvar)"
      ],
      "metadata": {
        "colab": {
          "base_uri": "https://localhost:8080/"
        },
        "id": "sQo6vdZ1vTAz",
        "outputId": "cb95ba82-2f84-49ff-ac9e-2cfee3a4cf2f"
      },
      "execution_count": null,
      "outputs": [
        {
          "output_type": "stream",
          "name": "stdout",
          "text": [
            "    cars  passings\n",
            "0    BMW         3\n",
            "1  Volvo         7\n",
            "2   Ford         2\n"
          ]
        }
      ]
    },
    {
      "cell_type": "code",
      "source": [
        "import pandas as pd\n",
        "\n",
        "a = [1, 7, 2]\n",
        "\n",
        "myvar = pd.Series(a)\n",
        "\n",
        "print(myvar)"
      ],
      "metadata": {
        "colab": {
          "base_uri": "https://localhost:8080/"
        },
        "id": "fVlgHTSIv47n",
        "outputId": "728c8f38-f1a6-43d8-cf26-85bfdc2a442c"
      },
      "execution_count": null,
      "outputs": [
        {
          "output_type": "stream",
          "name": "stdout",
          "text": [
            "0    1\n",
            "1    7\n",
            "2    2\n",
            "dtype: int64\n"
          ]
        }
      ]
    },
    {
      "cell_type": "markdown",
      "source": [
        " Understanding Your Pandas Code (Step by Step)\n",
        "📦 Importing Pandas\n",
        "\n",
        "import pandas as pd\n",
        "You're importing the powerful Pandas library and giving it a short name pd — a standard practice in the Python community.\n",
        "\n",
        "🧮 Creating a Dictionary\n",
        "\n",
        "The data dictionary holds two keys: \"calories\" and \"duration\", each mapping to a list of numbers.\n",
        "\n",
        "Think of this as column-wise data — like a spreadsheet with headers.\n",
        "\n",
        "🗂️ Creating a DataFrame\n",
        "\n",
        "pd.DataFrame(data) converts the dictionary into a DataFrame.\n",
        "\n",
        "A DataFrame is like a table (rows and columns), perfect for structured data analysis.\n",
        "\n",
        "🖨️ Printing the DataFrame\n",
        "\n",
        "print(df) displays the table:\n",
        "\n",
        "nginx\n",
        "Copy\n",
        "Edit\n",
        " calories  duration\n",
        "0      420        50\n",
        "1      380        40\n",
        "2      390        45"
      ],
      "metadata": {
        "id": "YF6riakp434k"
      }
    },
    {
      "cell_type": "code",
      "source": [
        "import pandas as pd\n",
        "\n",
        "data = {\n",
        "  \"calories\": [420, 380, 390],\n",
        "  \"duration\": [50, 40, 45]\n",
        "}\n",
        "\n",
        "#load data into a DataFrame object:\n",
        "df = pd.DataFrame(data)\n",
        "\n",
        "print(df)"
      ],
      "metadata": {
        "colab": {
          "base_uri": "https://localhost:8080/"
        },
        "id": "yiFQF8Mjv9OZ",
        "outputId": "57ab5023-a64a-49af-8dc8-428b638fbc4c"
      },
      "execution_count": null,
      "outputs": [
        {
          "output_type": "stream",
          "name": "stdout",
          "text": [
            "   calories  duration\n",
            "0       420        50\n",
            "1       380        40\n",
            "2       390        45\n"
          ]
        }
      ]
    },
    {
      "cell_type": "markdown",
      "source": [
        "Great! Here's a **Pythonic explanation** of the list examples you’ve given, without showing the code — just a clear breakdown with emojis and insights:\n",
        "\n",
        "---\n",
        "\n",
        "### 🐍 Python Lists Explained\n",
        "\n",
        "1. **🆕 Empty List**\n",
        "\n",
        "   * This is simply a list with **no elements**.\n",
        "   * It’s like a blank container 🧺, ready to be filled.\n",
        "   * Used when you want to build the list dynamically, e.g., by appending items later.\n",
        "\n",
        "2. **📦 List with Initial Values**\n",
        "\n",
        "   * This is a list **pre-filled** with values (in your case, integers).\n",
        "   * It’s useful when you already know what elements you need to store.\n",
        "   * Each value can be accessed by its **index** (starting from 0).\n",
        "\n",
        "3. **🔀 List with Mixed Types**\n",
        "\n",
        "   * Python lists can store **different data types**: integers, strings, floats, booleans, etc.\n",
        "   * This flexibility makes lists powerful and easy to use for a variety of use cases.\n",
        "   * Example: You can mix `int`, `str`, `float`, and `bool` in a single list — no restrictions!\n",
        "\n",
        "---\n",
        "\n",
        "### 💡 Key Points about Python Lists\n",
        "\n",
        "| ✅ Feature         | 💬 Description                                                 |\n",
        "| ----------------- | -------------------------------------------------------------- |\n",
        "| Dynamic           | Can grow or shrink in size (using `.append()`, `.pop()`, etc.) |\n",
        "| Ordered           | Elements are stored in the order you insert them               |\n",
        "| Mutable           | You can change elements after creation                         |\n",
        "| Supports indexing | Access any element using its index (0-based)                   |\n",
        "| Heterogeneous     | Can hold items of **any type** (even mixed types!)             |\n",
        "\n",
        "---\n",
        "\n",
        "Let me know if you want visualizations, list operations (like slicing, updating, deleting), or real-world examples next! 📘✨\n"
      ],
      "metadata": {
        "id": "Qk023ukm4jfh"
      }
    },
    {
      "cell_type": "code",
      "source": [
        "# Empty list\n",
        "x = []\n",
        "\n",
        "# List with initial values\n",
        "y = [1, 2, 3, 4, 5]\n",
        "\n",
        "# List with mixed types\n",
        "z = [1, \"hello\", 3.14, True]"
      ],
      "metadata": {
        "id": "_IEddP-6wJJO"
      },
      "execution_count": null,
      "outputs": []
    },
    {
      "cell_type": "markdown",
      "source": [
        "📦 Creating a Stack\n",
        "\n",
        "A stack in Python is typically created using a list ([]). It's a Last-In-First-Out (LIFO) structure — the last item added is the first to be removed.\n",
        "\n",
        "🚀 Push Operation\n",
        "\n",
        "You use .append() to add elements to the top of the stack. Each call places a new item on top.\n",
        "\n",
        "🔍 Peek Operation\n",
        "\n",
        "To look at the top element without removing it, use stack[-1]. This is called a peek and is helpful when you just want to check what's on top.\n",
        "\n",
        "🎯 Pop Operation\n",
        "\n",
        ".pop() removes and returns the top element of the stack. This follows the LIFO rule — the most recently added item is removed first.\n",
        "\n",
        "🔄 Stack After Pop\n",
        "\n",
        "After popping, the top element is gone, and the rest of the stack shifts accordingly.\n",
        "\n",
        "❓ isEmpty Check\n",
        "\n",
        "not bool(stack) is a Pythonic way to check if the stack is empty. If it’s empty, bool(stack) is False, so not makes it True.\n",
        "\n",
        "📏 Size of Stack\n",
        "\n",
        "Use len(stack) to get the number of elements in the stack.\n",
        "\n"
      ],
      "metadata": {
        "id": "ybFFbP6R4RJv"
      }
    },
    {
      "cell_type": "code",
      "source": [
        "stack = []\n",
        "\n",
        "# Push\n",
        "stack.append('A')\n",
        "stack.append('B')\n",
        "stack.append('C')\n",
        "print(\"Stack: \", stack)\n",
        "\n",
        "# Peek\n",
        "topElement = stack[-1]\n",
        "print(\"Peek: \", topElement)\n",
        "\n",
        "# Pop\n",
        "poppedElement = stack.pop()\n",
        "print(\"Pop: \", poppedElement)\n",
        "\n",
        "# Stack after Pop\n",
        "print(\"Stack after Pop: \", stack)\n",
        "\n",
        "# isEmpty\n",
        "isEmpty = not bool(stack)\n",
        "print(\"isEmpty: \", isEmpty)\n",
        "\n",
        "# Size\n",
        "print(\"Size: \",len(stack))"
      ],
      "metadata": {
        "colab": {
          "base_uri": "https://localhost:8080/"
        },
        "id": "lpeiWb6wwflb",
        "outputId": "83f8b914-e589-4f13-aa5e-92a680502aed"
      },
      "execution_count": null,
      "outputs": [
        {
          "output_type": "stream",
          "name": "stdout",
          "text": [
            "Stack:  ['A', 'B', 'C']\n",
            "Peek:  C\n",
            "Pop:  C\n",
            "Stack after Pop:  ['A', 'B']\n",
            "isEmpty:  False\n",
            "Size:  2\n"
          ]
        }
      ]
    },
    {
      "cell_type": "markdown",
      "source": [
        "Operations demonstrated:\n",
        "Enqueue (Add elements):\n",
        "Using append(), items 'A', 'B', and 'C' are added to the end of the queue.\n",
        "\n",
        "Peek (View front element):\n",
        "Access the first element queue[0] without removing it.\n",
        "\n",
        "Dequeue (Remove element):\n",
        "Using pop(0) to remove and return the first element, simulating dequeue behavior.\n",
        "\n",
        "isEmpty (Check if queue is empty):\n",
        "Using not bool(queue) to check if the queue has no elements.\n",
        "\n",
        "Size (Count elements):\n",
        "Using len(queue) to get the current number of elements in the queue.\n",
        "\n"
      ],
      "metadata": {
        "id": "Glin6d_O-ItW"
      }
    },
    {
      "cell_type": "code",
      "source": [
        "queue = []\n",
        "\n",
        "# Enqueue\n",
        "queue.append('A')\n",
        "queue.append('B')\n",
        "queue.append('C')\n",
        "print(\"Queue: \", queue)\n",
        "\n",
        "# Peek\n",
        "frontElement = queue[0]\n",
        "print(\"Peek: \", frontElement)\n",
        "\n",
        "# Dequeue\n",
        "poppedElement = queue.pop(0)\n",
        "print(\"Dequeue: \", poppedElement)\n",
        "\n",
        "print(\"Queue after Dequeue: \", queue)\n",
        "\n",
        "# isEmpty\n",
        "isEmpty = not bool(queue)\n",
        "print(\"isEmpty: \", isEmpty)\n",
        "\n",
        "# Size\n",
        "print(\"Size: \", len(queue))"
      ],
      "metadata": {
        "colab": {
          "base_uri": "https://localhost:8080/"
        },
        "id": "U7BSQCDDwuUV",
        "outputId": "d5f220ed-1fd9-439c-d57b-3f819be80414"
      },
      "execution_count": null,
      "outputs": [
        {
          "output_type": "stream",
          "name": "stdout",
          "text": [
            "Queue:  ['A', 'B', 'C']\n",
            "Peek:  A\n",
            "Dequeue:  A\n",
            "Queue after Dequeue:  ['B', 'C']\n",
            "isEmpty:  False\n",
            "Size:  2\n"
          ]
        }
      ]
    },
    {
      "cell_type": "markdown",
      "source": [
        "🔗 Singly Linked List in Python\n",
        "This code defines a simple singly linked list structure with node traversal and printing.\n",
        "\n",
        "How it works:\n",
        "Node class:\n",
        "Each node stores:\n",
        "\n",
        "data: the value (e.g., 7, 11, etc.)\n",
        "\n",
        "next: a reference to the next node (or None if it’s the last node)\n",
        "\n",
        "Linked structure:\n",
        "Nodes are linked by assigning each node’s next pointer to the following node.\n",
        "\n",
        "Traversal & Printing:\n",
        "The traverseAndPrint function walks through the list starting at head, printing each node’s data followed by \" -> \". After the last node, it prints \"null\" to signify the list end.\n",
        "\n"
      ],
      "metadata": {
        "id": "lWvVusg097eD"
      }
    },
    {
      "cell_type": "code",
      "source": [
        "class Node:\n",
        "  def __init__(self, data):\n",
        "    self.data = data\n",
        "    self.next = None\n",
        "\n",
        "def traverseAndPrint(head):\n",
        "  currentNode = head\n",
        "  while currentNode:\n",
        "    print(currentNode.data, end=\" -> \")\n",
        "    currentNode = currentNode.next\n",
        "  print(\"null\")\n",
        "\n",
        "node1 = Node(7)\n",
        "node2 = Node(11)\n",
        "node3 = Node(3)\n",
        "node4 = Node(2)\n",
        "node5 = Node(9)\n",
        "\n",
        "node1.next = node2\n",
        "node2.next = node3\n",
        "node3.next = node4\n",
        "node4.next = node5\n"
      ],
      "metadata": {
        "id": "9GiBOq3_wzXq"
      },
      "execution_count": null,
      "outputs": []
    },
    {
      "cell_type": "markdown",
      "source": [
        "🔐 Simple Hash Function in Python\n",
        "This function demonstrates a basic way to convert a string value into a numeric hash code.\n",
        "\n",
        "How it works:\n",
        "🧮 Sum of character codes:\n",
        "The function loops through each character in the input string (value), converts it to its ASCII code using ord(char), and adds it to a running total (sum_of_chars).\n",
        "\n",
        "🔢 Modulo operation:\n",
        "It then takes the sum and applies the modulo operator % 10 to get a hash code between 0 and 9. This ensures the hash code fits within a fixed range (like a bucket index in a hash table).\n",
        "\n",
        "Example:\n",
        "python\n",
        "Copy\n",
        "Edit\n",
        "hash_function('Bob')\n",
        "'B' → ASCII 66\n",
        "\n",
        "'o' → ASCII 111\n",
        "\n",
        "'b' → ASCII 98\n",
        "\n",
        "Sum = 66 + 111 + 98 = 275\n",
        "\n",
        "Hash code = 275 % 10 = 5\n",
        "\n",
        "Output:\n",
        "bash\n",
        "Copy\n",
        "Edit\n",
        "'Bob' has hash code: 5\n",
        "Notes:\n",
        "This is a very basic hash function useful for educational purposes.\n",
        "\n",
        "Real-world hash functions (like those used in Python dictionaries) are more complex to reduce collisions and ensure even distribution. ⚙️\n",
        "\n"
      ],
      "metadata": {
        "id": "EWKqVsoO9mhJ"
      }
    },
    {
      "cell_type": "code",
      "source": [
        "def hash_function(value):\n",
        "  sum_of_chars = 0\n",
        "  for char in value:\n",
        "    sum_of_chars += ord(char)\n",
        "\n",
        "  return sum_of_chars % 10\n",
        "\n",
        "print(\"'Bob' has hash code:\", hash_function('Bob'))"
      ],
      "metadata": {
        "colab": {
          "base_uri": "https://localhost:8080/"
        },
        "id": "z-IDnnwdw-Dc",
        "outputId": "d54d0d0c-129e-4cf5-c8f6-4b4191a7b802"
      },
      "execution_count": null,
      "outputs": [
        {
          "output_type": "stream",
          "name": "stdout",
          "text": [
            "'Bob' has hash code: 5\n"
          ]
        }
      ]
    },
    {
      "cell_type": "markdown",
      "source": [
        "🌳 Binary Search Tree (BST) Implementation in Python\n",
        "This code defines a simple Binary Search Tree structure using a TreeNode class and performs an in-order traversal to print the node values in sorted order.\n",
        "\n",
        "Key Points:\n",
        "TreeNode class:\n",
        "Represents each node in the BST with:\n",
        "\n",
        "data: node value\n",
        "\n",
        "left: left child (smaller values)\n",
        "\n",
        "right: right child (larger values)\n",
        "\n",
        "Tree structure setup:\n",
        "The tree is built manually by linking nodes as per BST rules.\n",
        "\n",
        "In-Order Traversal (Left → Root → Right):\n",
        "Recursively visits the left subtree\n",
        "\n",
        "Prints the current node’s data\n",
        "\n",
        "Recursively visits the right subtree\n",
        "\n",
        "This traversal prints values in sorted order for BSTs.\n",
        "\n",
        "Example Tree Structure:\n",
        "markdown\n",
        "Copy\n",
        "Edit\n",
        "        13\n",
        "       /  \\\n",
        "      7    15\n",
        "     / \\   /  \\\n",
        "    3   8 14  19\n",
        "                 /\n",
        "                18\n",
        "Output:\n",
        "Copy\n",
        "Edit\n",
        "3, 7, 8, 13, 14, 15, 18, 19,\n",
        "This is the sorted order of the inserted nodes, as expected from in-order traversal of a BST. ✅\n",
        "\n"
      ],
      "metadata": {
        "id": "qzUZoD4z9SL1"
      }
    },
    {
      "cell_type": "code",
      "source": [
        "class TreeNode:\n",
        "  def __init__(self, data):\n",
        "    self.data = data\n",
        "    self.left = None\n",
        "    self.right = None\n",
        "\n",
        "def inOrderTraversal(node):\n",
        "  if node is None:\n",
        "    return\n",
        "  inOrderTraversal(node.left)\n",
        "  print(node.data, end=\", \")\n",
        "  inOrderTraversal(node.right)\n",
        "\n",
        "root = TreeNode(13)\n",
        "node7 = TreeNode(7)\n",
        "node15 = TreeNode(15)\n",
        "node3 = TreeNode(3)\n",
        "node8 = TreeNode(8)\n",
        "node14 = TreeNode(14)\n",
        "node19 = TreeNode(19)\n",
        "node18 = TreeNode(18)\n",
        "\n",
        "root.left = node7\n",
        "root.right = node15\n",
        "\n",
        "node7.left = node3\n",
        "node7.right = node8\n",
        "\n",
        "node15.left = node14\n",
        "node15.right = node19\n",
        "\n",
        "node19.left = node18\n",
        "\n",
        "# Traverse\n",
        "inOrderTraversal(root)"
      ],
      "metadata": {
        "colab": {
          "base_uri": "https://localhost:8080/"
        },
        "id": "myIaXJ-uyNRi",
        "outputId": "a293c76b-330f-42f0-8ac4-3b88b990dcf0"
      },
      "execution_count": null,
      "outputs": [
        {
          "output_type": "stream",
          "name": "stdout",
          "text": [
            "3, 7, 8, 13, 14, 15, 18, 19, "
          ]
        }
      ]
    },
    {
      "cell_type": "markdown",
      "source": [
        "🌳 AVL Tree with Self-Balancing Rotations Explained\n",
        "This code implements an AVL Tree, a self-balancing binary search tree that keeps its height balanced for efficient operations (search, insert, delete) in O(log n) time.\n",
        "\n",
        "Key Components:\n",
        "TreeNode class:\n",
        "Each node stores:\n",
        "\n",
        "data: the value\n",
        "\n",
        "left, right: child nodes\n",
        "\n",
        "height: height of the node (needed for balancing)\n",
        "\n",
        "Height & Balance:\n",
        "\n",
        "getHeight(node): Returns height, 0 if node is None\n",
        "\n",
        "getBalance(node): Calculates balance factor = height(left) - height(right)\n",
        "\n",
        "Helps detect if the node is unbalanced (balance factor > 1 or < -1)\n",
        "\n",
        "🌀 Rotations to balance the tree:\n",
        "Right Rotate (LL case): Fixes heavy left subtree\n",
        "\n",
        "Left Rotate (RR case): Fixes heavy right subtree\n",
        "\n",
        "Left-Right Rotate (LR case): Left child heavy on right side\n",
        "\n",
        "Right-Left Rotate (RL case): Right child heavy on left side\n",
        "\n",
        "Rotations re-arrange nodes and update heights to restore balance without breaking BST properties.\n",
        "\n",
        "🔨 Insert function:\n",
        "Standard BST insert with recursion\n",
        "\n",
        "After insertion, update height and check balance factor\n",
        "\n",
        "Perform necessary rotations based on balance factor and subtree balances\n",
        "\n",
        "📜 Inorder Traversal:\n",
        "Prints nodes in sorted order (left-root-right)\n",
        "\n",
        "Example run:\n",
        "Inserting letters: ['C', 'B', 'E', 'A', 'D', 'H', 'G', 'F']\n",
        "AVL tree automatically balances after each insert, rotations print messages like:\n",
        "Rotate right on node C or Rotate left on node E\n",
        "Final inorder traversal output (sorted letters):\n",
        "A, B, C, D, E, F, G, H,\n",
        "\n",
        "Why AVL Trees? ⚡\n",
        "Keeps operations balanced and fast\n",
        "\n",
        "Avoids worst-case O(n) degenerate BST cases\n",
        "\n",
        "Useful in databases, indexing, and memory management\n",
        "\n"
      ],
      "metadata": {
        "id": "CocIdWwt84em"
      }
    },
    {
      "cell_type": "code",
      "source": [
        "class TreeNode:\n",
        "  def __init__(self, data):\n",
        "    self.data = data\n",
        "    self.left = None\n",
        "    self.right = None\n",
        "    self.height = 1\n",
        "\n",
        "def getHeight(node):\n",
        "  if not node:\n",
        "    return 0\n",
        "  return node.height\n",
        "\n",
        "def getBalance(node):\n",
        "  if not node:\n",
        "    return 0\n",
        "  return getHeight(node.left) - getHeight(node.right)\n",
        "\n",
        "def rightRotate(y):\n",
        "  print('Rotate right on node',y.data)\n",
        "  x = y.left\n",
        "  T2 = x.right\n",
        "  x.right = y\n",
        "  y.left = T2\n",
        "  y.height = 1 + max(getHeight(y.left), getHeight(y.right))\n",
        "  x.height = 1 + max(getHeight(x.left), getHeight(x.right))\n",
        "  return x\n",
        "\n",
        "def leftRotate(x):\n",
        "  print('Rotate left on node',x.data)\n",
        "  y = x.right\n",
        "  T2 = y.left\n",
        "  y.left = x\n",
        "  x.right = T2\n",
        "  x.height = 1 + max(getHeight(x.left), getHeight(x.right))\n",
        "  y.height = 1 + max(getHeight(y.left), getHeight(y.right))\n",
        "  return y\n",
        "\n",
        "def insert(node, data):\n",
        "  if not node:\n",
        "    return TreeNode(data)\n",
        "\n",
        "  if data < node.data:\n",
        "    node.left = insert(node.left, data)\n",
        "  elif data > node.data:\n",
        "    node.right = insert(node.right, data)\n",
        "\n",
        "  # Update the balance factor and balance the tree\n",
        "  node.height = 1 + max(getHeight(node.left), getHeight(node.right))\n",
        "  balance = getBalance(node)\n",
        "\n",
        "  # Balancing the tree\n",
        "  # Left Left\n",
        "  if balance > 1 and getBalance(node.left) >= 0:\n",
        "    return rightRotate(node)\n",
        "\n",
        "  # Left Right\n",
        "  if balance > 1 and getBalance(node.left) < 0:\n",
        "    node.left = leftRotate(node.left)\n",
        "    return rightRotate(node)\n",
        "\n",
        "  # Right Right\n",
        "  if balance < -1 and getBalance(node.right) <= 0:\n",
        "    return leftRotate(node)\n",
        "\n",
        "  # Right Left\n",
        "  if balance < -1 and getBalance(node.right) > 0:\n",
        "    node.right = rightRotate(node.right)\n",
        "    return leftRotate(node)\n",
        "\n",
        "  return node\n",
        "\n",
        "def inOrderTraversal(node):\n",
        "  if node is None:\n",
        "    return\n",
        "  inOrderTraversal(node.left)\n",
        "  print(node.data, end=\", \")\n",
        "  inOrderTraversal(node.right)\n",
        "\n",
        "# Inserting nodes\n",
        "root = None\n",
        "letters = ['C', 'B', 'E', 'A', 'D', 'H', 'G', 'F']\n",
        "for letter in letters:\n",
        "  root = insert(root, letter)\n",
        "\n",
        "inOrderTraversal(root)"
      ],
      "metadata": {
        "colab": {
          "base_uri": "https://localhost:8080/"
        },
        "id": "8GbMZZe_yUer",
        "outputId": "c1440412-5050-4aff-9b42-4b2c21fefd25"
      },
      "execution_count": null,
      "outputs": [
        {
          "output_type": "stream",
          "name": "stdout",
          "text": [
            "Rotate right on node H\n",
            "A, B, C, D, E, F, G, H, "
          ]
        }
      ]
    },
    {
      "cell_type": "markdown",
      "source": [
        "🔍 Binary Search Explained\n",
        "Binary Search is an efficient algorithm to find an element in a sorted list by repeatedly dividing the search interval in half.\n",
        "\n",
        "How it works:\n",
        "Initialize pointers:\n",
        "\n",
        "left at start (0)\n",
        "\n",
        "right at end (length-1)\n",
        "\n",
        "Repeat while search space is valid:\n",
        "\n",
        "Calculate middle index: mid = (left + right) // 2\n",
        "\n",
        "If arr[mid] matches targetVal, return mid (found!)\n",
        "\n",
        "If arr[mid] < targetVal, move left to mid + 1 (search right half)\n",
        "\n",
        "Else, move right to mid - 1 (search left half)\n",
        "\n",
        "If not found, return -1\n",
        "\n"
      ],
      "metadata": {
        "id": "XcMikaFV8obP"
      }
    },
    {
      "cell_type": "code",
      "source": [
        "def binarySearch(arr, targetVal):\n",
        "  left = 0\n",
        "  right = len(arr) - 1\n",
        "\n",
        "  while left <= right:\n",
        "    mid = (left + right) // 2\n",
        "\n",
        "    if arr[mid] == targetVal:\n",
        "      return mid\n",
        "\n",
        "    if arr[mid] < targetVal:\n",
        "      left = mid + 1\n",
        "    else:\n",
        "      right = mid - 1\n",
        "\n",
        "  return -1\n",
        "\n",
        "mylist = [1, 3, 5, 7, 9, 11, 13, 15, 17, 19]\n",
        "x = 11\n",
        "\n",
        "result = binarySearch(mylist, x)\n",
        "\n",
        "if result != -1:\n",
        "  print(\"Found at index\", result)\n",
        "else:\n",
        "  print(\"Not found\")"
      ],
      "metadata": {
        "colab": {
          "base_uri": "https://localhost:8080/"
        },
        "id": "v6uQb2I5ytTF",
        "outputId": "a404c514-ec7b-4f80-c00a-a60efbbb0d28"
      },
      "execution_count": null,
      "outputs": [
        {
          "output_type": "stream",
          "name": "stdout",
          "text": [
            "Found at index 5\n"
          ]
        }
      ]
    },
    {
      "cell_type": "markdown",
      "source": [
        "Step-by-step:\n",
        "🔄 Outer loop:\n",
        "Runs n-1 times to ensure the entire list gets sorted.\n",
        "\n",
        "↔️ Inner loop:\n",
        "Compares adjacent pairs up to the unsorted part (n-i-1), bubbling the largest element to the end each pass.\n",
        "\n",
        "⚖️ Swap condition:\n",
        "If the current element is greater than the next one, swap them.\n",
        "\n",
        "🏁 Result:\n",
        "After all passes, the list is sorted in ascending order.\n",
        "\n",
        "Complexity:\n",
        "Time: O(n²) — inefficient for large datasets.\n",
        "\n",
        "Space: O(1) — sorts in-place.\n",
        "\n"
      ],
      "metadata": {
        "id": "tEhX7TTU8X4N"
      }
    },
    {
      "cell_type": "code",
      "source": [
        "mylist = [64, 34, 25, 12, 22, 11, 90, 5]\n",
        "\n",
        "n = len(mylist)\n",
        "for i in range(n-1):\n",
        "  for j in range(n-i-1):\n",
        "    if mylist[j] > mylist[j+1]:\n",
        "      mylist[j], mylist[j+1] = mylist[j+1], mylist[j]\n",
        "\n",
        "print(mylist)"
      ],
      "metadata": {
        "colab": {
          "base_uri": "https://localhost:8080/"
        },
        "id": "lmGXkGjzy3A4",
        "outputId": "a21f2ae1-1310-43a4-ee08-2c99c6bc0ba1"
      },
      "execution_count": null,
      "outputs": [
        {
          "output_type": "stream",
          "name": "stdout",
          "text": [
            "[5, 11, 12, 22, 25, 34, 64, 90]\n"
          ]
        }
      ]
    },
    {
      "cell_type": "code",
      "source": [
        "mylist = [64, 34, 25, 12, 22, 11, 90, 5]\n",
        "\n",
        "n = len(mylist)\n",
        "for i in range(1,n):\n",
        "  insert_index = i\n",
        "  current_value = mylist.pop(i)\n",
        "  for j in range(i-1, -1, -1):\n",
        "    if mylist[j] > current_value:\n",
        "      insert_index = j\n",
        "  mylist.insert(insert_index, current_value)\n",
        "\n",
        "print(mylist)"
      ],
      "metadata": {
        "colab": {
          "base_uri": "https://localhost:8080/"
        },
        "id": "rt_SMk34y7i8",
        "outputId": "ed19c160-343d-42f9-9e76-e7d134e49dd9"
      },
      "execution_count": null,
      "outputs": [
        {
          "output_type": "stream",
          "name": "stdout",
          "text": [
            "[5, 11, 12, 22, 25, 34, 64, 90]\n"
          ]
        }
      ]
    },
    {
      "cell_type": "markdown",
      "source": [
        "1️⃣ partition function — Divides & Conquers\n",
        "Picks the pivot as the last element of the current sub-array.\n",
        "\n",
        "Moves all elements smaller or equal to the pivot to the left.\n",
        "\n",
        "Places the pivot in its correct sorted position.\n",
        "\n",
        "Returns the pivot index to split the array further.\n",
        "\n",
        "2️⃣ quicksort function — Recursive Sorting\n",
        "If the sub-array has more than one element (low < high), it:\n",
        "\n",
        "Calls partition to place the pivot correctly.\n",
        "\n",
        "Recursively sorts left part (low to pivot_index - 1).\n",
        "\n",
        "Recursively sorts right part (pivot_index + 1 to high).\n",
        "\n"
      ],
      "metadata": {
        "id": "47gQx6Dy75-V"
      }
    },
    {
      "cell_type": "code",
      "source": [
        "def partition(array, low, high):\n",
        "  pivot = array[high]\n",
        "  i = low - 1\n",
        "\n",
        "  for j in range(low, high):\n",
        "     if array[j] <= pivot:\n",
        "       i += 1\n",
        "       array[i], array[j] = array[j], array[i]\n",
        "\n",
        "  array[i+1], array[high] = array[high], array[i+1]\n",
        "  return i+1\n",
        "\n",
        "def quicksort(array, low=0, high=None):\n",
        "  if high is None:\n",
        "    high = len(array) - 1\n",
        "\n",
        "  if low < high:\n",
        "    pivot_index = partition(array, low, high)\n",
        "    quicksort(array, low, pivot_index-1)\n",
        "    quicksort(array, pivot_index+1, high)\n",
        "\n",
        "mylist = [64, 34, 25, 5, 22, 11, 90, 12]\n",
        "quicksort(mylist)\n",
        "print(mylist)"
      ],
      "metadata": {
        "colab": {
          "base_uri": "https://localhost:8080/"
        },
        "id": "QnDZJUGPzPMB",
        "outputId": "a1d36e53-cea3-4755-c4d9-923d21705730"
      },
      "execution_count": null,
      "outputs": [
        {
          "output_type": "stream",
          "name": "stdout",
          "text": [
            "[5, 11, 12, 22, 25, 34, 64, 90]\n"
          ]
        }
      ]
    },
    {
      "cell_type": "markdown",
      "source": [
        "🔍 Find Maximum Value:\n",
        "max_val = max(arr) determines the highest number in the list to set the size of the count array.\n",
        "\n",
        "📊 Initialize Count Array:\n",
        "count = [0] * (max_val + 1) creates a list of zeros where each index represents a possible number from 0 to max_val.\n",
        "\n",
        "🧮 Count Occurrences:\n",
        "The code removes elements one-by-one from the front of arr (pop(0)) and increments the count at the index corresponding to that number.\n",
        "\n",
        "📤 Rebuild Sorted List:\n",
        "Loop through the count array, and for each index i, append i back to arr as many times as it appeared (count[i] times).\n",
        "\n",
        "✅ Return Sorted List:\n",
        "The rebuilt list arr is now sorted and returned.\n",
        "\n",
        "Why Counting Sort?\n",
        "It’s an efficient sorting algorithm for lists with non-negative integers and when the range of numbers (max_val) is not significantly larger than the list size.\n",
        "\n",
        "It runs in O(n + k) time, where n is the number of elements and k is the range of input.\n",
        "\n",
        "🚩 Minor Efficiency Note:\n",
        "Using pop(0) repeatedly is not efficient because it shifts the entire list every time (O(n) per pop).\n",
        "\n",
        "A better approach is to iterate over the list with a simple for loop instead of popping elements.\n",
        "\n",
        "Example Output:\n",
        "python\n",
        "Copy\n",
        "Edit\n",
        "[1, 2, 2, 2, 3, 3, 3, 4, 5, 6, 6]\n",
        "Would you like me to provide an optimized version without pop(0)? 🚀\n",
        "\n",
        "\n",
        "\n",
        "\n",
        "\n",
        "\n",
        "\n",
        "\n",
        "\n"
      ],
      "metadata": {
        "id": "gmeJw9un53Aa"
      }
    },
    {
      "cell_type": "code",
      "source": [
        "def countingSort(arr):\n",
        "  max_val = max(arr)\n",
        "  count = [0] * (max_val + 1)\n",
        "\n",
        "  while len(arr) > 0:\n",
        "    num = arr.pop(0)\n",
        "    count[num] += 1\n",
        "\n",
        "  for i in range(len(count)):\n",
        "    while count[i] > 0:\n",
        "      arr.append(i)\n",
        "      count[i] -= 1\n",
        "\n",
        "  return arr\n",
        "\n",
        "mylist = [4, 2, 2, 6, 3, 3, 1, 6, 5, 2, 3]\n",
        "mysortedlist = countingSort(mylist)\n",
        "print(mysortedlist)"
      ],
      "metadata": {
        "colab": {
          "base_uri": "https://localhost:8080/"
        },
        "id": "8LyES-oRzXGr",
        "outputId": "b5185650-c579-427b-9d60-a1806b0e7816"
      },
      "execution_count": null,
      "outputs": [
        {
          "output_type": "stream",
          "name": "stdout",
          "text": [
            "[1, 2, 2, 2, 3, 3, 3, 4, 5, 6, 6]\n"
          ]
        }
      ]
    },
    {
      "cell_type": "markdown",
      "source": [
        "📋 Initialization:\n",
        "\n",
        "radixArray is a list of 10 empty buckets (for digits 0 through 9).\n",
        "\n",
        "maxVal finds the largest number in the list to determine how many digits to process.\n",
        "\n",
        "exp starts at 1, representing the current digit’s place (units, tens, hundreds, etc.).\n",
        "\n",
        "🔁 Outer Loop:\n",
        "Runs while maxVal // exp > 0, meaning it processes digits from LSD to MSD.\n",
        "\n",
        "📥 Distribute:\n",
        "\n",
        "Inside the loop, it removes (pop()) each number from mylist.\n",
        "\n",
        "Calculates radixIndex by isolating the current digit: (val // exp) % 10.\n",
        "\n",
        "Places the number into the corresponding bucket in radixArray.\n",
        "\n",
        "📤 Collect:\n",
        "\n",
        "For each bucket in radixArray, remove all elements (pop()) and append them back into mylist.\n",
        "\n",
        "This restores mylist with numbers grouped by the current digit.\n",
        "\n",
        "⬆️ Move to Next Digit:\n",
        "Multiply exp by 10 to move to the next digit place (units → tens → hundreds, etc.).\n",
        "\n",
        "✅ Final Output:\n",
        "After all digits are processed, mylist is fully sorted.\n",
        "\n",
        "Why it works:\n",
        "Radix sort processes each digit separately, grouping numbers by their digit values, which eventually results in a fully sorted list without direct comparisons between numbers.\n",
        "\n",
        "🚩 Minor note:\n",
        "Using pop() removes elements from the end of the list, which works here but reverses order within buckets.\n",
        "\n",
        "This is fine for LSD Radix sort but worth noting if stability is a concern in other contexts."
      ],
      "metadata": {
        "id": "_Nh8dJtk5IL-"
      }
    },
    {
      "cell_type": "code",
      "source": [
        "mylist = [170, 45, 75, 90, 802, 24, 2, 66]\n",
        "print(\"Original array:\", mylist)\n",
        "radixArray = [[], [], [], [], [], [], [], [], [], []]\n",
        "maxVal = max(mylist)\n",
        "exp = 1\n",
        "\n",
        "while maxVal // exp > 0:\n",
        "\n",
        "  while len(mylist) > 0:\n",
        "    val = mylist.pop()\n",
        "    radixIndex = (val // exp) % 10\n",
        "    radixArray[radixIndex].append(val)\n",
        "\n",
        "  for bucket in radixArray:\n",
        "    while len(bucket) > 0:\n",
        "      val = bucket.pop()\n",
        "      mylist.append(val)\n",
        "\n",
        "  exp *= 10\n",
        "\n",
        "print(mylist)\n"
      ],
      "metadata": {
        "colab": {
          "base_uri": "https://localhost:8080/"
        },
        "id": "pLMcCk-ZzfMy",
        "outputId": "fa464a79-249c-445b-ef4b-3692200c9b5c"
      },
      "execution_count": null,
      "outputs": [
        {
          "output_type": "stream",
          "name": "stdout",
          "text": [
            "Original array: [170, 45, 75, 90, 802, 24, 2, 66]\n",
            "[2, 24, 45, 66, 75, 90, 170, 802]\n"
          ]
        }
      ]
    },
    {
      "cell_type": "markdown",
      "source": [
        "This implementation of merge sort uses a classic divide-and-conquer strategy:\n",
        "\n",
        "🛑 Base Case:\n",
        "If the list has zero or one element (len(arr) <= 1), it’s already sorted, so return it right away.\n",
        "\n",
        "🔪 Divide:\n",
        "Split the list into two halves at the midpoint (mid = len(arr) // 2).\n",
        "\n",
        "leftHalf gets the first part (arr[:mid])\n",
        "\n",
        "rightHalf gets the second part (arr[mid:])\n",
        "\n",
        "🔄 Conquer:\n",
        "Recursively sort both halves by calling mergeSort on each:\n",
        "\n",
        "sortedLeft = mergeSort(leftHalf)\n",
        "\n",
        "sortedRight = mergeSort(rightHalf)\n",
        "\n",
        "🔗 Combine:\n",
        "The merge function merges these two sorted lists into one sorted list by:\n",
        "\n",
        "Using two pointers (i, j) to traverse left and right\n",
        "\n",
        "Appending the smaller current element to result\n",
        "\n",
        "Extending result with remaining elements once one list is exhausted\n",
        "\n",
        "🎯 Result:\n",
        "Return the fully sorted list and print it.\n",
        "\n"
      ],
      "metadata": {
        "id": "9HzC03le4xy9"
      }
    },
    {
      "cell_type": "code",
      "source": [
        "def mergeSort(arr):\n",
        "  if len(arr) <= 1:\n",
        "    return arr\n",
        "\n",
        "  mid = len(arr) // 2\n",
        "  leftHalf = arr[:mid]\n",
        "  rightHalf = arr[mid:]\n",
        "\n",
        "  sortedLeft = mergeSort(leftHalf)\n",
        "  sortedRight = mergeSort(rightHalf)\n",
        "\n",
        "  return merge(sortedLeft, sortedRight)\n",
        "\n",
        "def merge(left, right):\n",
        "  result = []\n",
        "  i = j = 0\n",
        "\n",
        "  while i < len(left) and j < len(right):\n",
        "    if left[i] < right[j]:\n",
        "      result.append(left[i])\n",
        "      i += 1\n",
        "    else:\n",
        "      result.append(right[j])\n",
        "      j += 1\n",
        "\n",
        "  result.extend(left[i:])\n",
        "  result.extend(right[j:])\n",
        "\n",
        "  return result\n",
        "\n",
        "mylist = [3, 7, 6, -10, 15, 23.5, 55, -13]\n",
        "mysortedlist = mergeSort(mylist)\n",
        "print(\"Sorted array:\", mysortedlist)"
      ],
      "metadata": {
        "colab": {
          "base_uri": "https://localhost:8080/"
        },
        "id": "INzAC0YMz9a6",
        "outputId": "30660c65-9c6c-447b-8053-1fc2adc0c1d5"
      },
      "execution_count": null,
      "outputs": [
        {
          "output_type": "stream",
          "name": "stdout",
          "text": [
            "Sorted array: [-13, -10, 3, 6, 7, 15, 23.5, 55]\n"
          ]
        }
      ]
    },
    {
      "cell_type": "code",
      "source": [
        "import csv\n",
        "\n",
        "# Data to write\n",
        "data = [\n",
        "    [\"Name\", \"Age\", \"City\"],\n",
        "    [\"Alice\", 24, \"New York\"],\n",
        "    [\"Bob\", 30, \"London\"],\n",
        "    [\"Charlie\", 28, \"Paris\"]\n",
        "]\n",
        "\n",
        "# Write to CSV file\n",
        "with open('people.csv', mode='w', newline='') as file:\n",
        "    writer = csv.writer(file)\n",
        "    writer.writerows(data)\n",
        "\n",
        "print(\"import csv\n",
        "\n",
        "# Data to write\n",
        "data = [\n",
        "    [\"Name\", \"Age\", \"City\"],\n",
        "    [\"Alice\", 24, \"New York\"],\n",
        "    [\"Bob\", 30, \"London\"],\n",
        "    [\"Charlie\", 28, \"Paris\"]\n",
        "]\n",
        "\n",
        "# Write to CSV file\n",
        "with open('people.csv', mode='w', newline='') as file:\n",
        "    writer = csv.writer(file)\n",
        "    writer.writerows(data)\n",
        "\n",
        "print(\"CSV file created successfully!\")\n",
        "\")\n"
      ],
      "metadata": {
        "id": "f9HzUV5O0Js8",
        "colab": {
          "base_uri": "https://localhost:8080/",
          "height": 110
        },
        "outputId": "74a8873f-e3e6-4980-e5d3-ade6ca5d1206"
      },
      "execution_count": null,
      "outputs": [
        {
          "output_type": "error",
          "ename": "SyntaxError",
          "evalue": "unterminated string literal (detected at line 16) (<ipython-input-1-144d3e3de019>, line 16)",
          "traceback": [
            "\u001b[0;36m  File \u001b[0;32m\"<ipython-input-1-144d3e3de019>\"\u001b[0;36m, line \u001b[0;32m16\u001b[0m\n\u001b[0;31m    print(\"import csv\u001b[0m\n\u001b[0m          ^\u001b[0m\n\u001b[0;31mSyntaxError\u001b[0m\u001b[0;31m:\u001b[0m unterminated string literal (detected at line 16)\n"
          ]
        }
      ]
    },
    {
      "cell_type": "code",
      "source": [],
      "metadata": {
        "id": "qKZlrsWIruMB"
      },
      "execution_count": null,
      "outputs": []
    }
  ]
}